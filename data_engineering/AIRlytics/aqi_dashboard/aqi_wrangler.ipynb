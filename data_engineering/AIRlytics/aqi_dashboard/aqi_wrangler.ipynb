{
  "cells": [
    {
      "cell_type": "markdown",
      "metadata": {
        "id": "PJ6eW22LJM_n"
      },
      "source": [
        "# Live Air Quality Index (AQI)"
      ]
    },
    {
      "cell_type": "markdown",
      "metadata": {
        "id": "qPXtYV6tLA7v"
      },
      "source": [
        "Sanjeev - Data-Alchemist"
      ]
    },
    {
      "cell_type": "markdown",
      "metadata": {
        "id": "xHx4uFrkJQTE"
      },
      "source": [
        "## Load data"
      ]
    },
    {
      "cell_type": "code",
      "execution_count": 1,
      "metadata": {},
      "outputs": [],
      "source": [
        "#%run ../aqi_dashboard/utils/get_aqi_data.py\n",
        "import os\n",
        "import pandas as pd\n",
        "import utils.queries as q\n",
        "from sqlalchemy import create_engine\n",
        "from dotenv import load_dotenv\n",
        "load_dotenv()\n",
        "\n",
        "user = os.getenv(\"SNOWFLAKE_USER\")\n",
        "password = os.getenv(\"SNOWFLAKE_PASSWORD\")\n",
        "account = os.getenv(\"SNOWFLAKE_ACCOUNT\")\n",
        "warehouse = os.getenv(\"SNOWFLAKE_WAREHOUSE\")\n",
        "database = os.getenv(\"SNOWFLAKE_DATABASE\")\n",
        "schema = os.getenv(\"SNOWFLAKE_SCHEMA\")\n",
        "\n",
        "engine = create_engine(\n",
        "    f'snowflake://{user}:{password}@{account}/{database}/{schema}?warehouse={warehouse}'\n",
        ")"
      ]
    },
    {
      "cell_type": "code",
      "execution_count": 9,
      "metadata": {},
      "outputs": [
        {
          "data": {
            "text/html": [
              "<div>\n",
              "<style scoped>\n",
              "    .dataframe tbody tr th:only-of-type {\n",
              "        vertical-align: middle;\n",
              "    }\n",
              "\n",
              "    .dataframe tbody tr th {\n",
              "        vertical-align: top;\n",
              "    }\n",
              "\n",
              "    .dataframe thead th {\n",
              "        text-align: right;\n",
              "    }\n",
              "</style>\n",
              "<table border=\"1\" class=\"dataframe\">\n",
              "  <thead>\n",
              "    <tr style=\"text-align: right;\">\n",
              "      <th></th>\n",
              "      <th>date_fk</th>\n",
              "      <th>location_fk</th>\n",
              "      <th>aqi</th>\n",
              "      <th>aqi_category</th>\n",
              "      <th>prominent_pollutant</th>\n",
              "      <th>pm10_avg_value</th>\n",
              "      <th>pm25_avg_value</th>\n",
              "      <th>so2_avg_value</th>\n",
              "      <th>no2_avg_value</th>\n",
              "      <th>nh3_avg_value</th>\n",
              "      <th>...</th>\n",
              "      <th>o3_avg_value</th>\n",
              "      <th>country</th>\n",
              "      <th>state</th>\n",
              "      <th>city</th>\n",
              "      <th>station</th>\n",
              "      <th>latitude</th>\n",
              "      <th>longitude</th>\n",
              "      <th>record_ts</th>\n",
              "      <th>aqi_year</th>\n",
              "      <th>aqi_month</th>\n",
              "    </tr>\n",
              "  </thead>\n",
              "  <tbody>\n",
              "    <tr>\n",
              "      <th>0</th>\n",
              "      <td>5277550057657283888</td>\n",
              "      <td>1643226973504317834</td>\n",
              "      <td>124.0</td>\n",
              "      <td>Moderate</td>\n",
              "      <td>CO</td>\n",
              "      <td>13</td>\n",
              "      <td>14</td>\n",
              "      <td>13</td>\n",
              "      <td>7</td>\n",
              "      <td>4</td>\n",
              "      <td>...</td>\n",
              "      <td>9</td>\n",
              "      <td>India</td>\n",
              "      <td>Odisha</td>\n",
              "      <td>Bileipada</td>\n",
              "      <td>Tata Township, Bileipada - OSPCB</td>\n",
              "      <td>22.061567</td>\n",
              "      <td>85.474096</td>\n",
              "      <td>2025-07-07 02:00:00</td>\n",
              "      <td>2025</td>\n",
              "      <td>7</td>\n",
              "    </tr>\n",
              "    <tr>\n",
              "      <th>1</th>\n",
              "      <td>5277550057657283888</td>\n",
              "      <td>5157278151908002754</td>\n",
              "      <td>114.0</td>\n",
              "      <td>Moderate</td>\n",
              "      <td>PM2.5</td>\n",
              "      <td>65</td>\n",
              "      <td>31</td>\n",
              "      <td>26</td>\n",
              "      <td>16</td>\n",
              "      <td>2</td>\n",
              "      <td>...</td>\n",
              "      <td>17</td>\n",
              "      <td>India</td>\n",
              "      <td>Bihar</td>\n",
              "      <td>Bhagalpur</td>\n",
              "      <td>DM Office_Kachari Chowk, Bhagalpur - BSPCB</td>\n",
              "      <td>25.251013</td>\n",
              "      <td>86.989001</td>\n",
              "      <td>2025-07-07 02:00:00</td>\n",
              "      <td>2025</td>\n",
              "      <td>7</td>\n",
              "    </tr>\n",
              "    <tr>\n",
              "      <th>2</th>\n",
              "      <td>5277550057657283888</td>\n",
              "      <td>3464970948614270270</td>\n",
              "      <td>124.0</td>\n",
              "      <td>Moderate</td>\n",
              "      <td>CO</td>\n",
              "      <td>40</td>\n",
              "      <td>24</td>\n",
              "      <td>4</td>\n",
              "      <td>12</td>\n",
              "      <td>4</td>\n",
              "      <td>...</td>\n",
              "      <td>37</td>\n",
              "      <td>India</td>\n",
              "      <td>Maharashtra</td>\n",
              "      <td>Latur</td>\n",
              "      <td>Sawe Wadi, Latur - MPCB</td>\n",
              "      <td>18.399630</td>\n",
              "      <td>76.574520</td>\n",
              "      <td>2025-07-07 02:00:00</td>\n",
              "      <td>2025</td>\n",
              "      <td>7</td>\n",
              "    </tr>\n",
              "    <tr>\n",
              "      <th>3</th>\n",
              "      <td>5277550057657283888</td>\n",
              "      <td>8639546247816176272</td>\n",
              "      <td>174.0</td>\n",
              "      <td>Moderate</td>\n",
              "      <td>CO</td>\n",
              "      <td>23</td>\n",
              "      <td>11</td>\n",
              "      <td>2</td>\n",
              "      <td>12</td>\n",
              "      <td>8</td>\n",
              "      <td>...</td>\n",
              "      <td>24</td>\n",
              "      <td>India</td>\n",
              "      <td>Maharashtra</td>\n",
              "      <td>Kolhapur</td>\n",
              "      <td>Shivaji University, Kolhapur - MPCB</td>\n",
              "      <td>16.687045</td>\n",
              "      <td>74.250587</td>\n",
              "      <td>2025-07-07 02:00:00</td>\n",
              "      <td>2025</td>\n",
              "      <td>7</td>\n",
              "    </tr>\n",
              "    <tr>\n",
              "      <th>4</th>\n",
              "      <td>5277550057657283888</td>\n",
              "      <td>-5283417601327970386</td>\n",
              "      <td>112.0</td>\n",
              "      <td>Moderate</td>\n",
              "      <td>CO</td>\n",
              "      <td>46</td>\n",
              "      <td>39</td>\n",
              "      <td>6</td>\n",
              "      <td>43</td>\n",
              "      <td>3</td>\n",
              "      <td>...</td>\n",
              "      <td>36</td>\n",
              "      <td>India</td>\n",
              "      <td>Chhattisgarh</td>\n",
              "      <td>Korba</td>\n",
              "      <td>Urja Nagar, Korba - CECB</td>\n",
              "      <td>22.348441</td>\n",
              "      <td>82.549611</td>\n",
              "      <td>2025-07-07 02:00:00</td>\n",
              "      <td>2025</td>\n",
              "      <td>7</td>\n",
              "    </tr>\n",
              "  </tbody>\n",
              "</table>\n",
              "<p>5 rows × 21 columns</p>\n",
              "</div>"
            ],
            "text/plain": [
              "               date_fk          location_fk    aqi aqi_category  \\\n",
              "0  5277550057657283888  1643226973504317834  124.0     Moderate   \n",
              "1  5277550057657283888  5157278151908002754  114.0     Moderate   \n",
              "2  5277550057657283888  3464970948614270270  124.0     Moderate   \n",
              "3  5277550057657283888  8639546247816176272  174.0     Moderate   \n",
              "4  5277550057657283888 -5283417601327970386  112.0     Moderate   \n",
              "\n",
              "  prominent_pollutant  pm10_avg_value  pm25_avg_value  so2_avg_value  \\\n",
              "0                  CO              13              14             13   \n",
              "1               PM2.5              65              31             26   \n",
              "2                  CO              40              24              4   \n",
              "3                  CO              23              11              2   \n",
              "4                  CO              46              39              6   \n",
              "\n",
              "   no2_avg_value  nh3_avg_value  ...  o3_avg_value  country         state  \\\n",
              "0              7              4  ...             9    India        Odisha   \n",
              "1             16              2  ...            17    India         Bihar   \n",
              "2             12              4  ...            37    India   Maharashtra   \n",
              "3             12              8  ...            24    India   Maharashtra   \n",
              "4             43              3  ...            36    India  Chhattisgarh   \n",
              "\n",
              "        city                                     station   latitude  \\\n",
              "0  Bileipada            Tata Township, Bileipada - OSPCB  22.061567   \n",
              "1  Bhagalpur  DM Office_Kachari Chowk, Bhagalpur - BSPCB  25.251013   \n",
              "2      Latur                     Sawe Wadi, Latur - MPCB  18.399630   \n",
              "3   Kolhapur         Shivaji University, Kolhapur - MPCB  16.687045   \n",
              "4      Korba                    Urja Nagar, Korba - CECB  22.348441   \n",
              "\n",
              "   longitude           record_ts aqi_year  aqi_month  \n",
              "0  85.474096 2025-07-07 02:00:00     2025          7  \n",
              "1  86.989001 2025-07-07 02:00:00     2025          7  \n",
              "2  76.574520 2025-07-07 02:00:00     2025          7  \n",
              "3  74.250587 2025-07-07 02:00:00     2025          7  \n",
              "4  82.549611 2025-07-07 02:00:00     2025          7  \n",
              "\n",
              "[5 rows x 21 columns]"
            ]
          },
          "execution_count": 9,
          "metadata": {},
          "output_type": "execute_result"
        }
      ],
      "source": [
        "df_aqi_data = pd.read_sql(q.get_latest_aqi_data(), engine)\n",
        "df_aqi_data.head()"
      ]
    },
    {
      "cell_type": "code",
      "execution_count": null,
      "metadata": {},
      "outputs": [
        {
          "name": "stdout",
          "output_type": "stream",
          "text": [
            "Max AQI: 500.0\n"
          ]
        },
        {
          "data": {
            "text/plain": [
              "['Odisha',\n",
              " 'Bihar',\n",
              " 'Maharashtra',\n",
              " 'Chhattisgarh',\n",
              " 'Chandigarh',\n",
              " 'Delhi',\n",
              " 'Rajasthan',\n",
              " 'Uttar_Pradesh',\n",
              " 'Gujarat',\n",
              " 'Punjab',\n",
              " 'Kerala',\n",
              " 'TamilNadu',\n",
              " 'Telangana',\n",
              " 'Himachal Pradesh',\n",
              " 'Karnataka',\n",
              " 'Jammu_and_Kashmir',\n",
              " 'Puducherry',\n",
              " 'Madhya Pradesh',\n",
              " 'Nagaland',\n",
              " 'Andhra_Pradesh',\n",
              " 'Jharkhand',\n",
              " 'Assam',\n",
              " 'Tripura',\n",
              " 'Manipur',\n",
              " 'West_Bengal',\n",
              " 'Uttarakhand',\n",
              " 'Sikkim',\n",
              " 'Haryana',\n",
              " 'Mizoram',\n",
              " 'Meghalaya',\n",
              " 'Arunachal_Pradesh']"
            ]
          },
          "execution_count": 11,
          "metadata": {},
          "output_type": "execute_result"
        }
      ],
      "source": [
        "unique_years = df_aqi_data[\"record_ts\"].dt.year.unique().tolist()\n",
        "unique_years\n",
        "max_aqi = df_aqi_data[df_aqi_data.aqi_month == 7][\"aqi\"].max()\n",
        "print(\"Max AQI:\", max_aqi)\n",
        "month_list = df_aqi_data[\"aqi_month\"].unique().tolist()\n",
        "month_list\n",
        "states = df_aqi_data[\"state\"].unique().tolist()\n",
        "states"
      ]
    },
    {
      "cell_type": "markdown",
      "metadata": {
        "id": "GnY0jA7irX1Z"
      },
      "source": [
        "## Plots"
      ]
    },
    {
      "cell_type": "markdown",
      "metadata": {
        "id": "hRrwBt3skrp1"
      },
      "source": [
        "### Heatmap"
      ]
    },
    {
      "cell_type": "code",
      "execution_count": null,
      "metadata": {
        "colab": {
          "base_uri": "https://localhost:8080/",
          "height": 375
        },
        "id": "Vf8v9OjMku8M",
        "outputId": "901a9b29-439c-4fe3-9a53-0a52ad366a94"
      },
      "outputs": [
        {
          "data": {
            "text/html": [
              "\n",
              "<div id=\"altair-viz-a18ac8bcccb14494af6c01da09381c66\"></div>\n",
              "<script type=\"text/javascript\">\n",
              "  var VEGA_DEBUG = (typeof VEGA_DEBUG == \"undefined\") ? {} : VEGA_DEBUG;\n",
              "  (function(spec, embedOpt){\n",
              "    let outputDiv = document.currentScript.previousElementSibling;\n",
              "    if (outputDiv.id !== \"altair-viz-a18ac8bcccb14494af6c01da09381c66\") {\n",
              "      outputDiv = document.getElementById(\"altair-viz-a18ac8bcccb14494af6c01da09381c66\");\n",
              "    }\n",
              "    const paths = {\n",
              "      \"vega\": \"https://cdn.jsdelivr.net/npm//vega@5?noext\",\n",
              "      \"vega-lib\": \"https://cdn.jsdelivr.net/npm//vega-lib?noext\",\n",
              "      \"vega-lite\": \"https://cdn.jsdelivr.net/npm//vega-lite@4.17.0?noext\",\n",
              "      \"vega-embed\": \"https://cdn.jsdelivr.net/npm//vega-embed@6?noext\",\n",
              "    };\n",
              "\n",
              "    function maybeLoadScript(lib, version) {\n",
              "      var key = `${lib.replace(\"-\", \"\")}_version`;\n",
              "      return (VEGA_DEBUG[key] == version) ?\n",
              "        Promise.resolve(paths[lib]) :\n",
              "        new Promise(function(resolve, reject) {\n",
              "          var s = document.createElement('script');\n",
              "          document.getElementsByTagName(\"head\")[0].appendChild(s);\n",
              "          s.async = true;\n",
              "          s.onload = () => {\n",
              "            VEGA_DEBUG[key] = version;\n",
              "            return resolve(paths[lib]);\n",
              "          };\n",
              "          s.onerror = () => reject(`Error loading script: ${paths[lib]}`);\n",
              "          s.src = paths[lib];\n",
              "        });\n",
              "    }\n",
              "\n",
              "    function showError(err) {\n",
              "      outputDiv.innerHTML = `<div class=\"error\" style=\"color:red;\">${err}</div>`;\n",
              "      throw err;\n",
              "    }\n",
              "\n",
              "    function displayChart(vegaEmbed) {\n",
              "      vegaEmbed(outputDiv, spec, embedOpt)\n",
              "        .catch(err => showError(`Javascript Error: ${err.message}<br>This usually means there's a typo in your chart specification. See the javascript console for the full traceback.`));\n",
              "    }\n",
              "\n",
              "    if(typeof define === \"function\" && define.amd) {\n",
              "      requirejs.config({paths});\n",
              "      require([\"vega-embed\"], displayChart, err => showError(`Error loading script: ${err.message}`));\n",
              "    } else {\n",
              "      maybeLoadScript(\"vega\", \"5\")\n",
              "        .then(() => maybeLoadScript(\"vega-lite\", \"4.17.0\"))\n",
              "        .then(() => maybeLoadScript(\"vega-embed\", \"6\"))\n",
              "        .catch(showError)\n",
              "        .then(() => displayChart(vegaEmbed));\n",
              "    }\n",
              "  })({\"usermeta\": {\"embedOptions\": {\"theme\": \"dark\"}}, \"config\": {\"view\": {\"continuousWidth\": 400, \"continuousHeight\": 300}, \"axis\": {\"labelFontSize\": 12, \"titleFontSize\": 12}}, \"data\": {\"name\": \"data-32bc63e80629128e944e0164825adbe3\"}, \"mark\": \"rect\", \"encoding\": {\"color\": {\"aggregate\": \"max\", \"field\": \"population\", \"legend\": {\"title\": \" \"}, \"scale\": {\"scheme\": \"blueorange\"}, \"type\": \"quantitative\"}, \"stroke\": {\"value\": \"black\"}, \"strokeWidth\": {\"value\": 0.25}, \"x\": {\"axis\": {\"title\": \"States\", \"titleFontSize\": 16, \"titleFontWeight\": 900, \"titlePadding\": 15}, \"field\": \"states\", \"type\": \"ordinal\"}, \"y\": {\"axis\": {\"labelAngle\": 0, \"title\": \"Year\", \"titleFontSize\": 16, \"titleFontWeight\": 900, \"titlePadding\": 15}, \"field\": \"year\", \"type\": \"ordinal\"}}, \"width\": 900, \"$schema\": \"https://vega.github.io/schema/vega-lite/v4.17.0.json\", \"datasets\": {\"data-32bc63e80629128e944e0164825adbe3\": [{\"states\": \"Alabama\", \"states_code\": \"AL\", \"id\": 1, \"year\": 2010, \"population\": 4785437}, {\"states\": \"Alaska\", \"states_code\": \"AK\", \"id\": 2, \"year\": 2010, \"population\": 713910}, {\"states\": \"Arizona\", \"states_code\": \"AZ\", \"id\": 4, \"year\": 2010, \"population\": 6407172}, {\"states\": \"Arkansas\", \"states_code\": \"AR\", \"id\": 5, \"year\": 2010, \"population\": 2921964}, {\"states\": \"California\", \"states_code\": \"CA\", \"id\": 6, \"year\": 2010, \"population\": 37319502}, {\"states\": \"Colorado\", \"states_code\": \"CO\", \"id\": 8, \"year\": 2010, \"population\": 5047349}, {\"states\": \"Connecticut\", \"states_code\": \"CT\", \"id\": 9, \"year\": 2010, \"population\": 3579114}, {\"states\": \"Delaware\", \"states_code\": \"DE\", \"id\": 10, \"year\": 2010, \"population\": 899593}, {\"states\": \"District of Columbia\", \"states_code\": \"DC\", \"id\": 11, \"year\": 2010, \"population\": 605226}, {\"states\": \"Florida\", \"states_code\": \"FL\", \"id\": 12, \"year\": 2010, \"population\": 18845537}, {\"states\": \"Georgia\", \"states_code\": \"GA\", \"id\": 13, \"year\": 2010, \"population\": 9711881}, {\"states\": \"Hawaii\", \"states_code\": \"HI\", \"id\": 15, \"year\": 2010, \"population\": 1363963}, {\"states\": \"Idaho\", \"states_code\": \"ID\", \"id\": 16, \"year\": 2010, \"population\": 1570746}, {\"states\": \"Illinois\", \"states_code\": \"IL\", \"id\": 17, \"year\": 2010, \"population\": 12840503}, {\"states\": \"Indiana\", \"states_code\": \"IN\", \"id\": 18, \"year\": 2010, \"population\": 6490432}, {\"states\": \"Iowa\", \"states_code\": \"IA\", \"id\": 19, \"year\": 2010, \"population\": 3050745}, {\"states\": \"Kansas\", \"states_code\": \"KS\", \"id\": 20, \"year\": 2010, \"population\": 2858190}, {\"states\": \"Kentucky\", \"states_code\": \"KY\", \"id\": 21, \"year\": 2010, \"population\": 4348181}, {\"states\": \"Louisiana\", \"states_code\": \"LA\", \"id\": 22, \"year\": 2010, \"population\": 4544532}, {\"states\": \"Maine\", \"states_code\": \"ME\", \"id\": 23, \"year\": 2010, \"population\": 1327629}, {\"states\": \"Maryland\", \"states_code\": \"MD\", \"id\": 24, \"year\": 2010, \"population\": 5788645}, {\"states\": \"Massachusetts\", \"states_code\": \"MA\", \"id\": 25, \"year\": 2010, \"population\": 6566307}, {\"states\": \"Michigan\", \"states_code\": \"MI\", \"id\": 26, \"year\": 2010, \"population\": 9877510}, {\"states\": \"Minnesota\", \"states_code\": \"MN\", \"id\": 27, \"year\": 2010, \"population\": 5310828}, {\"states\": \"Mississippi\", \"states_code\": \"MS\", \"id\": 28, \"year\": 2010, \"population\": 2970548}, {\"states\": \"Missouri\", \"states_code\": \"MO\", \"id\": 29, \"year\": 2010, \"population\": 5995974}, {\"states\": \"Montana\", \"states_code\": \"MT\", \"id\": 30, \"year\": 2010, \"population\": 990697}, {\"states\": \"Nebraska\", \"states_code\": \"NE\", \"id\": 31, \"year\": 2010, \"population\": 1829542}, {\"states\": \"Nevada\", \"states_code\": \"NV\", \"id\": 32, \"year\": 2010, \"population\": 2702405}, {\"states\": \"New Hampshire\", \"states_code\": \"NH\", \"id\": 33, \"year\": 2010, \"population\": 1316762}, {\"states\": \"New Jersey\", \"states_code\": \"NJ\", \"id\": 34, \"year\": 2010, \"population\": 8799446}, {\"states\": \"New Mexico\", \"states_code\": \"NM\", \"id\": 35, \"year\": 2010, \"population\": 2064552}, {\"states\": \"New York\", \"states_code\": \"NY\", \"id\": 36, \"year\": 2010, \"population\": 19399878}, {\"states\": \"North Carolina\", \"states_code\": \"NC\", \"id\": 37, \"year\": 2010, \"population\": 9574323}, {\"states\": \"North Dakota\", \"states_code\": \"ND\", \"id\": 38, \"year\": 2010, \"population\": 674715}, {\"states\": \"Ohio\", \"states_code\": \"OH\", \"id\": 39, \"year\": 2010, \"population\": 11539336}, {\"states\": \"Oklahoma\", \"states_code\": \"OK\", \"id\": 40, \"year\": 2010, \"population\": 3759944}, {\"states\": \"Oregon\", \"states_code\": \"OR\", \"id\": 41, \"year\": 2010, \"population\": 3837491}, {\"states\": \"Pennsylvania\", \"states_code\": \"PA\", \"id\": 42, \"year\": 2010, \"population\": 12711160}, {\"states\": \"Rhode Island\", \"states_code\": \"RI\", \"id\": 44, \"year\": 2010, \"population\": 1053959}, {\"states\": \"South Carolina\", \"states_code\": \"SC\", \"id\": 45, \"year\": 2010, \"population\": 4635649}, {\"states\": \"South Dakota\", \"states_code\": \"SD\", \"id\": 46, \"year\": 2010, \"population\": 816166}, {\"states\": \"Tennessee\", \"states_code\": \"TN\", \"id\": 47, \"year\": 2010, \"population\": 6355311}, {\"states\": \"Texas\", \"states_code\": \"TX\", \"id\": 48, \"year\": 2010, \"population\": 25241971}, {\"states\": \"Utah\", \"states_code\": \"UT\", \"id\": 49, \"year\": 2010, \"population\": 2775332}, {\"states\": \"Vermont\", \"states_code\": \"VT\", \"id\": 50, \"year\": 2010, \"population\": 625879}, {\"states\": \"Virginia\", \"states_code\": \"VA\", \"id\": 51, \"year\": 2010, \"population\": 8023699}, {\"states\": \"Washington\", \"states_code\": \"WA\", \"id\": 53, \"year\": 2010, \"population\": 6742830}, {\"states\": \"West Virginia\", \"states_code\": \"WV\", \"id\": 54, \"year\": 2010, \"population\": 1854239}, {\"states\": \"Wisconsin\", \"states_code\": \"WI\", \"id\": 55, \"year\": 2010, \"population\": 5690475}, {\"states\": \"Wyoming\", \"states_code\": \"WY\", \"id\": 56, \"year\": 2010, \"population\": 564487}, {\"states\": \"Puerto Rico\", \"states_code\": \"PR\", \"id\": 72, \"year\": 2010, \"population\": 3721525}, {\"states\": \"Alabama\", \"states_code\": \"AL\", \"id\": 1, \"year\": 2011, \"population\": 4799069}, {\"states\": \"Alaska\", \"states_code\": \"AK\", \"id\": 2, \"year\": 2011, \"population\": 722128}, {\"states\": \"Arizona\", \"states_code\": \"AZ\", \"id\": 4, \"year\": 2011, \"population\": 6472643}, {\"states\": \"Arkansas\", \"states_code\": \"AR\", \"id\": 5, \"year\": 2011, \"population\": 2940667}, {\"states\": \"California\", \"states_code\": \"CA\", \"id\": 6, \"year\": 2011, \"population\": 37638369}, {\"states\": \"Colorado\", \"states_code\": \"CO\", \"id\": 8, \"year\": 2011, \"population\": 5121108}, {\"states\": \"Connecticut\", \"states_code\": \"CT\", \"id\": 9, \"year\": 2011, \"population\": 3588283}, {\"states\": \"Delaware\", \"states_code\": \"DE\", \"id\": 10, \"year\": 2011, \"population\": 907381}, {\"states\": \"District of Columbia\", \"states_code\": \"DC\", \"id\": 11, \"year\": 2011, \"population\": 619800}, {\"states\": \"Florida\", \"states_code\": \"FL\", \"id\": 12, \"year\": 2011, \"population\": 19053237}, {\"states\": \"Georgia\", \"states_code\": \"GA\", \"id\": 13, \"year\": 2011, \"population\": 9802431}, {\"states\": \"Hawaii\", \"states_code\": \"HI\", \"id\": 15, \"year\": 2011, \"population\": 1379329}, {\"states\": \"Idaho\", \"states_code\": \"ID\", \"id\": 16, \"year\": 2011, \"population\": 1583910}, {\"states\": \"Illinois\", \"states_code\": \"IL\", \"id\": 17, \"year\": 2011, \"population\": 12867454}, {\"states\": \"Indiana\", \"states_code\": \"IN\", \"id\": 18, \"year\": 2011, \"population\": 6516528}, {\"states\": \"Iowa\", \"states_code\": \"IA\", \"id\": 19, \"year\": 2011, \"population\": 3066336}, {\"states\": \"Kansas\", \"states_code\": \"KS\", \"id\": 20, \"year\": 2011, \"population\": 2869225}, {\"states\": \"Kentucky\", \"states_code\": \"KY\", \"id\": 21, \"year\": 2011, \"population\": 4369821}, {\"states\": \"Louisiana\", \"states_code\": \"LA\", \"id\": 22, \"year\": 2011, \"population\": 4575625}, {\"states\": \"Maine\", \"states_code\": \"ME\", \"id\": 23, \"year\": 2011, \"population\": 1328284}, {\"states\": \"Maryland\", \"states_code\": \"MD\", \"id\": 24, \"year\": 2011, \"population\": 5839419}, {\"states\": \"Massachusetts\", \"states_code\": \"MA\", \"id\": 25, \"year\": 2011, \"population\": 6613583}, {\"states\": \"Michigan\", \"states_code\": \"MI\", \"id\": 26, \"year\": 2011, \"population\": 9882412}, {\"states\": \"Minnesota\", \"states_code\": \"MN\", \"id\": 27, \"year\": 2011, \"population\": 5346143}, {\"states\": \"Mississippi\", \"states_code\": \"MS\", \"id\": 28, \"year\": 2011, \"population\": 2978731}, {\"states\": \"Missouri\", \"states_code\": \"MO\", \"id\": 29, \"year\": 2011, \"population\": 6010275}, {\"states\": \"Montana\", \"states_code\": \"MT\", \"id\": 30, \"year\": 2011, \"population\": 997316}, {\"states\": \"Nebraska\", \"states_code\": \"NE\", \"id\": 31, \"year\": 2011, \"population\": 1840672}, {\"states\": \"Nevada\", \"states_code\": \"NV\", \"id\": 32, \"year\": 2011, \"population\": 2712730}, {\"states\": \"New Hampshire\", \"states_code\": \"NH\", \"id\": 33, \"year\": 2011, \"population\": 1320202}, {\"states\": \"New Jersey\", \"states_code\": \"NJ\", \"id\": 34, \"year\": 2011, \"population\": 8828117}, {\"states\": \"New Mexico\", \"states_code\": \"NM\", \"id\": 35, \"year\": 2011, \"population\": 2080450}, {\"states\": \"New York\", \"states_code\": \"NY\", \"id\": 36, \"year\": 2011, \"population\": 19499241}, {\"states\": \"North Carolina\", \"states_code\": \"NC\", \"id\": 37, \"year\": 2011, \"population\": 9657592}, {\"states\": \"North Dakota\", \"states_code\": \"ND\", \"id\": 38, \"year\": 2011, \"population\": 685225}, {\"states\": \"Ohio\", \"states_code\": \"OH\", \"id\": 39, \"year\": 2011, \"population\": 11544663}, {\"states\": \"Oklahoma\", \"states_code\": \"OK\", \"id\": 40, \"year\": 2011, \"population\": 3788379}, {\"states\": \"Oregon\", \"states_code\": \"OR\", \"id\": 41, \"year\": 2011, \"population\": 3872036}, {\"states\": \"Pennsylvania\", \"states_code\": \"PA\", \"id\": 42, \"year\": 2011, \"population\": 12745815}, {\"states\": \"Rhode Island\", \"states_code\": \"RI\", \"id\": 44, \"year\": 2011, \"population\": 1053649}, {\"states\": \"South Carolina\", \"states_code\": \"SC\", \"id\": 45, \"year\": 2011, \"population\": 4671994}, {\"states\": \"South Dakota\", \"states_code\": \"SD\", \"id\": 46, \"year\": 2011, \"population\": 823579}, {\"states\": \"Tennessee\", \"states_code\": \"TN\", \"id\": 47, \"year\": 2011, \"population\": 6399291}, {\"states\": \"Texas\", \"states_code\": \"TX\", \"id\": 48, \"year\": 2011, \"population\": 25645629}, {\"states\": \"Utah\", \"states_code\": \"UT\", \"id\": 49, \"year\": 2011, \"population\": 2814384}, {\"states\": \"Vermont\", \"states_code\": \"VT\", \"id\": 50, \"year\": 2011, \"population\": 627049}, {\"states\": \"Virginia\", \"states_code\": \"VA\", \"id\": 51, \"year\": 2011, \"population\": 8101155}, {\"states\": \"Washington\", \"states_code\": \"WA\", \"id\": 53, \"year\": 2011, \"population\": 6826627}, {\"states\": \"West Virginia\", \"states_code\": \"WV\", \"id\": 54, \"year\": 2011, \"population\": 1856301}, {\"states\": \"Wisconsin\", \"states_code\": \"WI\", \"id\": 55, \"year\": 2011, \"population\": 5705288}, {\"states\": \"Wyoming\", \"states_code\": \"WY\", \"id\": 56, \"year\": 2011, \"population\": 567299}, {\"states\": \"Puerto Rico\", \"states_code\": \"PR\", \"id\": 72, \"year\": 2011, \"population\": 3678732}, {\"states\": \"Alabama\", \"states_code\": \"AL\", \"id\": 1, \"year\": 2012, \"population\": 4815588}, {\"states\": \"Alaska\", \"states_code\": \"AK\", \"id\": 2, \"year\": 2012, \"population\": 730443}, {\"states\": \"Arizona\", \"states_code\": \"AZ\", \"id\": 4, \"year\": 2012, \"population\": 6554978}, {\"states\": \"Arkansas\", \"states_code\": \"AR\", \"id\": 5, \"year\": 2012, \"population\": 2952164}, {\"states\": \"California\", \"states_code\": \"CA\", \"id\": 6, \"year\": 2012, \"population\": 37948800}, {\"states\": \"Colorado\", \"states_code\": \"CO\", \"id\": 8, \"year\": 2012, \"population\": 5192647}, {\"states\": \"Connecticut\", \"states_code\": \"CT\", \"id\": 9, \"year\": 2012, \"population\": 3594547}, {\"states\": \"Delaware\", \"states_code\": \"DE\", \"id\": 10, \"year\": 2012, \"population\": 915179}, {\"states\": \"District of Columbia\", \"states_code\": \"DC\", \"id\": 11, \"year\": 2012, \"population\": 634924}, {\"states\": \"Florida\", \"states_code\": \"FL\", \"id\": 12, \"year\": 2012, \"population\": 19297822}, {\"states\": \"Georgia\", \"states_code\": \"GA\", \"id\": 13, \"year\": 2012, \"population\": 9901430}, {\"states\": \"Hawaii\", \"states_code\": \"HI\", \"id\": 15, \"year\": 2012, \"population\": 1394804}, {\"states\": \"Idaho\", \"states_code\": \"ID\", \"id\": 16, \"year\": 2012, \"population\": 1595324}, {\"states\": \"Illinois\", \"states_code\": \"IL\", \"id\": 17, \"year\": 2012, \"population\": 12882510}, {\"states\": \"Indiana\", \"states_code\": \"IN\", \"id\": 18, \"year\": 2012, \"population\": 6537703}, {\"states\": \"Iowa\", \"states_code\": \"IA\", \"id\": 19, \"year\": 2012, \"population\": 3076190}, {\"states\": \"Kansas\", \"states_code\": \"KS\", \"id\": 20, \"year\": 2012, \"population\": 2885257}, {\"states\": \"Kentucky\", \"states_code\": \"KY\", \"id\": 21, \"year\": 2012, \"population\": 4386346}, {\"states\": \"Louisiana\", \"states_code\": \"LA\", \"id\": 22, \"year\": 2012, \"population\": 4600972}, {\"states\": \"Maine\", \"states_code\": \"ME\", \"id\": 23, \"year\": 2012, \"population\": 1327729}, {\"states\": \"Maryland\", \"states_code\": \"MD\", \"id\": 24, \"year\": 2012, \"population\": 5886992}, {\"states\": \"Massachusetts\", \"states_code\": \"MA\", \"id\": 25, \"year\": 2012, \"population\": 6663005}, {\"states\": \"Michigan\", \"states_code\": \"MI\", \"id\": 26, \"year\": 2012, \"population\": 9897145}, {\"states\": \"Minnesota\", \"states_code\": \"MN\", \"id\": 27, \"year\": 2012, \"population\": 5376643}, {\"states\": \"Mississippi\", \"states_code\": \"MS\", \"id\": 28, \"year\": 2012, \"population\": 2983816}, {\"states\": \"Missouri\", \"states_code\": \"MO\", \"id\": 29, \"year\": 2012, \"population\": 6024367}, {\"states\": \"Montana\", \"states_code\": \"MT\", \"id\": 30, \"year\": 2012, \"population\": 1003783}, {\"states\": \"Nebraska\", \"states_code\": \"NE\", \"id\": 31, \"year\": 2012, \"population\": 1853303}, {\"states\": \"Nevada\", \"states_code\": \"NV\", \"id\": 32, \"year\": 2012, \"population\": 2743996}, {\"states\": \"New Hampshire\", \"states_code\": \"NH\", \"id\": 33, \"year\": 2012, \"population\": 1324232}, {\"states\": \"New Jersey\", \"states_code\": \"NJ\", \"id\": 34, \"year\": 2012, \"population\": 8844942}, {\"states\": \"New Mexico\", \"states_code\": \"NM\", \"id\": 35, \"year\": 2012, \"population\": 2087309}, {\"states\": \"New York\", \"states_code\": \"NY\", \"id\": 36, \"year\": 2012, \"population\": 19572932}, {\"states\": \"North Carolina\", \"states_code\": \"NC\", \"id\": 37, \"year\": 2012, \"population\": 9749476}, {\"states\": \"North Dakota\", \"states_code\": \"ND\", \"id\": 38, \"year\": 2012, \"population\": 701176}, {\"states\": \"Ohio\", \"states_code\": \"OH\", \"id\": 39, \"year\": 2012, \"population\": 11548923}, {\"states\": \"Oklahoma\", \"states_code\": \"OK\", \"id\": 40, \"year\": 2012, \"population\": 3818814}, {\"states\": \"Oregon\", \"states_code\": \"OR\", \"id\": 41, \"year\": 2012, \"population\": 3899001}, {\"states\": \"Pennsylvania\", \"states_code\": \"PA\", \"id\": 42, \"year\": 2012, \"population\": 12767118}, {\"states\": \"Rhode Island\", \"states_code\": \"RI\", \"id\": 44, \"year\": 2012, \"population\": 1054621}, {\"states\": \"South Carolina\", \"states_code\": \"SC\", \"id\": 45, \"year\": 2012, \"population\": 4717354}, {\"states\": \"South Dakota\", \"states_code\": \"SD\", \"id\": 46, \"year\": 2012, \"population\": 833566}, {\"states\": \"Tennessee\", \"states_code\": \"TN\", \"id\": 47, \"year\": 2012, \"population\": 6453898}, {\"states\": \"Texas\", \"states_code\": \"TX\", \"id\": 48, \"year\": 2012, \"population\": 26084481}, {\"states\": \"Utah\", \"states_code\": \"UT\", \"id\": 49, \"year\": 2012, \"population\": 2853375}, {\"states\": \"Vermont\", \"states_code\": \"VT\", \"id\": 50, \"year\": 2012, \"population\": 626090}, {\"states\": \"Virginia\", \"states_code\": \"VA\", \"id\": 51, \"year\": 2012, \"population\": 8185080}, {\"states\": \"Washington\", \"states_code\": \"WA\", \"id\": 53, \"year\": 2012, \"population\": 6897058}, {\"states\": \"West Virginia\", \"states_code\": \"WV\", \"id\": 54, \"year\": 2012, \"population\": 1856872}, {\"states\": \"Wisconsin\", \"states_code\": \"WI\", \"id\": 55, \"year\": 2012, \"population\": 5719960}, {\"states\": \"Wyoming\", \"states_code\": \"WY\", \"id\": 56, \"year\": 2012, \"population\": 576305}, {\"states\": \"Puerto Rico\", \"states_code\": \"PR\", \"id\": 72, \"year\": 2012, \"population\": 3634488}, {\"states\": \"Alabama\", \"states_code\": \"AL\", \"id\": 1, \"year\": 2013, \"population\": 4830081}, {\"states\": \"Alaska\", \"states_code\": \"AK\", \"id\": 2, \"year\": 2013, \"population\": 737068}, {\"states\": \"Arizona\", \"states_code\": \"AZ\", \"id\": 4, \"year\": 2013, \"population\": 6632764}, {\"states\": \"Arkansas\", \"states_code\": \"AR\", \"id\": 5, \"year\": 2013, \"population\": 2959400}, {\"states\": \"California\", \"states_code\": \"CA\", \"id\": 6, \"year\": 2013, \"population\": 38260787}, {\"states\": \"Colorado\", \"states_code\": \"CO\", \"id\": 8, \"year\": 2013, \"population\": 5269035}, {\"states\": \"Connecticut\", \"states_code\": \"CT\", \"id\": 9, \"year\": 2013, \"population\": 3594841}, {\"states\": \"Delaware\", \"states_code\": \"DE\", \"id\": 10, \"year\": 2013, \"population\": 923576}, {\"states\": \"District of Columbia\", \"states_code\": \"DC\", \"id\": 11, \"year\": 2013, \"population\": 650581}, {\"states\": \"Florida\", \"states_code\": \"FL\", \"id\": 12, \"year\": 2013, \"population\": 19545621}, {\"states\": \"Georgia\", \"states_code\": \"GA\", \"id\": 13, \"year\": 2013, \"population\": 9972479}, {\"states\": \"Hawaii\", \"states_code\": \"HI\", \"id\": 15, \"year\": 2013, \"population\": 1408243}, {\"states\": \"Idaho\", \"states_code\": \"ID\", \"id\": 16, \"year\": 2013, \"population\": 1611206}, {\"states\": \"Illinois\", \"states_code\": \"IL\", \"id\": 17, \"year\": 2013, \"population\": 12895129}, {\"states\": \"Indiana\", \"states_code\": \"IN\", \"id\": 18, \"year\": 2013, \"population\": 6568713}, {\"states\": \"Iowa\", \"states_code\": \"IA\", \"id\": 19, \"year\": 2013, \"population\": 3092997}, {\"states\": \"Kansas\", \"states_code\": \"KS\", \"id\": 20, \"year\": 2013, \"population\": 2893212}, {\"states\": \"Kentucky\", \"states_code\": \"KY\", \"id\": 21, \"year\": 2013, \"population\": 4404659}, {\"states\": \"Louisiana\", \"states_code\": \"LA\", \"id\": 22, \"year\": 2013, \"population\": 4624527}, {\"states\": \"Maine\", \"states_code\": \"ME\", \"id\": 23, \"year\": 2013, \"population\": 1328009}, {\"states\": \"Maryland\", \"states_code\": \"MD\", \"id\": 24, \"year\": 2013, \"population\": 5923188}, {\"states\": \"Massachusetts\", \"states_code\": \"MA\", \"id\": 25, \"year\": 2013, \"population\": 6713315}, {\"states\": \"Michigan\", \"states_code\": \"MI\", \"id\": 26, \"year\": 2013, \"population\": 9913065}, {\"states\": \"Minnesota\", \"states_code\": \"MN\", \"id\": 27, \"year\": 2013, \"population\": 5413479}, {\"states\": \"Mississippi\", \"states_code\": \"MS\", \"id\": 28, \"year\": 2013, \"population\": 2988711}, {\"states\": \"Missouri\", \"states_code\": \"MO\", \"id\": 29, \"year\": 2013, \"population\": 6040715}, {\"states\": \"Montana\", \"states_code\": \"MT\", \"id\": 30, \"year\": 2013, \"population\": 1013569}, {\"states\": \"Nebraska\", \"states_code\": \"NE\", \"id\": 31, \"year\": 2013, \"population\": 1865279}, {\"states\": \"Nevada\", \"states_code\": \"NV\", \"id\": 32, \"year\": 2013, \"population\": 2775970}, {\"states\": \"New Hampshire\", \"states_code\": \"NH\", \"id\": 33, \"year\": 2013, \"population\": 1326622}, {\"states\": \"New Jersey\", \"states_code\": \"NJ\", \"id\": 34, \"year\": 2013, \"population\": 8856972}, {\"states\": \"New Mexico\", \"states_code\": \"NM\", \"id\": 35, \"year\": 2013, \"population\": 2092273}, {\"states\": \"New York\", \"states_code\": \"NY\", \"id\": 36, \"year\": 2013, \"population\": 19624447}, {\"states\": \"North Carolina\", \"states_code\": \"NC\", \"id\": 37, \"year\": 2013, \"population\": 9843336}, {\"states\": \"North Dakota\", \"states_code\": \"ND\", \"id\": 38, \"year\": 2013, \"population\": 722036}, {\"states\": \"Ohio\", \"states_code\": \"OH\", \"id\": 39, \"year\": 2013, \"population\": 11576684}, {\"states\": \"Oklahoma\", \"states_code\": \"OK\", \"id\": 40, \"year\": 2013, \"population\": 3853214}, {\"states\": \"Oregon\", \"states_code\": \"OR\", \"id\": 41, \"year\": 2013, \"population\": 3922468}, {\"states\": \"Pennsylvania\", \"states_code\": \"PA\", \"id\": 42, \"year\": 2013, \"population\": 12776309}, {\"states\": \"Rhode Island\", \"states_code\": \"RI\", \"id\": 44, \"year\": 2013, \"population\": 1055081}, {\"states\": \"South Carolina\", \"states_code\": \"SC\", \"id\": 45, \"year\": 2013, \"population\": 4764080}, {\"states\": \"South Dakota\", \"states_code\": \"SD\", \"id\": 46, \"year\": 2013, \"population\": 842316}, {\"states\": \"Tennessee\", \"states_code\": \"TN\", \"id\": 47, \"year\": 2013, \"population\": 6494340}, {\"states\": \"Texas\", \"states_code\": \"TX\", \"id\": 48, \"year\": 2013, \"population\": 26480266}, {\"states\": \"Utah\", \"states_code\": \"UT\", \"id\": 49, \"year\": 2013, \"population\": 2897640}, {\"states\": \"Vermont\", \"states_code\": \"VT\", \"id\": 50, \"year\": 2013, \"population\": 626210}, {\"states\": \"Virginia\", \"states_code\": \"VA\", \"id\": 51, \"year\": 2013, \"population\": 8252427}, {\"states\": \"Washington\", \"states_code\": \"WA\", \"id\": 53, \"year\": 2013, \"population\": 6963985}, {\"states\": \"West Virginia\", \"states_code\": \"WV\", \"id\": 54, \"year\": 2013, \"population\": 1853914}, {\"states\": \"Wisconsin\", \"states_code\": \"WI\", \"id\": 55, \"year\": 2013, \"population\": 5736754}, {\"states\": \"Wyoming\", \"states_code\": \"WY\", \"id\": 56, \"year\": 2013, \"population\": 582122}, {\"states\": \"Puerto Rico\", \"states_code\": \"PR\", \"id\": 72, \"year\": 2013, \"population\": 3593077}, {\"states\": \"Alabama\", \"states_code\": \"AL\", \"id\": 1, \"year\": 2014, \"population\": 4841799}, {\"states\": \"Alaska\", \"states_code\": \"AK\", \"id\": 2, \"year\": 2014, \"population\": 736283}, {\"states\": \"Arizona\", \"states_code\": \"AZ\", \"id\": 4, \"year\": 2014, \"population\": 6730413}, {\"states\": \"Arkansas\", \"states_code\": \"AR\", \"id\": 5, \"year\": 2014, \"population\": 2967392}, {\"states\": \"California\", \"states_code\": \"CA\", \"id\": 6, \"year\": 2014, \"population\": 38596972}, {\"states\": \"Colorado\", \"states_code\": \"CO\", \"id\": 8, \"year\": 2014, \"population\": 5350101}, {\"states\": \"Connecticut\", \"states_code\": \"CT\", \"id\": 9, \"year\": 2014, \"population\": 3594524}, {\"states\": \"Delaware\", \"states_code\": \"DE\", \"id\": 10, \"year\": 2014, \"population\": 932487}, {\"states\": \"District of Columbia\", \"states_code\": \"DC\", \"id\": 11, \"year\": 2014, \"population\": 662328}, {\"states\": \"Florida\", \"states_code\": \"FL\", \"id\": 12, \"year\": 2014, \"population\": 19845911}, {\"states\": \"Georgia\", \"states_code\": \"GA\", \"id\": 13, \"year\": 2014, \"population\": 10067278}, {\"states\": \"Hawaii\", \"states_code\": \"HI\", \"id\": 15, \"year\": 2014, \"population\": 1414538}, {\"states\": \"Idaho\", \"states_code\": \"ID\", \"id\": 16, \"year\": 2014, \"population\": 1631112}, {\"states\": \"Illinois\", \"states_code\": \"IL\", \"id\": 17, \"year\": 2014, \"population\": 12884493}, {\"states\": \"Indiana\", \"states_code\": \"IN\", \"id\": 18, \"year\": 2014, \"population\": 6593644}, {\"states\": \"Iowa\", \"states_code\": \"IA\", \"id\": 19, \"year\": 2014, \"population\": 3109350}, {\"states\": \"Kansas\", \"states_code\": \"KS\", \"id\": 20, \"year\": 2014, \"population\": 2900475}, {\"states\": \"Kentucky\", \"states_code\": \"KY\", \"id\": 21, \"year\": 2014, \"population\": 4414349}, {\"states\": \"Louisiana\", \"states_code\": \"LA\", \"id\": 22, \"year\": 2014, \"population\": 4644013}, {\"states\": \"Maine\", \"states_code\": \"ME\", \"id\": 23, \"year\": 2014, \"population\": 1330513}, {\"states\": \"Maryland\", \"states_code\": \"MD\", \"id\": 24, \"year\": 2014, \"population\": 5957283}, {\"states\": \"Massachusetts\", \"states_code\": \"MA\", \"id\": 25, \"year\": 2014, \"population\": 6762596}, {\"states\": \"Michigan\", \"states_code\": \"MI\", \"id\": 26, \"year\": 2014, \"population\": 9929848}, {\"states\": \"Minnesota\", \"states_code\": \"MN\", \"id\": 27, \"year\": 2014, \"population\": 5451079}, {\"states\": \"Mississippi\", \"states_code\": \"MS\", \"id\": 28, \"year\": 2014, \"population\": 2990468}, {\"states\": \"Missouri\", \"states_code\": \"MO\", \"id\": 29, \"year\": 2014, \"population\": 6056202}, {\"states\": \"Montana\", \"states_code\": \"MT\", \"id\": 30, \"year\": 2014, \"population\": 1021869}, {\"states\": \"Nebraska\", \"states_code\": \"NE\", \"id\": 31, \"year\": 2014, \"population\": 1879321}, {\"states\": \"Nevada\", \"states_code\": \"NV\", \"id\": 32, \"year\": 2014, \"population\": 2817628}, {\"states\": \"New Hampshire\", \"states_code\": \"NH\", \"id\": 33, \"year\": 2014, \"population\": 1333341}, {\"states\": \"New Jersey\", \"states_code\": \"NJ\", \"id\": 34, \"year\": 2014, \"population\": 8864525}, {\"states\": \"New Mexico\", \"states_code\": \"NM\", \"id\": 35, \"year\": 2014, \"population\": 2089568}, {\"states\": \"New York\", \"states_code\": \"NY\", \"id\": 36, \"year\": 2014, \"population\": 19651049}, {\"states\": \"North Carolina\", \"states_code\": \"NC\", \"id\": 37, \"year\": 2014, \"population\": 9932887}, {\"states\": \"North Dakota\", \"states_code\": \"ND\", \"id\": 38, \"year\": 2014, \"population\": 737401}, {\"states\": \"Ohio\", \"states_code\": \"OH\", \"id\": 39, \"year\": 2014, \"population\": 11602700}, {\"states\": \"Oklahoma\", \"states_code\": \"OK\", \"id\": 40, \"year\": 2014, \"population\": 3878187}, {\"states\": \"Oregon\", \"states_code\": \"OR\", \"id\": 41, \"year\": 2014, \"population\": 3963244}, {\"states\": \"Pennsylvania\", \"states_code\": \"PA\", \"id\": 42, \"year\": 2014, \"population\": 12788313}, {\"states\": \"Rhode Island\", \"states_code\": \"RI\", \"id\": 44, \"year\": 2014, \"population\": 1055936}, {\"states\": \"South Carolina\", \"states_code\": \"SC\", \"id\": 45, \"year\": 2014, \"population\": 4823617}, {\"states\": \"South Dakota\", \"states_code\": \"SD\", \"id\": 46, \"year\": 2014, \"population\": 849129}, {\"states\": \"Tennessee\", \"states_code\": \"TN\", \"id\": 47, \"year\": 2014, \"population\": 6541223}, {\"states\": \"Texas\", \"states_code\": \"TX\", \"id\": 48, \"year\": 2014, \"population\": 26964333}, {\"states\": \"Utah\", \"states_code\": \"UT\", \"id\": 49, \"year\": 2014, \"population\": 2936879}, {\"states\": \"Vermont\", \"states_code\": \"VT\", \"id\": 50, \"year\": 2014, \"population\": 625214}, {\"states\": \"Virginia\", \"states_code\": \"VA\", \"id\": 51, \"year\": 2014, \"population\": 8310993}, {\"states\": \"Washington\", \"states_code\": \"WA\", \"id\": 53, \"year\": 2014, \"population\": 7054655}, {\"states\": \"West Virginia\", \"states_code\": \"WV\", \"id\": 54, \"year\": 2014, \"population\": 1849489}, {\"states\": \"Wisconsin\", \"states_code\": \"WI\", \"id\": 55, \"year\": 2014, \"population\": 5751525}, {\"states\": \"Wyoming\", \"states_code\": \"WY\", \"id\": 56, \"year\": 2014, \"population\": 582531}, {\"states\": \"Puerto Rico\", \"states_code\": \"PR\", \"id\": 72, \"year\": 2014, \"population\": 3534874}, {\"states\": \"Alabama\", \"states_code\": \"AL\", \"id\": 1, \"year\": 2015, \"population\": 4852347}, {\"states\": \"Alaska\", \"states_code\": \"AK\", \"id\": 2, \"year\": 2015, \"population\": 737498}, {\"states\": \"Arizona\", \"states_code\": \"AZ\", \"id\": 4, \"year\": 2015, \"population\": 6829676}, {\"states\": \"Arkansas\", \"states_code\": \"AR\", \"id\": 5, \"year\": 2015, \"population\": 2978048}, {\"states\": \"California\", \"states_code\": \"CA\", \"id\": 6, \"year\": 2015, \"population\": 38918045}, {\"states\": \"Colorado\", \"states_code\": \"CO\", \"id\": 8, \"year\": 2015, \"population\": 5450623}, {\"states\": \"Connecticut\", \"states_code\": \"CT\", \"id\": 9, \"year\": 2015, \"population\": 3587122}, {\"states\": \"Delaware\", \"states_code\": \"DE\", \"id\": 10, \"year\": 2015, \"population\": 941252}, {\"states\": \"District of Columbia\", \"states_code\": \"DC\", \"id\": 11, \"year\": 2015, \"population\": 675400}, {\"states\": \"Florida\", \"states_code\": \"FL\", \"id\": 12, \"year\": 2015, \"population\": 20209042}, {\"states\": \"Georgia\", \"states_code\": \"GA\", \"id\": 13, \"year\": 2015, \"population\": 10178447}, {\"states\": \"Hawaii\", \"states_code\": \"HI\", \"id\": 15, \"year\": 2015, \"population\": 1422052}, {\"states\": \"Idaho\", \"states_code\": \"ID\", \"id\": 16, \"year\": 2015, \"population\": 1651059}, {\"states\": \"Illinois\", \"states_code\": \"IL\", \"id\": 17, \"year\": 2015, \"population\": 12858913}, {\"states\": \"Indiana\", \"states_code\": \"IN\", \"id\": 18, \"year\": 2015, \"population\": 6608422}, {\"states\": \"Iowa\", \"states_code\": \"IA\", \"id\": 19, \"year\": 2015, \"population\": 3120960}, {\"states\": \"Kansas\", \"states_code\": \"KS\", \"id\": 20, \"year\": 2015, \"population\": 2909011}, {\"states\": \"Kentucky\", \"states_code\": \"KY\", \"id\": 21, \"year\": 2015, \"population\": 4425976}, {\"states\": \"Louisiana\", \"states_code\": \"LA\", \"id\": 22, \"year\": 2015, \"population\": 4664628}, {\"states\": \"Maine\", \"states_code\": \"ME\", \"id\": 23, \"year\": 2015, \"population\": 1328262}, {\"states\": \"Maryland\", \"states_code\": \"MD\", \"id\": 24, \"year\": 2015, \"population\": 5985562}, {\"states\": \"Massachusetts\", \"states_code\": \"MA\", \"id\": 25, \"year\": 2015, \"population\": 6794228}, {\"states\": \"Michigan\", \"states_code\": \"MI\", \"id\": 26, \"year\": 2015, \"population\": 9931715}, {\"states\": \"Minnesota\", \"states_code\": \"MN\", \"id\": 27, \"year\": 2015, \"population\": 5482032}, {\"states\": \"Mississippi\", \"states_code\": \"MS\", \"id\": 28, \"year\": 2015, \"population\": 2988471}, {\"states\": \"Missouri\", \"states_code\": \"MO\", \"id\": 29, \"year\": 2015, \"population\": 6071732}, {\"states\": \"Montana\", \"states_code\": \"MT\", \"id\": 30, \"year\": 2015, \"population\": 1030475}, {\"states\": \"Nebraska\", \"states_code\": \"NE\", \"id\": 31, \"year\": 2015, \"population\": 1891277}, {\"states\": \"Nevada\", \"states_code\": \"NV\", \"id\": 32, \"year\": 2015, \"population\": 2866939}, {\"states\": \"New Hampshire\", \"states_code\": \"NH\", \"id\": 33, \"year\": 2015, \"population\": 1336350}, {\"states\": \"New Jersey\", \"states_code\": \"NJ\", \"id\": 34, \"year\": 2015, \"population\": 8867949}, {\"states\": \"New Mexico\", \"states_code\": \"NM\", \"id\": 35, \"year\": 2015, \"population\": 2089291}, {\"states\": \"New York\", \"states_code\": \"NY\", \"id\": 36, \"year\": 2015, \"population\": 19654666}, {\"states\": \"North Carolina\", \"states_code\": \"NC\", \"id\": 37, \"year\": 2015, \"population\": 10031646}, {\"states\": \"North Dakota\", \"states_code\": \"ND\", \"id\": 38, \"year\": 2015, \"population\": 754066}, {\"states\": \"Ohio\", \"states_code\": \"OH\", \"id\": 39, \"year\": 2015, \"population\": 11617527}, {\"states\": \"Oklahoma\", \"states_code\": \"OK\", \"id\": 40, \"year\": 2015, \"population\": 3909500}, {\"states\": \"Oregon\", \"states_code\": \"OR\", \"id\": 41, \"year\": 2015, \"population\": 4015792}, {\"states\": \"Pennsylvania\", \"states_code\": \"PA\", \"id\": 42, \"year\": 2015, \"population\": 12784826}, {\"states\": \"Rhode Island\", \"states_code\": \"RI\", \"id\": 44, \"year\": 2015, \"population\": 1056065}, {\"states\": \"South Carolina\", \"states_code\": \"SC\", \"id\": 45, \"year\": 2015, \"population\": 4891938}, {\"states\": \"South Dakota\", \"states_code\": \"SD\", \"id\": 46, \"year\": 2015, \"population\": 853988}, {\"states\": \"Tennessee\", \"states_code\": \"TN\", \"id\": 47, \"year\": 2015, \"population\": 6591170}, {\"states\": \"Texas\", \"states_code\": \"TX\", \"id\": 48, \"year\": 2015, \"population\": 27470056}, {\"states\": \"Utah\", \"states_code\": \"UT\", \"id\": 49, \"year\": 2015, \"population\": 2981835}, {\"states\": \"Vermont\", \"states_code\": \"VT\", \"id\": 50, \"year\": 2015, \"population\": 625216}, {\"states\": \"Virginia\", \"states_code\": \"VA\", \"id\": 51, \"year\": 2015, \"population\": 8361808}, {\"states\": \"Washington\", \"states_code\": \"WA\", \"id\": 53, \"year\": 2015, \"population\": 7163657}, {\"states\": \"West Virginia\", \"states_code\": \"WV\", \"id\": 54, \"year\": 2015, \"population\": 1842050}, {\"states\": \"Wisconsin\", \"states_code\": \"WI\", \"id\": 55, \"year\": 2015, \"population\": 5760940}, {\"states\": \"Wyoming\", \"states_code\": \"WY\", \"id\": 56, \"year\": 2015, \"population\": 585613}, {\"states\": \"Puerto Rico\", \"states_code\": \"PR\", \"id\": 72, \"year\": 2015, \"population\": 3473232}, {\"states\": \"Alabama\", \"states_code\": \"AL\", \"id\": 1, \"year\": 2016, \"population\": 4863525}, {\"states\": \"Alaska\", \"states_code\": \"AK\", \"id\": 2, \"year\": 2016, \"population\": 741456}, {\"states\": \"Arizona\", \"states_code\": \"AZ\", \"id\": 4, \"year\": 2016, \"population\": 6941072}, {\"states\": \"Arkansas\", \"states_code\": \"AR\", \"id\": 5, \"year\": 2016, \"population\": 2989918}, {\"states\": \"California\", \"states_code\": \"CA\", \"id\": 6, \"year\": 2016, \"population\": 39167117}, {\"states\": \"Colorado\", \"states_code\": \"CO\", \"id\": 8, \"year\": 2016, \"population\": 5539215}, {\"states\": \"Connecticut\", \"states_code\": \"CT\", \"id\": 9, \"year\": 2016, \"population\": 3578141}, {\"states\": \"Delaware\", \"states_code\": \"DE\", \"id\": 10, \"year\": 2016, \"population\": 948921}, {\"states\": \"District of Columbia\", \"states_code\": \"DC\", \"id\": 11, \"year\": 2016, \"population\": 685815}, {\"states\": \"Florida\", \"states_code\": \"FL\", \"id\": 12, \"year\": 2016, \"population\": 20613477}, {\"states\": \"Georgia\", \"states_code\": \"GA\", \"id\": 13, \"year\": 2016, \"population\": 10301890}, {\"states\": \"Hawaii\", \"states_code\": \"HI\", \"id\": 15, \"year\": 2016, \"population\": 1427559}, {\"states\": \"Idaho\", \"states_code\": \"ID\", \"id\": 16, \"year\": 2016, \"population\": 1682380}, {\"states\": \"Illinois\", \"states_code\": \"IL\", \"id\": 17, \"year\": 2016, \"population\": 12820527}, {\"states\": \"Indiana\", \"states_code\": \"IN\", \"id\": 18, \"year\": 2016, \"population\": 6634304}, {\"states\": \"Iowa\", \"states_code\": \"IA\", \"id\": 19, \"year\": 2016, \"population\": 3131371}, {\"states\": \"Kansas\", \"states_code\": \"KS\", \"id\": 20, \"year\": 2016, \"population\": 2910844}, {\"states\": \"Kentucky\", \"states_code\": \"KY\", \"id\": 21, \"year\": 2016, \"population\": 4438182}, {\"states\": \"Louisiana\", \"states_code\": \"LA\", \"id\": 22, \"year\": 2016, \"population\": 4678135}, {\"states\": \"Maine\", \"states_code\": \"ME\", \"id\": 23, \"year\": 2016, \"population\": 1331317}, {\"states\": \"Maryland\", \"states_code\": \"MD\", \"id\": 24, \"year\": 2016, \"population\": 6003323}, {\"states\": \"Massachusetts\", \"states_code\": \"MA\", \"id\": 25, \"year\": 2016, \"population\": 6823608}, {\"states\": \"Michigan\", \"states_code\": \"MI\", \"id\": 26, \"year\": 2016, \"population\": 9950571}, {\"states\": \"Minnesota\", \"states_code\": \"MN\", \"id\": 27, \"year\": 2016, \"population\": 5522744}, {\"states\": \"Mississippi\", \"states_code\": \"MS\", \"id\": 28, \"year\": 2016, \"population\": 2987938}, {\"states\": \"Missouri\", \"states_code\": \"MO\", \"id\": 29, \"year\": 2016, \"population\": 6087135}, {\"states\": \"Montana\", \"states_code\": \"MT\", \"id\": 30, \"year\": 2016, \"population\": 1040859}, {\"states\": \"Nebraska\", \"states_code\": \"NE\", \"id\": 31, \"year\": 2016, \"population\": 1905616}, {\"states\": \"Nevada\", \"states_code\": \"NV\", \"id\": 32, \"year\": 2016, \"population\": 2917563}, {\"states\": \"New Hampshire\", \"states_code\": \"NH\", \"id\": 33, \"year\": 2016, \"population\": 1342307}, {\"states\": \"New Jersey\", \"states_code\": \"NJ\", \"id\": 34, \"year\": 2016, \"population\": 8870827}, {\"states\": \"New Mexico\", \"states_code\": \"NM\", \"id\": 35, \"year\": 2016, \"population\": 2091630}, {\"states\": \"New York\", \"states_code\": \"NY\", \"id\": 36, \"year\": 2016, \"population\": 19633428}, {\"states\": \"North Carolina\", \"states_code\": \"NC\", \"id\": 37, \"year\": 2016, \"population\": 10154788}, {\"states\": \"North Dakota\", \"states_code\": \"ND\", \"id\": 38, \"year\": 2016, \"population\": 754434}, {\"states\": \"Ohio\", \"states_code\": \"OH\", \"id\": 39, \"year\": 2016, \"population\": 11634370}, {\"states\": \"Oklahoma\", \"states_code\": \"OK\", \"id\": 40, \"year\": 2016, \"population\": 3926331}, {\"states\": \"Oregon\", \"states_code\": \"OR\", \"id\": 41, \"year\": 2016, \"population\": 4089976}, {\"states\": \"Pennsylvania\", \"states_code\": \"PA\", \"id\": 42, \"year\": 2016, \"population\": 12782275}, {\"states\": \"Rhode Island\", \"states_code\": \"RI\", \"id\": 44, \"year\": 2016, \"population\": 1056770}, {\"states\": \"South Carolina\", \"states_code\": \"SC\", \"id\": 45, \"year\": 2016, \"population\": 4957968}, {\"states\": \"South Dakota\", \"states_code\": \"SD\", \"id\": 46, \"year\": 2016, \"population\": 862996}, {\"states\": \"Tennessee\", \"states_code\": \"TN\", \"id\": 47, \"year\": 2016, \"population\": 6646010}, {\"states\": \"Texas\", \"states_code\": \"TX\", \"id\": 48, \"year\": 2016, \"population\": 27914410}, {\"states\": \"Utah\", \"states_code\": \"UT\", \"id\": 49, \"year\": 2016, \"population\": 3041868}, {\"states\": \"Vermont\", \"states_code\": \"VT\", \"id\": 50, \"year\": 2016, \"population\": 623657}, {\"states\": \"Virginia\", \"states_code\": \"VA\", \"id\": 51, \"year\": 2016, \"population\": 8410106}, {\"states\": \"Washington\", \"states_code\": \"WA\", \"id\": 53, \"year\": 2016, \"population\": 7294771}, {\"states\": \"West Virginia\", \"states_code\": \"WV\", \"id\": 54, \"year\": 2016, \"population\": 1831023}, {\"states\": \"Wisconsin\", \"states_code\": \"WI\", \"id\": 55, \"year\": 2016, \"population\": 5772628}, {\"states\": \"Wyoming\", \"states_code\": \"WY\", \"id\": 56, \"year\": 2016, \"population\": 584215}, {\"states\": \"Puerto Rico\", \"states_code\": \"PR\", \"id\": 72, \"year\": 2016, \"population\": 3406672}, {\"states\": \"Alabama\", \"states_code\": \"AL\", \"id\": 1, \"year\": 2017, \"population\": 4874486}, {\"states\": \"Alaska\", \"states_code\": \"AK\", \"id\": 2, \"year\": 2017, \"population\": 739700}, {\"states\": \"Arizona\", \"states_code\": \"AZ\", \"id\": 4, \"year\": 2017, \"population\": 7044008}, {\"states\": \"Arkansas\", \"states_code\": \"AR\", \"id\": 5, \"year\": 2017, \"population\": 3001345}, {\"states\": \"California\", \"states_code\": \"CA\", \"id\": 6, \"year\": 2017, \"population\": 39358497}, {\"states\": \"Colorado\", \"states_code\": \"CO\", \"id\": 8, \"year\": 2017, \"population\": 5611885}, {\"states\": \"Connecticut\", \"states_code\": \"CT\", \"id\": 9, \"year\": 2017, \"population\": 3573297}, {\"states\": \"Delaware\", \"states_code\": \"DE\", \"id\": 10, \"year\": 2017, \"population\": 956823}, {\"states\": \"District of Columbia\", \"states_code\": \"DC\", \"id\": 11, \"year\": 2017, \"population\": 694906}, {\"states\": \"Florida\", \"states_code\": \"FL\", \"id\": 12, \"year\": 2017, \"population\": 20963613}, {\"states\": \"Georgia\", \"states_code\": \"GA\", \"id\": 13, \"year\": 2017, \"population\": 10410330}, {\"states\": \"Hawaii\", \"states_code\": \"HI\", \"id\": 15, \"year\": 2017, \"population\": 1424393}, {\"states\": \"Idaho\", \"states_code\": \"ID\", \"id\": 16, \"year\": 2017, \"population\": 1717715}, {\"states\": \"Illinois\", \"states_code\": \"IL\", \"id\": 17, \"year\": 2017, \"population\": 12778828}, {\"states\": \"Indiana\", \"states_code\": \"IN\", \"id\": 18, \"year\": 2017, \"population\": 6658078}, {\"states\": \"Iowa\", \"states_code\": \"IA\", \"id\": 19, \"year\": 2017, \"population\": 3141550}, {\"states\": \"Kansas\", \"states_code\": \"KS\", \"id\": 20, \"year\": 2017, \"population\": 2908718}, {\"states\": \"Kentucky\", \"states_code\": \"KY\", \"id\": 21, \"year\": 2017, \"population\": 4452268}, {\"states\": \"Louisiana\", \"states_code\": \"LA\", \"id\": 22, \"year\": 2017, \"population\": 4670560}, {\"states\": \"Maine\", \"states_code\": \"ME\", \"id\": 23, \"year\": 2017, \"population\": 1334612}, {\"states\": \"Maryland\", \"states_code\": \"MD\", \"id\": 24, \"year\": 2017, \"population\": 6023868}, {\"states\": \"Massachusetts\", \"states_code\": \"MA\", \"id\": 25, \"year\": 2017, \"population\": 6859789}, {\"states\": \"Michigan\", \"states_code\": \"MI\", \"id\": 26, \"year\": 2017, \"population\": 9973114}, {\"states\": \"Minnesota\", \"states_code\": \"MN\", \"id\": 27, \"year\": 2017, \"population\": 5566230}, {\"states\": \"Mississippi\", \"states_code\": \"MS\", \"id\": 28, \"year\": 2017, \"population\": 2988510}, {\"states\": \"Missouri\", \"states_code\": \"MO\", \"id\": 29, \"year\": 2017, \"population\": 6106670}, {\"states\": \"Montana\", \"states_code\": \"MT\", \"id\": 30, \"year\": 2017, \"population\": 1052482}, {\"states\": \"Nebraska\", \"states_code\": \"NE\", \"id\": 31, \"year\": 2017, \"population\": 1915947}, {\"states\": \"Nevada\", \"states_code\": \"NV\", \"id\": 32, \"year\": 2017, \"population\": 2969905}, {\"states\": \"New Hampshire\", \"states_code\": \"NH\", \"id\": 33, \"year\": 2017, \"population\": 1348787}, {\"states\": \"New Jersey\", \"states_code\": \"NJ\", \"id\": 34, \"year\": 2017, \"population\": 8885525}, {\"states\": \"New Mexico\", \"states_code\": \"NM\", \"id\": 35, \"year\": 2017, \"population\": 2091784}, {\"states\": \"New York\", \"states_code\": \"NY\", \"id\": 36, \"year\": 2017, \"population\": 19589572}, {\"states\": \"North Carolina\", \"states_code\": \"NC\", \"id\": 37, \"year\": 2017, \"population\": 10268233}, {\"states\": \"North Dakota\", \"states_code\": \"ND\", \"id\": 38, \"year\": 2017, \"population\": 754942}, {\"states\": \"Ohio\", \"states_code\": \"OH\", \"id\": 39, \"year\": 2017, \"population\": 11659650}, {\"states\": \"Oklahoma\", \"states_code\": \"OK\", \"id\": 40, \"year\": 2017, \"population\": 3931316}, {\"states\": \"Oregon\", \"states_code\": \"OR\", \"id\": 41, \"year\": 2017, \"population\": 4143625}, {\"states\": \"Pennsylvania\", \"states_code\": \"PA\", \"id\": 42, \"year\": 2017, \"population\": 12787641}, {\"states\": \"Rhode Island\", \"states_code\": \"RI\", \"id\": 44, \"year\": 2017, \"population\": 1055673}, {\"states\": \"South Carolina\", \"states_code\": \"SC\", \"id\": 45, \"year\": 2017, \"population\": 5021268}, {\"states\": \"South Dakota\", \"states_code\": \"SD\", \"id\": 46, \"year\": 2017, \"population\": 872868}, {\"states\": \"Tennessee\", \"states_code\": \"TN\", \"id\": 47, \"year\": 2017, \"population\": 6708799}, {\"states\": \"Texas\", \"states_code\": \"TX\", \"id\": 48, \"year\": 2017, \"population\": 28295273}, {\"states\": \"Utah\", \"states_code\": \"UT\", \"id\": 49, \"year\": 2017, \"population\": 3101042}, {\"states\": \"Vermont\", \"states_code\": \"VT\", \"id\": 50, \"year\": 2017, \"population\": 624344}, {\"states\": \"Virginia\", \"states_code\": \"VA\", \"id\": 51, \"year\": 2017, \"population\": 8463587}, {\"states\": \"Washington\", \"states_code\": \"WA\", \"id\": 53, \"year\": 2017, \"population\": 7423362}, {\"states\": \"West Virginia\", \"states_code\": \"WV\", \"id\": 54, \"year\": 2017, \"population\": 1817004}, {\"states\": \"Wisconsin\", \"states_code\": \"WI\", \"id\": 55, \"year\": 2017, \"population\": 5790186}, {\"states\": \"Wyoming\", \"states_code\": \"WY\", \"id\": 56, \"year\": 2017, \"population\": 578931}, {\"states\": \"Puerto Rico\", \"states_code\": \"PR\", \"id\": 72, \"year\": 2017, \"population\": 3325286}, {\"states\": \"Alabama\", \"states_code\": \"AL\", \"id\": 1, \"year\": 2018, \"population\": 4887681}, {\"states\": \"Alaska\", \"states_code\": \"AK\", \"id\": 2, \"year\": 2018, \"population\": 735139}, {\"states\": \"Arizona\", \"states_code\": \"AZ\", \"id\": 4, \"year\": 2018, \"population\": 7158024}, {\"states\": \"Arkansas\", \"states_code\": \"AR\", \"id\": 5, \"year\": 2018, \"population\": 3009733}, {\"states\": \"California\", \"states_code\": \"CA\", \"id\": 6, \"year\": 2018, \"population\": 39461588}, {\"states\": \"Colorado\", \"states_code\": \"CO\", \"id\": 8, \"year\": 2018, \"population\": 5691287}, {\"states\": \"Connecticut\", \"states_code\": \"CT\", \"id\": 9, \"year\": 2018, \"population\": 3571520}, {\"states\": \"Delaware\", \"states_code\": \"DE\", \"id\": 10, \"year\": 2018, \"population\": 965479}, {\"states\": \"District of Columbia\", \"states_code\": \"DC\", \"id\": 11, \"year\": 2018, \"population\": 701547}, {\"states\": \"Florida\", \"states_code\": \"FL\", \"id\": 12, \"year\": 2018, \"population\": 21244317}, {\"states\": \"Georgia\", \"states_code\": \"GA\", \"id\": 13, \"year\": 2018, \"population\": 10511131}, {\"states\": \"Hawaii\", \"states_code\": \"HI\", \"id\": 15, \"year\": 2018, \"population\": 1420593}, {\"states\": \"Idaho\", \"states_code\": \"ID\", \"id\": 16, \"year\": 2018, \"population\": 1750536}, {\"states\": \"Illinois\", \"states_code\": \"IL\", \"id\": 17, \"year\": 2018, \"population\": 12723071}, {\"states\": \"Indiana\", \"states_code\": \"IN\", \"id\": 18, \"year\": 2018, \"population\": 6695497}, {\"states\": \"Iowa\", \"states_code\": \"IA\", \"id\": 19, \"year\": 2018, \"population\": 3148618}, {\"states\": \"Kansas\", \"states_code\": \"KS\", \"id\": 20, \"year\": 2018, \"population\": 2911359}, {\"states\": \"Kentucky\", \"states_code\": \"KY\", \"id\": 21, \"year\": 2018, \"population\": 4461153}, {\"states\": \"Louisiana\", \"states_code\": \"LA\", \"id\": 22, \"year\": 2018, \"population\": 4659690}, {\"states\": \"Maine\", \"states_code\": \"ME\", \"id\": 23, \"year\": 2018, \"population\": 1339057}, {\"states\": \"Maryland\", \"states_code\": \"MD\", \"id\": 24, \"year\": 2018, \"population\": 6035802}, {\"states\": \"Massachusetts\", \"states_code\": \"MA\", \"id\": 25, \"year\": 2018, \"population\": 6882635}, {\"states\": \"Michigan\", \"states_code\": \"MI\", \"id\": 26, \"year\": 2018, \"population\": 9984072}, {\"states\": \"Minnesota\", \"states_code\": \"MN\", \"id\": 27, \"year\": 2018, \"population\": 5606249}, {\"states\": \"Mississippi\", \"states_code\": \"MS\", \"id\": 28, \"year\": 2018, \"population\": 2981020}, {\"states\": \"Missouri\", \"states_code\": \"MO\", \"id\": 29, \"year\": 2018, \"population\": 6121623}, {\"states\": \"Montana\", \"states_code\": \"MT\", \"id\": 30, \"year\": 2018, \"population\": 1060665}, {\"states\": \"Nebraska\", \"states_code\": \"NE\", \"id\": 31, \"year\": 2018, \"population\": 1925614}, {\"states\": \"Nevada\", \"states_code\": \"NV\", \"id\": 32, \"year\": 2018, \"population\": 3027341}, {\"states\": \"New Hampshire\", \"states_code\": \"NH\", \"id\": 33, \"year\": 2018, \"population\": 1353465}, {\"states\": \"New Jersey\", \"states_code\": \"NJ\", \"id\": 34, \"year\": 2018, \"population\": 8886025}, {\"states\": \"New Mexico\", \"states_code\": \"NM\", \"id\": 35, \"year\": 2018, \"population\": 2092741}, {\"states\": \"New York\", \"states_code\": \"NY\", \"id\": 36, \"year\": 2018, \"population\": 19530351}, {\"states\": \"North Carolina\", \"states_code\": \"NC\", \"id\": 37, \"year\": 2018, \"population\": 10381615}, {\"states\": \"North Dakota\", \"states_code\": \"ND\", \"id\": 38, \"year\": 2018, \"population\": 758080}, {\"states\": \"Ohio\", \"states_code\": \"OH\", \"id\": 39, \"year\": 2018, \"population\": 11676341}, {\"states\": \"Oklahoma\", \"states_code\": \"OK\", \"id\": 40, \"year\": 2018, \"population\": 3940235}, {\"states\": \"Oregon\", \"states_code\": \"OR\", \"id\": 41, \"year\": 2018, \"population\": 4181886}, {\"states\": \"Pennsylvania\", \"states_code\": \"PA\", \"id\": 42, \"year\": 2018, \"population\": 12800922}, {\"states\": \"Rhode Island\", \"states_code\": \"RI\", \"id\": 44, \"year\": 2018, \"population\": 1058287}, {\"states\": \"South Carolina\", \"states_code\": \"SC\", \"id\": 45, \"year\": 2018, \"population\": 5084156}, {\"states\": \"South Dakota\", \"states_code\": \"SD\", \"id\": 46, \"year\": 2018, \"population\": 878698}, {\"states\": \"Tennessee\", \"states_code\": \"TN\", \"id\": 47, \"year\": 2018, \"population\": 6771631}, {\"states\": \"Texas\", \"states_code\": \"TX\", \"id\": 48, \"year\": 2018, \"population\": 28628666}, {\"states\": \"Utah\", \"states_code\": \"UT\", \"id\": 49, \"year\": 2018, \"population\": 3153550}, {\"states\": \"Vermont\", \"states_code\": \"VT\", \"id\": 50, \"year\": 2018, \"population\": 624358}, {\"states\": \"Virginia\", \"states_code\": \"VA\", \"id\": 51, \"year\": 2018, \"population\": 8501286}, {\"states\": \"Washington\", \"states_code\": \"WA\", \"id\": 53, \"year\": 2018, \"population\": 7523869}, {\"states\": \"West Virginia\", \"states_code\": \"WV\", \"id\": 54, \"year\": 2018, \"population\": 1804291}, {\"states\": \"Wisconsin\", \"states_code\": \"WI\", \"id\": 55, \"year\": 2018, \"population\": 5807406}, {\"states\": \"Wyoming\", \"states_code\": \"WY\", \"id\": 56, \"year\": 2018, \"population\": 577601}, {\"states\": \"Puerto Rico\", \"states_code\": \"PR\", \"id\": 72, \"year\": 2018, \"population\": 3193354}, {\"states\": \"Alabama\", \"states_code\": \"AL\", \"id\": 1, \"year\": 2019, \"population\": 4903185}, {\"states\": \"Alaska\", \"states_code\": \"AK\", \"id\": 2, \"year\": 2019, \"population\": 731545}, {\"states\": \"Arizona\", \"states_code\": \"AZ\", \"id\": 4, \"year\": 2019, \"population\": 7278717}, {\"states\": \"Arkansas\", \"states_code\": \"AR\", \"id\": 5, \"year\": 2019, \"population\": 3017804}, {\"states\": \"California\", \"states_code\": \"CA\", \"id\": 6, \"year\": 2019, \"population\": 39512223}, {\"states\": \"Colorado\", \"states_code\": \"CO\", \"id\": 8, \"year\": 2019, \"population\": 5758736}, {\"states\": \"Connecticut\", \"states_code\": \"CT\", \"id\": 9, \"year\": 2019, \"population\": 3565287}, {\"states\": \"Delaware\", \"states_code\": \"DE\", \"id\": 10, \"year\": 2019, \"population\": 973764}, {\"states\": \"District of Columbia\", \"states_code\": \"DC\", \"id\": 11, \"year\": 2019, \"population\": 705749}, {\"states\": \"Florida\", \"states_code\": \"FL\", \"id\": 12, \"year\": 2019, \"population\": 21477737}, {\"states\": \"Georgia\", \"states_code\": \"GA\", \"id\": 13, \"year\": 2019, \"population\": 10617423}, {\"states\": \"Hawaii\", \"states_code\": \"HI\", \"id\": 15, \"year\": 2019, \"population\": 1415872}, {\"states\": \"Idaho\", \"states_code\": \"ID\", \"id\": 16, \"year\": 2019, \"population\": 1787065}, {\"states\": \"Illinois\", \"states_code\": \"IL\", \"id\": 17, \"year\": 2019, \"population\": 12671821}, {\"states\": \"Indiana\", \"states_code\": \"IN\", \"id\": 18, \"year\": 2019, \"population\": 6732219}, {\"states\": \"Iowa\", \"states_code\": \"IA\", \"id\": 19, \"year\": 2019, \"population\": 3155070}, {\"states\": \"Kansas\", \"states_code\": \"KS\", \"id\": 20, \"year\": 2019, \"population\": 2913314}, {\"states\": \"Kentucky\", \"states_code\": \"KY\", \"id\": 21, \"year\": 2019, \"population\": 4467673}, {\"states\": \"Louisiana\", \"states_code\": \"LA\", \"id\": 22, \"year\": 2019, \"population\": 4648794}, {\"states\": \"Maine\", \"states_code\": \"ME\", \"id\": 23, \"year\": 2019, \"population\": 1344212}, {\"states\": \"Maryland\", \"states_code\": \"MD\", \"id\": 24, \"year\": 2019, \"population\": 6045680}, {\"states\": \"Massachusetts\", \"states_code\": \"MA\", \"id\": 25, \"year\": 2019, \"population\": 6892503}, {\"states\": \"Michigan\", \"states_code\": \"MI\", \"id\": 26, \"year\": 2019, \"population\": 9986857}, {\"states\": \"Minnesota\", \"states_code\": \"MN\", \"id\": 27, \"year\": 2019, \"population\": 5639632}, {\"states\": \"Mississippi\", \"states_code\": \"MS\", \"id\": 28, \"year\": 2019, \"population\": 2976149}, {\"states\": \"Missouri\", \"states_code\": \"MO\", \"id\": 29, \"year\": 2019, \"population\": 6137428}, {\"states\": \"Montana\", \"states_code\": \"MT\", \"id\": 30, \"year\": 2019, \"population\": 1068778}, {\"states\": \"Nebraska\", \"states_code\": \"NE\", \"id\": 31, \"year\": 2019, \"population\": 1934408}, {\"states\": \"Nevada\", \"states_code\": \"NV\", \"id\": 32, \"year\": 2019, \"population\": 3080156}, {\"states\": \"New Hampshire\", \"states_code\": \"NH\", \"id\": 33, \"year\": 2019, \"population\": 1359711}, {\"states\": \"New Jersey\", \"states_code\": \"NJ\", \"id\": 34, \"year\": 2019, \"population\": 8882190}, {\"states\": \"New Mexico\", \"states_code\": \"NM\", \"id\": 35, \"year\": 2019, \"population\": 2096829}, {\"states\": \"New York\", \"states_code\": \"NY\", \"id\": 36, \"year\": 2019, \"population\": 19453561}, {\"states\": \"North Carolina\", \"states_code\": \"NC\", \"id\": 37, \"year\": 2019, \"population\": 10488084}, {\"states\": \"North Dakota\", \"states_code\": \"ND\", \"id\": 38, \"year\": 2019, \"population\": 762062}, {\"states\": \"Ohio\", \"states_code\": \"OH\", \"id\": 39, \"year\": 2019, \"population\": 11689100}, {\"states\": \"Oklahoma\", \"states_code\": \"OK\", \"id\": 40, \"year\": 2019, \"population\": 3956971}, {\"states\": \"Oregon\", \"states_code\": \"OR\", \"id\": 41, \"year\": 2019, \"population\": 4217737}, {\"states\": \"Pennsylvania\", \"states_code\": \"PA\", \"id\": 42, \"year\": 2019, \"population\": 12801989}, {\"states\": \"Rhode Island\", \"states_code\": \"RI\", \"id\": 44, \"year\": 2019, \"population\": 1059361}, {\"states\": \"South Carolina\", \"states_code\": \"SC\", \"id\": 45, \"year\": 2019, \"population\": 5148714}, {\"states\": \"South Dakota\", \"states_code\": \"SD\", \"id\": 46, \"year\": 2019, \"population\": 884659}, {\"states\": \"Tennessee\", \"states_code\": \"TN\", \"id\": 47, \"year\": 2019, \"population\": 6829174}, {\"states\": \"Texas\", \"states_code\": \"TX\", \"id\": 48, \"year\": 2019, \"population\": 28995881}, {\"states\": \"Utah\", \"states_code\": \"UT\", \"id\": 49, \"year\": 2019, \"population\": 3205958}, {\"states\": \"Vermont\", \"states_code\": \"VT\", \"id\": 50, \"year\": 2019, \"population\": 623989}, {\"states\": \"Virginia\", \"states_code\": \"VA\", \"id\": 51, \"year\": 2019, \"population\": 8535519}, {\"states\": \"Washington\", \"states_code\": \"WA\", \"id\": 53, \"year\": 2019, \"population\": 7614893}, {\"states\": \"West Virginia\", \"states_code\": \"WV\", \"id\": 54, \"year\": 2019, \"population\": 1792147}, {\"states\": \"Wisconsin\", \"states_code\": \"WI\", \"id\": 55, \"year\": 2019, \"population\": 5822434}, {\"states\": \"Wyoming\", \"states_code\": \"WY\", \"id\": 56, \"year\": 2019, \"population\": 578759}, {\"states\": \"Puerto Rico\", \"states_code\": \"PR\", \"id\": 72, \"year\": 2019, \"population\": 3193694}]}}, {\"mode\": \"vega-lite\"});\n",
              "</script>"
            ],
            "text/plain": [
              "alt.Chart(...)"
            ]
          },
          "execution_count": 13,
          "metadata": {},
          "output_type": "execute_result"
        }
      ],
      "source": [
        "import altair as alt\n",
        "\n",
        "month_list = df_aqi_data[\"aqi_month\"].unique().tolist()\n",
        "# selected_month = st.selectbox('Select a year', month_list)\n",
        "selected_month=7\n",
        "df_selected_month = df_aqi_data[df_aqi_data.aqi_month == selected_month]\n",
        "df_selected_month_sorted = df_selected_month.sort_values(by=\"aqi\", ascending=False)\n",
        "\n",
        "# color_theme_list = ['blues', 'cividis', 'greens', 'inferno', 'magma', 'plasma', 'reds', 'rainbow', 'turbo', 'viridis']\n",
        "# selected_color_theme = st.selectbox('Select a color theme', color_theme_list)\n",
        "selected_color_theme=\"blues\"\n",
        "\n",
        "alt.themes.enable(\"dark\")\n",
        "\n",
        "def make_heatmap(input_df, input_y, input_x, input_color, input_color_theme):\n",
        "    heatmap = alt.Chart(input_df).mark_rect().encode(\n",
        "            y=alt.Y(f'{input_y}:O', axis=alt.Axis(title=\"Month\", titleFontSize=18, titlePadding=15, titleFontWeight=900, labelAngle=0)),\n",
        "            x=alt.X(f'{input_x}:O', axis=alt.Axis(title=\"\", titleFontSize=18, titlePadding=15, titleFontWeight=900)),\n",
        "            color=alt.Color(f'max({input_color}):Q',\n",
        "                             legend=None,\n",
        "                             scale=alt.Scale(scheme=input_color_theme)),\n",
        "            stroke=alt.value('black'),\n",
        "            strokeWidth=alt.value(0.25),\n",
        "        ).properties(width=900\n",
        "        ).configure_axis(\n",
        "        labelFontSize=12,\n",
        "        titleFontSize=12\n",
        "        ) \n",
        "    # height=300\n",
        "    return heatmap\n",
        "\n",
        "heatmap = make_heatmap(df_aqi_data, 'aqi_month', 'state_geojson', 'aqi', selected_color_theme)"
      ]
    },
    {
      "cell_type": "markdown",
      "metadata": {
        "id": "69oYy6edR4V7"
      },
      "source": [
        "### Choropleth"
      ]
    },
    {
      "cell_type": "code",
      "execution_count": 18,
      "metadata": {
        "colab": {
          "base_uri": "https://localhost:8080/",
          "height": 331
        },
        "id": "rCT-THXqdc2e",
        "outputId": "ef2d0b90-45d8-496c-8176-96fba73623b6"
      },
      "outputs": [
        {
          "data": {
            "text/html": [
              "\n",
              "<div id=\"altair-viz-fbc1c897e3b541e6a7657e079541313a\"></div>\n",
              "<script type=\"text/javascript\">\n",
              "  var VEGA_DEBUG = (typeof VEGA_DEBUG == \"undefined\") ? {} : VEGA_DEBUG;\n",
              "  (function(spec, embedOpt){\n",
              "    let outputDiv = document.currentScript.previousElementSibling;\n",
              "    if (outputDiv.id !== \"altair-viz-fbc1c897e3b541e6a7657e079541313a\") {\n",
              "      outputDiv = document.getElementById(\"altair-viz-fbc1c897e3b541e6a7657e079541313a\");\n",
              "    }\n",
              "    const paths = {\n",
              "      \"vega\": \"https://cdn.jsdelivr.net/npm//vega@5?noext\",\n",
              "      \"vega-lib\": \"https://cdn.jsdelivr.net/npm//vega-lib?noext\",\n",
              "      \"vega-lite\": \"https://cdn.jsdelivr.net/npm//vega-lite@4.17.0?noext\",\n",
              "      \"vega-embed\": \"https://cdn.jsdelivr.net/npm//vega-embed@6?noext\",\n",
              "    };\n",
              "\n",
              "    function maybeLoadScript(lib, version) {\n",
              "      var key = `${lib.replace(\"-\", \"\")}_version`;\n",
              "      return (VEGA_DEBUG[key] == version) ?\n",
              "        Promise.resolve(paths[lib]) :\n",
              "        new Promise(function(resolve, reject) {\n",
              "          var s = document.createElement('script');\n",
              "          document.getElementsByTagName(\"head\")[0].appendChild(s);\n",
              "          s.async = true;\n",
              "          s.onload = () => {\n",
              "            VEGA_DEBUG[key] = version;\n",
              "            return resolve(paths[lib]);\n",
              "          };\n",
              "          s.onerror = () => reject(`Error loading script: ${paths[lib]}`);\n",
              "          s.src = paths[lib];\n",
              "        });\n",
              "    }\n",
              "\n",
              "    function showError(err) {\n",
              "      outputDiv.innerHTML = `<div class=\"error\" style=\"color:red;\">${err}</div>`;\n",
              "      throw err;\n",
              "    }\n",
              "\n",
              "    function displayChart(vegaEmbed) {\n",
              "      vegaEmbed(outputDiv, spec, embedOpt)\n",
              "        .catch(err => showError(`Javascript Error: ${err.message}<br>This usually means there's a typo in your chart specification. See the javascript console for the full traceback.`));\n",
              "    }\n",
              "\n",
              "    if(typeof define === \"function\" && define.amd) {\n",
              "      requirejs.config({paths});\n",
              "      require([\"vega-embed\"], displayChart, err => showError(`Error loading script: ${err.message}`));\n",
              "    } else {\n",
              "      maybeLoadScript(\"vega\", \"5\")\n",
              "        .then(() => maybeLoadScript(\"vega-lite\", \"4.17.0\"))\n",
              "        .then(() => maybeLoadScript(\"vega-embed\", \"6\"))\n",
              "        .catch(showError)\n",
              "        .then(() => displayChart(vegaEmbed));\n",
              "    }\n",
              "  })({\"usermeta\": {\"embedOptions\": {\"theme\": \"dark\"}}, \"config\": {\"view\": {\"continuousWidth\": 400, \"continuousHeight\": 300}}, \"data\": {\"url\": \"https://cdn.jsdelivr.net/npm/vega-datasets@v1.29.0/data/us-10m.json\", \"format\": {\"feature\": \"states\", \"type\": \"topojson\"}}, \"mark\": \"geoshape\", \"encoding\": {\"color\": {\"field\": \"population\", \"scale\": {\"scheme\": \"blues\"}, \"type\": \"quantitative\"}, \"stroke\": {\"value\": \"#154360\"}}, \"height\": 300, \"projection\": {\"type\": \"albersUsa\"}, \"transform\": [{\"lookup\": \"id\", \"from\": {\"data\": {\"name\": \"data-86ac736860a3570161e624b76a6dbcbe\"}, \"key\": \"id\", \"fields\": [\"states\", \"states_code\", \"id\", \"year\", \"population\"]}}], \"width\": 500, \"$schema\": \"https://vega.github.io/schema/vega-lite/v4.17.0.json\", \"datasets\": {\"data-86ac736860a3570161e624b76a6dbcbe\": [{\"states\": \"Alabama\", \"states_code\": \"AL\", \"id\": 1, \"year\": 2019, \"population\": 4903185}, {\"states\": \"Alaska\", \"states_code\": \"AK\", \"id\": 2, \"year\": 2019, \"population\": 731545}, {\"states\": \"Arizona\", \"states_code\": \"AZ\", \"id\": 4, \"year\": 2019, \"population\": 7278717}, {\"states\": \"Arkansas\", \"states_code\": \"AR\", \"id\": 5, \"year\": 2019, \"population\": 3017804}, {\"states\": \"California\", \"states_code\": \"CA\", \"id\": 6, \"year\": 2019, \"population\": 39512223}, {\"states\": \"Colorado\", \"states_code\": \"CO\", \"id\": 8, \"year\": 2019, \"population\": 5758736}, {\"states\": \"Connecticut\", \"states_code\": \"CT\", \"id\": 9, \"year\": 2019, \"population\": 3565287}, {\"states\": \"Delaware\", \"states_code\": \"DE\", \"id\": 10, \"year\": 2019, \"population\": 973764}, {\"states\": \"District of Columbia\", \"states_code\": \"DC\", \"id\": 11, \"year\": 2019, \"population\": 705749}, {\"states\": \"Florida\", \"states_code\": \"FL\", \"id\": 12, \"year\": 2019, \"population\": 21477737}, {\"states\": \"Georgia\", \"states_code\": \"GA\", \"id\": 13, \"year\": 2019, \"population\": 10617423}, {\"states\": \"Hawaii\", \"states_code\": \"HI\", \"id\": 15, \"year\": 2019, \"population\": 1415872}, {\"states\": \"Idaho\", \"states_code\": \"ID\", \"id\": 16, \"year\": 2019, \"population\": 1787065}, {\"states\": \"Illinois\", \"states_code\": \"IL\", \"id\": 17, \"year\": 2019, \"population\": 12671821}, {\"states\": \"Indiana\", \"states_code\": \"IN\", \"id\": 18, \"year\": 2019, \"population\": 6732219}, {\"states\": \"Iowa\", \"states_code\": \"IA\", \"id\": 19, \"year\": 2019, \"population\": 3155070}, {\"states\": \"Kansas\", \"states_code\": \"KS\", \"id\": 20, \"year\": 2019, \"population\": 2913314}, {\"states\": \"Kentucky\", \"states_code\": \"KY\", \"id\": 21, \"year\": 2019, \"population\": 4467673}, {\"states\": \"Louisiana\", \"states_code\": \"LA\", \"id\": 22, \"year\": 2019, \"population\": 4648794}, {\"states\": \"Maine\", \"states_code\": \"ME\", \"id\": 23, \"year\": 2019, \"population\": 1344212}, {\"states\": \"Maryland\", \"states_code\": \"MD\", \"id\": 24, \"year\": 2019, \"population\": 6045680}, {\"states\": \"Massachusetts\", \"states_code\": \"MA\", \"id\": 25, \"year\": 2019, \"population\": 6892503}, {\"states\": \"Michigan\", \"states_code\": \"MI\", \"id\": 26, \"year\": 2019, \"population\": 9986857}, {\"states\": \"Minnesota\", \"states_code\": \"MN\", \"id\": 27, \"year\": 2019, \"population\": 5639632}, {\"states\": \"Mississippi\", \"states_code\": \"MS\", \"id\": 28, \"year\": 2019, \"population\": 2976149}, {\"states\": \"Missouri\", \"states_code\": \"MO\", \"id\": 29, \"year\": 2019, \"population\": 6137428}, {\"states\": \"Montana\", \"states_code\": \"MT\", \"id\": 30, \"year\": 2019, \"population\": 1068778}, {\"states\": \"Nebraska\", \"states_code\": \"NE\", \"id\": 31, \"year\": 2019, \"population\": 1934408}, {\"states\": \"Nevada\", \"states_code\": \"NV\", \"id\": 32, \"year\": 2019, \"population\": 3080156}, {\"states\": \"New Hampshire\", \"states_code\": \"NH\", \"id\": 33, \"year\": 2019, \"population\": 1359711}, {\"states\": \"New Jersey\", \"states_code\": \"NJ\", \"id\": 34, \"year\": 2019, \"population\": 8882190}, {\"states\": \"New Mexico\", \"states_code\": \"NM\", \"id\": 35, \"year\": 2019, \"population\": 2096829}, {\"states\": \"New York\", \"states_code\": \"NY\", \"id\": 36, \"year\": 2019, \"population\": 19453561}, {\"states\": \"North Carolina\", \"states_code\": \"NC\", \"id\": 37, \"year\": 2019, \"population\": 10488084}, {\"states\": \"North Dakota\", \"states_code\": \"ND\", \"id\": 38, \"year\": 2019, \"population\": 762062}, {\"states\": \"Ohio\", \"states_code\": \"OH\", \"id\": 39, \"year\": 2019, \"population\": 11689100}, {\"states\": \"Oklahoma\", \"states_code\": \"OK\", \"id\": 40, \"year\": 2019, \"population\": 3956971}, {\"states\": \"Oregon\", \"states_code\": \"OR\", \"id\": 41, \"year\": 2019, \"population\": 4217737}, {\"states\": \"Pennsylvania\", \"states_code\": \"PA\", \"id\": 42, \"year\": 2019, \"population\": 12801989}, {\"states\": \"Rhode Island\", \"states_code\": \"RI\", \"id\": 44, \"year\": 2019, \"population\": 1059361}, {\"states\": \"South Carolina\", \"states_code\": \"SC\", \"id\": 45, \"year\": 2019, \"population\": 5148714}, {\"states\": \"South Dakota\", \"states_code\": \"SD\", \"id\": 46, \"year\": 2019, \"population\": 884659}, {\"states\": \"Tennessee\", \"states_code\": \"TN\", \"id\": 47, \"year\": 2019, \"population\": 6829174}, {\"states\": \"Texas\", \"states_code\": \"TX\", \"id\": 48, \"year\": 2019, \"population\": 28995881}, {\"states\": \"Utah\", \"states_code\": \"UT\", \"id\": 49, \"year\": 2019, \"population\": 3205958}, {\"states\": \"Vermont\", \"states_code\": \"VT\", \"id\": 50, \"year\": 2019, \"population\": 623989}, {\"states\": \"Virginia\", \"states_code\": \"VA\", \"id\": 51, \"year\": 2019, \"population\": 8535519}, {\"states\": \"Washington\", \"states_code\": \"WA\", \"id\": 53, \"year\": 2019, \"population\": 7614893}, {\"states\": \"West Virginia\", \"states_code\": \"WV\", \"id\": 54, \"year\": 2019, \"population\": 1792147}, {\"states\": \"Wisconsin\", \"states_code\": \"WI\", \"id\": 55, \"year\": 2019, \"population\": 5822434}, {\"states\": \"Wyoming\", \"states_code\": \"WY\", \"id\": 56, \"year\": 2019, \"population\": 578759}, {\"states\": \"Puerto Rico\", \"states_code\": \"PR\", \"id\": 72, \"year\": 2019, \"population\": 3193694}]}}, {\"mode\": \"vega-lite\"});\n",
              "</script>"
            ],
            "text/plain": [
              "alt.Chart(...)"
            ]
          },
          "execution_count": 18,
          "metadata": {},
          "output_type": "execute_result"
        }
      ],
      "source": [
        "# Choropleth via Altair\n",
        "import altair as alt\n",
        "from vega_datasets import data\n",
        "\n",
        "alt.themes.enable(\"dark\")\n",
        "\n",
        "states = alt.topo_feature(data.us_10m.url, 'states')\n",
        "\n",
        "alt.Chart(states).mark_geoshape().encode(\n",
        "    color=alt.Color('population:Q', scale=alt.Scale(scheme='blues')),   # scale=color_scale\n",
        "    stroke=alt.value('#154360')\n",
        ").transform_lookup(\n",
        "    lookup='id',\n",
        "    from_=alt.LookupData(df_selected_year, 'id', list(df_selected_year.columns))\n",
        ").properties(\n",
        "    width=500,\n",
        "    height=300\n",
        ").project(\n",
        "    type='albersUsa'\n",
        ")\n",
        "\n"
      ]
    },
    {
      "cell_type": "code",
      "execution_count": 17,
      "metadata": {
        "colab": {
          "base_uri": "https://localhost:8080/",
          "height": 367
        },
        "id": "2_eE7AyrQ3gR",
        "outputId": "6a49cc4c-0424-4a32-ea5e-b140734ead71"
      },
      "outputs": [
        {
          "data": {
            "text/html": [
              "<html>\n",
              "<head><meta charset=\"utf-8\" /></head>\n",
              "<body>\n",
              "    <div>            <script src=\"https://cdnjs.cloudflare.com/ajax/libs/mathjax/2.7.5/MathJax.js?config=TeX-AMS-MML_SVG\"></script><script type=\"text/javascript\">if (window.MathJax && window.MathJax.Hub && window.MathJax.Hub.Config) {window.MathJax.Hub.Config({SVG: {font: \"STIX-Web\"}});}</script>                <script type=\"text/javascript\">window.PlotlyConfig = {MathJaxConfig: 'local'};</script>\n",
              "        <script charset=\"utf-8\" src=\"https://cdn.plot.ly/plotly-2.24.1.min.js\"></script>                <div id=\"3e25d7b2-e382-40f5-92b6-b0b9257f8c58\" class=\"plotly-graph-div\" style=\"height:350px; width:100%;\"></div>            <script type=\"text/javascript\">                                    window.PLOTLYENV=window.PLOTLYENV || {};                                    if (document.getElementById(\"3e25d7b2-e382-40f5-92b6-b0b9257f8c58\")) {                    Plotly.newPlot(                        \"3e25d7b2-e382-40f5-92b6-b0b9257f8c58\",                        [{\"coloraxis\":\"coloraxis\",\"geo\":\"geo\",\"hovertemplate\":\"states_code=%{location}\\u003cbr\\u003ePopulation=%{z}\\u003cextra\\u003e\\u003c\\u002fextra\\u003e\",\"locationmode\":\"USA-states\",\"locations\":[\"AL\",\"AK\",\"AZ\",\"AR\",\"CA\",\"CO\",\"CT\",\"DE\",\"DC\",\"FL\",\"GA\",\"HI\",\"ID\",\"IL\",\"IN\",\"IA\",\"KS\",\"KY\",\"LA\",\"ME\",\"MD\",\"MA\",\"MI\",\"MN\",\"MS\",\"MO\",\"MT\",\"NE\",\"NV\",\"NH\",\"NJ\",\"NM\",\"NY\",\"NC\",\"ND\",\"OH\",\"OK\",\"OR\",\"PA\",\"RI\",\"SC\",\"SD\",\"TN\",\"TX\",\"UT\",\"VT\",\"VA\",\"WA\",\"WV\",\"WI\",\"WY\",\"PR\"],\"name\":\"\",\"z\":[4903185,731545,7278717,3017804,39512223,5758736,3565287,973764,705749,21477737,10617423,1415872,1787065,12671821,6732219,3155070,2913314,4467673,4648794,1344212,6045680,6892503,9986857,5639632,2976149,6137428,1068778,1934408,3080156,1359711,8882190,2096829,19453561,10488084,762062,11689100,3956971,4217737,12801989,1059361,5148714,884659,6829174,28995881,3205958,623989,8535519,7614893,1792147,5822434,578759,3193694],\"type\":\"choropleth\"}],                        {\"template\":{\"data\":{\"barpolar\":[{\"marker\":{\"line\":{\"color\":\"rgb(17,17,17)\",\"width\":0.5},\"pattern\":{\"fillmode\":\"overlay\",\"size\":10,\"solidity\":0.2}},\"type\":\"barpolar\"}],\"bar\":[{\"error_x\":{\"color\":\"#f2f5fa\"},\"error_y\":{\"color\":\"#f2f5fa\"},\"marker\":{\"line\":{\"color\":\"rgb(17,17,17)\",\"width\":0.5},\"pattern\":{\"fillmode\":\"overlay\",\"size\":10,\"solidity\":0.2}},\"type\":\"bar\"}],\"carpet\":[{\"aaxis\":{\"endlinecolor\":\"#A2B1C6\",\"gridcolor\":\"#506784\",\"linecolor\":\"#506784\",\"minorgridcolor\":\"#506784\",\"startlinecolor\":\"#A2B1C6\"},\"baxis\":{\"endlinecolor\":\"#A2B1C6\",\"gridcolor\":\"#506784\",\"linecolor\":\"#506784\",\"minorgridcolor\":\"#506784\",\"startlinecolor\":\"#A2B1C6\"},\"type\":\"carpet\"}],\"choropleth\":[{\"colorbar\":{\"outlinewidth\":0,\"ticks\":\"\"},\"type\":\"choropleth\"}],\"contourcarpet\":[{\"colorbar\":{\"outlinewidth\":0,\"ticks\":\"\"},\"type\":\"contourcarpet\"}],\"contour\":[{\"colorbar\":{\"outlinewidth\":0,\"ticks\":\"\"},\"colorscale\":[[0.0,\"#0d0887\"],[0.1111111111111111,\"#46039f\"],[0.2222222222222222,\"#7201a8\"],[0.3333333333333333,\"#9c179e\"],[0.4444444444444444,\"#bd3786\"],[0.5555555555555556,\"#d8576b\"],[0.6666666666666666,\"#ed7953\"],[0.7777777777777778,\"#fb9f3a\"],[0.8888888888888888,\"#fdca26\"],[1.0,\"#f0f921\"]],\"type\":\"contour\"}],\"heatmapgl\":[{\"colorbar\":{\"outlinewidth\":0,\"ticks\":\"\"},\"colorscale\":[[0.0,\"#0d0887\"],[0.1111111111111111,\"#46039f\"],[0.2222222222222222,\"#7201a8\"],[0.3333333333333333,\"#9c179e\"],[0.4444444444444444,\"#bd3786\"],[0.5555555555555556,\"#d8576b\"],[0.6666666666666666,\"#ed7953\"],[0.7777777777777778,\"#fb9f3a\"],[0.8888888888888888,\"#fdca26\"],[1.0,\"#f0f921\"]],\"type\":\"heatmapgl\"}],\"heatmap\":[{\"colorbar\":{\"outlinewidth\":0,\"ticks\":\"\"},\"colorscale\":[[0.0,\"#0d0887\"],[0.1111111111111111,\"#46039f\"],[0.2222222222222222,\"#7201a8\"],[0.3333333333333333,\"#9c179e\"],[0.4444444444444444,\"#bd3786\"],[0.5555555555555556,\"#d8576b\"],[0.6666666666666666,\"#ed7953\"],[0.7777777777777778,\"#fb9f3a\"],[0.8888888888888888,\"#fdca26\"],[1.0,\"#f0f921\"]],\"type\":\"heatmap\"}],\"histogram2dcontour\":[{\"colorbar\":{\"outlinewidth\":0,\"ticks\":\"\"},\"colorscale\":[[0.0,\"#0d0887\"],[0.1111111111111111,\"#46039f\"],[0.2222222222222222,\"#7201a8\"],[0.3333333333333333,\"#9c179e\"],[0.4444444444444444,\"#bd3786\"],[0.5555555555555556,\"#d8576b\"],[0.6666666666666666,\"#ed7953\"],[0.7777777777777778,\"#fb9f3a\"],[0.8888888888888888,\"#fdca26\"],[1.0,\"#f0f921\"]],\"type\":\"histogram2dcontour\"}],\"histogram2d\":[{\"colorbar\":{\"outlinewidth\":0,\"ticks\":\"\"},\"colorscale\":[[0.0,\"#0d0887\"],[0.1111111111111111,\"#46039f\"],[0.2222222222222222,\"#7201a8\"],[0.3333333333333333,\"#9c179e\"],[0.4444444444444444,\"#bd3786\"],[0.5555555555555556,\"#d8576b\"],[0.6666666666666666,\"#ed7953\"],[0.7777777777777778,\"#fb9f3a\"],[0.8888888888888888,\"#fdca26\"],[1.0,\"#f0f921\"]],\"type\":\"histogram2d\"}],\"histogram\":[{\"marker\":{\"pattern\":{\"fillmode\":\"overlay\",\"size\":10,\"solidity\":0.2}},\"type\":\"histogram\"}],\"mesh3d\":[{\"colorbar\":{\"outlinewidth\":0,\"ticks\":\"\"},\"type\":\"mesh3d\"}],\"parcoords\":[{\"line\":{\"colorbar\":{\"outlinewidth\":0,\"ticks\":\"\"}},\"type\":\"parcoords\"}],\"pie\":[{\"automargin\":true,\"type\":\"pie\"}],\"scatter3d\":[{\"line\":{\"colorbar\":{\"outlinewidth\":0,\"ticks\":\"\"}},\"marker\":{\"colorbar\":{\"outlinewidth\":0,\"ticks\":\"\"}},\"type\":\"scatter3d\"}],\"scattercarpet\":[{\"marker\":{\"colorbar\":{\"outlinewidth\":0,\"ticks\":\"\"}},\"type\":\"scattercarpet\"}],\"scattergeo\":[{\"marker\":{\"colorbar\":{\"outlinewidth\":0,\"ticks\":\"\"}},\"type\":\"scattergeo\"}],\"scattergl\":[{\"marker\":{\"line\":{\"color\":\"#283442\"}},\"type\":\"scattergl\"}],\"scattermapbox\":[{\"marker\":{\"colorbar\":{\"outlinewidth\":0,\"ticks\":\"\"}},\"type\":\"scattermapbox\"}],\"scatterpolargl\":[{\"marker\":{\"colorbar\":{\"outlinewidth\":0,\"ticks\":\"\"}},\"type\":\"scatterpolargl\"}],\"scatterpolar\":[{\"marker\":{\"colorbar\":{\"outlinewidth\":0,\"ticks\":\"\"}},\"type\":\"scatterpolar\"}],\"scatter\":[{\"marker\":{\"line\":{\"color\":\"#283442\"}},\"type\":\"scatter\"}],\"scatterternary\":[{\"marker\":{\"colorbar\":{\"outlinewidth\":0,\"ticks\":\"\"}},\"type\":\"scatterternary\"}],\"surface\":[{\"colorbar\":{\"outlinewidth\":0,\"ticks\":\"\"},\"colorscale\":[[0.0,\"#0d0887\"],[0.1111111111111111,\"#46039f\"],[0.2222222222222222,\"#7201a8\"],[0.3333333333333333,\"#9c179e\"],[0.4444444444444444,\"#bd3786\"],[0.5555555555555556,\"#d8576b\"],[0.6666666666666666,\"#ed7953\"],[0.7777777777777778,\"#fb9f3a\"],[0.8888888888888888,\"#fdca26\"],[1.0,\"#f0f921\"]],\"type\":\"surface\"}],\"table\":[{\"cells\":{\"fill\":{\"color\":\"#506784\"},\"line\":{\"color\":\"rgb(17,17,17)\"}},\"header\":{\"fill\":{\"color\":\"#2a3f5f\"},\"line\":{\"color\":\"rgb(17,17,17)\"}},\"type\":\"table\"}]},\"layout\":{\"annotationdefaults\":{\"arrowcolor\":\"#f2f5fa\",\"arrowhead\":0,\"arrowwidth\":1},\"autotypenumbers\":\"strict\",\"coloraxis\":{\"colorbar\":{\"outlinewidth\":0,\"ticks\":\"\"}},\"colorscale\":{\"diverging\":[[0,\"#8e0152\"],[0.1,\"#c51b7d\"],[0.2,\"#de77ae\"],[0.3,\"#f1b6da\"],[0.4,\"#fde0ef\"],[0.5,\"#f7f7f7\"],[0.6,\"#e6f5d0\"],[0.7,\"#b8e186\"],[0.8,\"#7fbc41\"],[0.9,\"#4d9221\"],[1,\"#276419\"]],\"sequential\":[[0.0,\"#0d0887\"],[0.1111111111111111,\"#46039f\"],[0.2222222222222222,\"#7201a8\"],[0.3333333333333333,\"#9c179e\"],[0.4444444444444444,\"#bd3786\"],[0.5555555555555556,\"#d8576b\"],[0.6666666666666666,\"#ed7953\"],[0.7777777777777778,\"#fb9f3a\"],[0.8888888888888888,\"#fdca26\"],[1.0,\"#f0f921\"]],\"sequentialminus\":[[0.0,\"#0d0887\"],[0.1111111111111111,\"#46039f\"],[0.2222222222222222,\"#7201a8\"],[0.3333333333333333,\"#9c179e\"],[0.4444444444444444,\"#bd3786\"],[0.5555555555555556,\"#d8576b\"],[0.6666666666666666,\"#ed7953\"],[0.7777777777777778,\"#fb9f3a\"],[0.8888888888888888,\"#fdca26\"],[1.0,\"#f0f921\"]]},\"colorway\":[\"#636efa\",\"#EF553B\",\"#00cc96\",\"#ab63fa\",\"#FFA15A\",\"#19d3f3\",\"#FF6692\",\"#B6E880\",\"#FF97FF\",\"#FECB52\"],\"font\":{\"color\":\"#f2f5fa\"},\"geo\":{\"bgcolor\":\"rgb(17,17,17)\",\"lakecolor\":\"rgb(17,17,17)\",\"landcolor\":\"rgb(17,17,17)\",\"showlakes\":true,\"showland\":true,\"subunitcolor\":\"#506784\"},\"hoverlabel\":{\"align\":\"left\"},\"hovermode\":\"closest\",\"mapbox\":{\"style\":\"dark\"},\"paper_bgcolor\":\"rgb(17,17,17)\",\"plot_bgcolor\":\"rgb(17,17,17)\",\"polar\":{\"angularaxis\":{\"gridcolor\":\"#506784\",\"linecolor\":\"#506784\",\"ticks\":\"\"},\"bgcolor\":\"rgb(17,17,17)\",\"radialaxis\":{\"gridcolor\":\"#506784\",\"linecolor\":\"#506784\",\"ticks\":\"\"}},\"scene\":{\"xaxis\":{\"backgroundcolor\":\"rgb(17,17,17)\",\"gridcolor\":\"#506784\",\"gridwidth\":2,\"linecolor\":\"#506784\",\"showbackground\":true,\"ticks\":\"\",\"zerolinecolor\":\"#C8D4E3\"},\"yaxis\":{\"backgroundcolor\":\"rgb(17,17,17)\",\"gridcolor\":\"#506784\",\"gridwidth\":2,\"linecolor\":\"#506784\",\"showbackground\":true,\"ticks\":\"\",\"zerolinecolor\":\"#C8D4E3\"},\"zaxis\":{\"backgroundcolor\":\"rgb(17,17,17)\",\"gridcolor\":\"#506784\",\"gridwidth\":2,\"linecolor\":\"#506784\",\"showbackground\":true,\"ticks\":\"\",\"zerolinecolor\":\"#C8D4E3\"}},\"shapedefaults\":{\"line\":{\"color\":\"#f2f5fa\"}},\"sliderdefaults\":{\"bgcolor\":\"#C8D4E3\",\"bordercolor\":\"rgb(17,17,17)\",\"borderwidth\":1,\"tickwidth\":0},\"ternary\":{\"aaxis\":{\"gridcolor\":\"#506784\",\"linecolor\":\"#506784\",\"ticks\":\"\"},\"baxis\":{\"gridcolor\":\"#506784\",\"linecolor\":\"#506784\",\"ticks\":\"\"},\"bgcolor\":\"rgb(17,17,17)\",\"caxis\":{\"gridcolor\":\"#506784\",\"linecolor\":\"#506784\",\"ticks\":\"\"}},\"title\":{\"x\":0.05},\"updatemenudefaults\":{\"bgcolor\":\"#506784\",\"borderwidth\":0},\"xaxis\":{\"automargin\":true,\"gridcolor\":\"#283442\",\"linecolor\":\"#506784\",\"ticks\":\"\",\"title\":{\"standoff\":15},\"zerolinecolor\":\"#283442\",\"zerolinewidth\":2},\"yaxis\":{\"automargin\":true,\"gridcolor\":\"#283442\",\"linecolor\":\"#506784\",\"ticks\":\"\",\"title\":{\"standoff\":15},\"zerolinecolor\":\"#283442\",\"zerolinewidth\":2}}},\"geo\":{\"domain\":{\"x\":[0.0,1.0],\"y\":[0.0,1.0]},\"center\":{},\"scope\":\"usa\"},\"coloraxis\":{\"colorbar\":{\"title\":{\"text\":\"Population\"}},\"colorscale\":[[0.0,\"rgb(247,251,255)\"],[0.125,\"rgb(222,235,247)\"],[0.25,\"rgb(198,219,239)\"],[0.375,\"rgb(158,202,225)\"],[0.5,\"rgb(107,174,214)\"],[0.625,\"rgb(66,146,198)\"],[0.75,\"rgb(33,113,181)\"],[0.875,\"rgb(8,81,156)\"],[1.0,\"rgb(8,48,107)\"]],\"cmin\":0,\"cmax\":39512223},\"legend\":{\"tracegroupgap\":0},\"margin\":{\"t\":0,\"l\":0,\"r\":0,\"b\":0},\"plot_bgcolor\":\"rgba(0, 0, 0, 0)\",\"paper_bgcolor\":\"rgba(0, 0, 0, 0)\",\"height\":350},                        {\"responsive\": true}                    ).then(function(){\n",
              "                            \n",
              "var gd = document.getElementById('3e25d7b2-e382-40f5-92b6-b0b9257f8c58');\n",
              "var x = new MutationObserver(function (mutations, observer) {{\n",
              "        var display = window.getComputedStyle(gd).display;\n",
              "        if (!display || display === 'none') {{\n",
              "            console.log([gd, 'removed!']);\n",
              "            Plotly.purge(gd);\n",
              "            observer.disconnect();\n",
              "        }}\n",
              "}});\n",
              "\n",
              "// Listen for the removal of the full notebook cells\n",
              "var notebookContainer = gd.closest('#notebook-container');\n",
              "if (notebookContainer) {{\n",
              "    x.observe(notebookContainer, {childList: true});\n",
              "}}\n",
              "\n",
              "// Listen for the clearing of the current output cell\n",
              "var outputEl = gd.closest('.output');\n",
              "if (outputEl) {{\n",
              "    x.observe(outputEl, {childList: true});\n",
              "}}\n",
              "\n",
              "                        })                };                            </script>        </div>\n",
              "</body>\n",
              "</html>"
            ]
          },
          "metadata": {},
          "output_type": "display_data"
        }
      ],
      "source": [
        "# Choropleth via Plotly\n",
        "import plotly.express as px\n",
        "\n",
        "choropleth = px.choropleth(df_selected_year, locations='states_code', color='population', locationmode=\"USA-states\",\n",
        "                               color_continuous_scale='blues',\n",
        "                               range_color=(0, max(df_selected_year.population)),\n",
        "                               scope=\"usa\",\n",
        "                               labels={'population':'Population'}\n",
        "                              )\n",
        "choropleth.update_layout(\n",
        "        template='plotly_dark',\n",
        "        plot_bgcolor='rgba(0, 0, 0, 0)',\n",
        "        paper_bgcolor='rgba(0, 0, 0, 0)',\n",
        "        margin=dict(l=0, r=0, t=0, b=0),\n",
        "        height=350\n",
        "    )\n",
        "\n",
        "choropleth"
      ]
    }
  ],
  "metadata": {
    "colab": {
      "provenance": []
    },
    "kernelspec": {
      "display_name": "aqi",
      "language": "python",
      "name": "python3"
    },
    "language_info": {
      "codemirror_mode": {
        "name": "ipython",
        "version": 3
      },
      "file_extension": ".py",
      "mimetype": "text/x-python",
      "name": "python",
      "nbconvert_exporter": "python",
      "pygments_lexer": "ipython3",
      "version": "3.11.10"
    }
  },
  "nbformat": 4,
  "nbformat_minor": 0
}
