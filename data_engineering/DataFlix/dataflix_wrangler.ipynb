{
 "cells": [
  {
   "cell_type": "markdown",
   "metadata": {},
   "source": [
    "# DataFlix"
   ]
  },
  {
   "cell_type": "code",
   "execution_count": null,
   "metadata": {},
   "outputs": [
    {
     "name": "stdout",
     "output_type": "stream",
     "text": [
      "None\n"
     ]
    }
   ],
   "source": [
    "import os\n",
    "import pandas as pd\n",
    "import plotly.express as px\n",
    "from sqlalchemy import create_engine\n",
    "from dotenv import load_dotenv\n",
    "load_dotenv(dotenv_path='./private/.env')\n",
    "\n",
    "user = os.getenv(\"SNOWFLAKE_USER\")\n",
    "password = os.getenv(\"SNOWFLAKE_PASSWORD\")\n",
    "account = os.getenv(\"SNOWFLAKE_ACCOUNT\")\n",
    "warehouse = os.getenv(\"SNOWFLAKE_WAREHOUSE\")\n",
    "database = os.getenv(\"SNOWFLAKE_DATABASE\")\n",
    "schema = os.getenv(\"SNOWFLAKE_SCHEMA\")\n",
    "\n",
    "engine = create_engine(\n",
    "    f'snowflake://{user}:{password}@{account}/{database}/{schema}?warehouse={warehouse}'\n",
    ")\n",
    "\n",
    "def run_query(_query: str) -> pd.DataFrame:\n",
    "    if engine is None:\n",
    "        raise RuntimeError(\"Failed to create SQLAlchemy engine.\")\n",
    "    return pd.read_sql(_query, engine)\n",
    "\n",
    "print(user)"
   ]
  },
  {
   "cell_type": "code",
   "execution_count": null,
   "metadata": {},
   "outputs": [
    {
     "name": "stdout",
     "output_type": "stream",
     "text": [
      "None\n"
     ]
    }
   ],
   "source": [
    "\n",
    "df = run_query(\"select * from DATAFLIX.RAW.TITLE_BASICS limit 10\")"
   ]
  }
 ],
 "metadata": {
  "kernelspec": {
   "display_name": "imdb",
   "language": "python",
   "name": "python3"
  },
  "language_info": {
   "codemirror_mode": {
    "name": "ipython",
    "version": 3
   },
   "file_extension": ".py",
   "mimetype": "text/x-python",
   "name": "python",
   "nbconvert_exporter": "python",
   "pygments_lexer": "ipython3",
   "version": "3.11.10"
  }
 },
 "nbformat": 4,
 "nbformat_minor": 5
}
