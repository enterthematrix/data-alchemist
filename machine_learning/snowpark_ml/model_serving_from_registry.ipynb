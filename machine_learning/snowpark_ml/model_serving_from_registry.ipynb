{
 "cells": [
  {
   "cell_type": "markdown",
   "metadata": {},
   "source": [
    "# Model-Serving"
   ]
  },
  {
   "cell_type": "code",
   "execution_count": 1,
   "metadata": {},
   "outputs": [
    {
     "name": "stderr",
     "output_type": "stream",
     "text": [
      "SnowflakeLoginOptions() is in private preview since 0.2.0. Do not use it in production. \n"
     ]
    }
   ],
   "source": [
    "from snowflake.snowpark import Session\n",
    "from snowflake.ml.utils.connection_params import SnowflakeLoginOptions\n",
    "\n",
    "conn = SnowflakeLoginOptions(\"sanju\")\n",
    "session = Session.builder.configs(conn).create()\n",
    "session.use_warehouse(\"ADHOC_WH\")\n",
    "session.use_database(\"DATA_ALCHEMIST\")\n",
    "session.use_schema(\"DIAMONDS\")"
   ]
  },
  {
   "cell_type": "code",
   "execution_count": 3,
   "metadata": {},
   "outputs": [
    {
     "name": "stdout",
     "output_type": "stream",
     "text": [
      "------------------------------------------------------------------------------------------------------------------------------------------------------------------------------------------------------------------------------------------------------------------------------------------------------------------------------------------------------------------------------------------------------------------------------------------------------------------------------------------------------------------------------------\n",
      "|\"CUT_OHE_FAIR\"  |\"CUT_OHE_GOOD\"  |\"CUT_OHE_IDEAL\"  |\"CUT_OHE_PREMIUM\"  |\"CUT_OHE_VERY_GOOD\"  |\"COLOR_OHE_D\"  |\"COLOR_OHE_E\"  |\"COLOR_OHE_F\"  |\"COLOR_OHE_G\"  |\"COLOR_OHE_H\"  |\"COLOR_OHE_I\"  |\"COLOR_OHE_J\"  |\"CLARITY_OHE_I1\"  |\"CLARITY_OHE_IF\"  |\"CLARITY_OHE_SI1\"  |\"CLARITY_OHE_SI2\"  |\"CLARITY_OHE_VS1\"  |\"CLARITY_OHE_VS2\"  |\"CLARITY_OHE_VVS1\"  |\"CLARITY_OHE_VVS2\"  |\"CUT_OE\"  |\"CLARITY_OE\"  |\"COLOR_OE\"  |\"COLOR\"  |\"CLARITY\"  |\"PRICE\"  |\"CUT\"  |\"CARAT\"  |\"X\"   |\"Y\"   |\"Z\"   |\"DEPTH\"  |\"TABLE_PCT\"  |\"CARAT_NORM\"  |\n",
      "------------------------------------------------------------------------------------------------------------------------------------------------------------------------------------------------------------------------------------------------------------------------------------------------------------------------------------------------------------------------------------------------------------------------------------------------------------------------------------------------------------------------------------\n",
      "|0.0             |1.0             |0.0              |0.0                |0.0                  |0.0            |0.0            |0.0            |1.0            |0.0            |0.0            |0.0            |0.0               |0.0               |0.0                |1.0                |0.0                |0.0                |0.0                 |0.0                 |3.0       |6.0           |3.0         |G        |SI2        |3340     |GOOD   |0.91     |6.08  |6.12  |3.86  |63.3     |57.0         |0.147609      |\n",
      "|0.0             |1.0             |0.0              |0.0                |0.0                  |0.0            |0.0            |0.0            |1.0            |0.0            |0.0            |0.0            |0.0               |0.0               |0.0                |1.0                |0.0                |0.0                |0.0                 |0.0                 |3.0       |6.0           |3.0         |G        |SI2        |3350     |GOOD   |0.9      |6.28  |6.33  |3.69  |58.5     |61.0         |0.145530      |\n",
      "|0.0             |1.0             |0.0              |0.0                |0.0                  |0.0            |0.0            |0.0            |1.0            |0.0            |0.0            |0.0            |0.0               |0.0               |0.0                |1.0                |0.0                |0.0                |0.0                 |0.0                 |3.0       |6.0           |3.0         |G        |SI2        |3353     |GOOD   |0.9      |6.13  |6.2   |3.78  |61.3     |60.0         |0.145530      |\n",
      "|0.0             |1.0             |0.0              |0.0                |0.0                  |0.0            |0.0            |0.0            |1.0            |0.0            |0.0            |0.0            |0.0               |0.0               |0.0                |1.0                |0.0                |0.0                |0.0                 |0.0                 |3.0       |6.0           |3.0         |G        |SI2        |408      |GOOD   |0.31     |4.31  |4.33  |2.73  |63.2     |55.0         |0.022869      |\n",
      "|0.0             |1.0             |0.0              |0.0                |0.0                  |0.0            |0.0            |0.0            |1.0            |0.0            |0.0            |0.0            |0.0               |0.0               |0.0                |1.0                |0.0                |0.0                |0.0                 |0.0                 |3.0       |6.0           |3.0         |G        |SI2        |2333     |GOOD   |0.72     |5.74  |5.65  |3.63  |63.7     |59.0         |0.108108      |\n",
      "|0.0             |1.0             |0.0              |0.0                |0.0                  |0.0            |0.0            |0.0            |1.0            |0.0            |0.0            |0.0            |0.0               |0.0               |0.0                |1.0                |0.0                |0.0                |0.0                 |0.0                 |3.0       |6.0           |3.0         |G        |SI2        |2363     |GOOD   |0.8      |5.86  |5.9   |3.69  |62.8     |58.0         |0.124740      |\n",
      "|0.0             |1.0             |0.0              |0.0                |0.0                  |0.0            |0.0            |0.0            |1.0            |0.0            |0.0            |0.0            |0.0               |0.0               |0.0                |1.0                |0.0                |0.0                |0.0                 |0.0                 |3.0       |6.0           |3.0         |G        |SI2        |2474     |GOOD   |0.81     |6.11  |6.15  |3.63  |59.2     |64.0         |0.126819      |\n",
      "|0.0             |1.0             |0.0              |0.0                |0.0                  |0.0            |0.0            |0.0            |1.0            |0.0            |0.0            |0.0            |0.0               |0.0               |0.0                |1.0                |0.0                |0.0                |0.0                 |0.0                 |3.0       |6.0           |3.0         |G        |SI2        |2484     |GOOD   |0.8      |5.88  |5.83  |3.73  |63.7     |58.0         |0.124740      |\n",
      "|0.0             |1.0             |0.0              |0.0                |0.0                  |0.0            |0.0            |0.0            |1.0            |0.0            |0.0            |0.0            |0.0               |0.0               |0.0                |1.0                |0.0                |0.0                |0.0                 |0.0                 |3.0       |6.0           |3.0         |G        |SI2        |2512     |GOOD   |0.82     |5.89  |5.84  |3.74  |63.8     |60.0         |0.128898      |\n",
      "|0.0             |1.0             |0.0              |0.0                |0.0                  |0.0            |0.0            |0.0            |1.0            |0.0            |0.0            |0.0            |0.0               |0.0               |0.0                |1.0                |0.0                |0.0                |0.0                 |0.0                 |3.0       |6.0           |3.0         |G        |SI2        |2550     |GOOD   |0.77     |5.84  |5.78  |3.71  |63.9     |59.0         |0.118503      |\n",
      "------------------------------------------------------------------------------------------------------------------------------------------------------------------------------------------------------------------------------------------------------------------------------------------------------------------------------------------------------------------------------------------------------------------------------------------------------------------------------------------------------------------------------------\n",
      "\n"
     ]
    }
   ],
   "source": [
    "df = session.table(\"diamonds_transform\")\n",
    "_, test_df = df.random_split(weights=[0.9, 0.1], seed=0)\n",
    "df.show()"
   ]
  },
  {
   "cell_type": "markdown",
   "metadata": {},
   "source": [
    "List all models in current registry"
   ]
  },
  {
   "cell_type": "code",
   "execution_count": 4,
   "metadata": {},
   "outputs": [
    {
     "name": "stdout",
     "output_type": "stream",
     "text": [
      "Models:\n"
     ]
    },
    {
     "data": {
      "text/html": [
       "<div>\n",
       "<style scoped>\n",
       "    .dataframe tbody tr th:only-of-type {\n",
       "        vertical-align: middle;\n",
       "    }\n",
       "\n",
       "    .dataframe tbody tr th {\n",
       "        vertical-align: top;\n",
       "    }\n",
       "\n",
       "    .dataframe thead th {\n",
       "        text-align: right;\n",
       "    }\n",
       "</style>\n",
       "<table border=\"1\" class=\"dataframe\">\n",
       "  <thead>\n",
       "    <tr style=\"text-align: right;\">\n",
       "      <th></th>\n",
       "      <th>created_on</th>\n",
       "      <th>name</th>\n",
       "      <th>model_type</th>\n",
       "      <th>database_name</th>\n",
       "      <th>schema_name</th>\n",
       "      <th>comment</th>\n",
       "      <th>owner</th>\n",
       "      <th>default_version_name</th>\n",
       "      <th>versions</th>\n",
       "      <th>aliases</th>\n",
       "    </tr>\n",
       "  </thead>\n",
       "  <tbody>\n",
       "    <tr>\n",
       "      <th>0</th>\n",
       "      <td>2025-05-04 19:55:44.027000-07:00</td>\n",
       "      <td>DIAMOND_PRICE_PREDICTOR</td>\n",
       "      <td>USER_MODEL</td>\n",
       "      <td>DATA_ALCHEMIST</td>\n",
       "      <td>DIAMONDS</td>\n",
       "      <td>None</td>\n",
       "      <td>ACCOUNTADMIN</td>\n",
       "      <td>V1</td>\n",
       "      <td>[\"V1\"]</td>\n",
       "      <td>{\"DEFAULT\":\"V1\",\"FIRST\":\"V1\",\"LAST\":\"V1\"}</td>\n",
       "    </tr>\n",
       "  </tbody>\n",
       "</table>\n",
       "</div>"
      ],
      "text/plain": [
       "                        created_on                     name  model_type  \\\n",
       "0 2025-05-04 19:55:44.027000-07:00  DIAMOND_PRICE_PREDICTOR  USER_MODEL   \n",
       "\n",
       "    database_name schema_name comment         owner default_version_name  \\\n",
       "0  DATA_ALCHEMIST    DIAMONDS    None  ACCOUNTADMIN                   V1   \n",
       "\n",
       "  versions                                    aliases  \n",
       "0   [\"V1\"]  {\"DEFAULT\":\"V1\",\"FIRST\":\"V1\",\"LAST\":\"V1\"}  "
      ]
     },
     "execution_count": 4,
     "metadata": {},
     "output_type": "execute_result"
    }
   ],
   "source": [
    "from snowflake.ml.registry import Registry\n",
    "\n",
    "registry = Registry(session=session)\n",
    "print(\"Models:\"); registry.show_models()"
   ]
  },
  {
   "cell_type": "markdown",
   "metadata": {},
   "source": [
    "Describe our model"
   ]
  },
  {
   "cell_type": "code",
   "execution_count": 5,
   "metadata": {},
   "outputs": [
    {
     "name": "stdout",
     "output_type": "stream",
     "text": [
      "Functions:\n"
     ]
    },
    {
     "data": {
      "text/plain": [
       "[{'name': 'EXPLAIN',\n",
       "  'target_method': 'explain',\n",
       "  'target_method_function_type': 'TABLE_FUNCTION',\n",
       "  'signature': ModelSignature(\n",
       "                      inputs=[\n",
       "                          FeatureSpec(dtype=DataType.DOUBLE, name='CUT_OE', nullable=True),\n",
       "  \t\tFeatureSpec(dtype=DataType.DOUBLE, name='COLOR_OE', nullable=True),\n",
       "  \t\tFeatureSpec(dtype=DataType.DOUBLE, name='CLARITY_OE', nullable=True),\n",
       "  \t\tFeatureSpec(dtype=DataType.DOUBLE, name='CARAT', nullable=True),\n",
       "  \t\tFeatureSpec(dtype=DataType.DOUBLE, name='DEPTH', nullable=True),\n",
       "  \t\tFeatureSpec(dtype=DataType.DOUBLE, name='TABLE_PCT', nullable=True),\n",
       "  \t\tFeatureSpec(dtype=DataType.DOUBLE, name='X', nullable=True),\n",
       "  \t\tFeatureSpec(dtype=DataType.DOUBLE, name='Y', nullable=True),\n",
       "  \t\tFeatureSpec(dtype=DataType.DOUBLE, name='Z', nullable=True)\n",
       "                      ],\n",
       "                      outputs=[\n",
       "                          FeatureSpec(dtype=DataType.DOUBLE, name='\"CUT_OE_explanation\"', nullable=True),\n",
       "  \t\tFeatureSpec(dtype=DataType.DOUBLE, name='\"COLOR_OE_explanation\"', nullable=True),\n",
       "  \t\tFeatureSpec(dtype=DataType.DOUBLE, name='\"CLARITY_OE_explanation\"', nullable=True),\n",
       "  \t\tFeatureSpec(dtype=DataType.DOUBLE, name='\"CARAT_explanation\"', nullable=True),\n",
       "  \t\tFeatureSpec(dtype=DataType.DOUBLE, name='\"DEPTH_explanation\"', nullable=True),\n",
       "  \t\tFeatureSpec(dtype=DataType.DOUBLE, name='\"TABLE_PCT_explanation\"', nullable=True),\n",
       "  \t\tFeatureSpec(dtype=DataType.DOUBLE, name='\"X_explanation\"', nullable=True),\n",
       "  \t\tFeatureSpec(dtype=DataType.DOUBLE, name='\"Y_explanation\"', nullable=True),\n",
       "  \t\tFeatureSpec(dtype=DataType.DOUBLE, name='\"Z_explanation\"', nullable=True)\n",
       "                      ]\n",
       "                  ),\n",
       "  'is_partitioned': True},\n",
       " {'name': 'PREDICT',\n",
       "  'target_method': 'predict',\n",
       "  'target_method_function_type': 'FUNCTION',\n",
       "  'signature': ModelSignature(\n",
       "                      inputs=[\n",
       "                          FeatureSpec(dtype=DataType.DOUBLE, name='CUT_OE', nullable=True),\n",
       "  \t\tFeatureSpec(dtype=DataType.DOUBLE, name='COLOR_OE', nullable=True),\n",
       "  \t\tFeatureSpec(dtype=DataType.DOUBLE, name='CLARITY_OE', nullable=True),\n",
       "  \t\tFeatureSpec(dtype=DataType.DOUBLE, name='CARAT', nullable=True),\n",
       "  \t\tFeatureSpec(dtype=DataType.DOUBLE, name='DEPTH', nullable=True),\n",
       "  \t\tFeatureSpec(dtype=DataType.DOUBLE, name='TABLE_PCT', nullable=True),\n",
       "  \t\tFeatureSpec(dtype=DataType.DOUBLE, name='X', nullable=True),\n",
       "  \t\tFeatureSpec(dtype=DataType.DOUBLE, name='Y', nullable=True),\n",
       "  \t\tFeatureSpec(dtype=DataType.DOUBLE, name='Z', nullable=True)\n",
       "                      ],\n",
       "                      outputs=[\n",
       "                          FeatureSpec(dtype=DataType.DOUBLE, name='CUT_OE', nullable=True),\n",
       "  \t\tFeatureSpec(dtype=DataType.DOUBLE, name='COLOR_OE', nullable=True),\n",
       "  \t\tFeatureSpec(dtype=DataType.DOUBLE, name='CLARITY_OE', nullable=True),\n",
       "  \t\tFeatureSpec(dtype=DataType.DOUBLE, name='CARAT', nullable=True),\n",
       "  \t\tFeatureSpec(dtype=DataType.DOUBLE, name='DEPTH', nullable=True),\n",
       "  \t\tFeatureSpec(dtype=DataType.DOUBLE, name='TABLE_PCT', nullable=True),\n",
       "  \t\tFeatureSpec(dtype=DataType.DOUBLE, name='X', nullable=True),\n",
       "  \t\tFeatureSpec(dtype=DataType.DOUBLE, name='Y', nullable=True),\n",
       "  \t\tFeatureSpec(dtype=DataType.DOUBLE, name='Z', nullable=True),\n",
       "  \t\tFeatureSpec(dtype=DataType.DOUBLE, name='PREDICTED_PRICE', nullable=True)\n",
       "                      ]\n",
       "                  ),\n",
       "  'is_partitioned': False}]"
      ]
     },
     "execution_count": 5,
     "metadata": {},
     "output_type": "execute_result"
    }
   ],
   "source": [
    "model = registry.get_model(\"DIAMOND_PRICE_PREDICTOR\")\n",
    "mv = model.default\n",
    "print(\"Functions:\"); mv.show_functions()"
   ]
  },
  {
   "cell_type": "markdown",
   "metadata": {},
   "source": [
    "Run predictions"
   ]
  },
  {
   "cell_type": "code",
   "execution_count": null,
   "metadata": {},
   "outputs": [
    {
     "name": "stdout",
     "output_type": "stream",
     "text": [
      "-------------------------------\n",
      "|\"PRICE\"  |\"PREDICTED_PRICE\"  |\n",
      "-------------------------------\n",
      "|1960     |2049.34            |\n",
      "|1107     |1035.33            |\n",
      "|506      |477.57             |\n",
      "|394      |400.1              |\n",
      "|17841    |16864.77           |\n",
      "|3478     |3565.01            |\n",
      "|3539     |3424.09            |\n",
      "|2759     |2414.76            |\n",
      "|2893     |2750.83            |\n",
      "|2056     |2080.0             |\n",
      "-------------------------------\n",
      "\n"
     ]
    }
   ],
   "source": [
    "pred = mv.run(test_df,function_name='predict')      \n",
    "pred.select(\"PRICE\", \"PREDICTED_PRICE\").show()"
   ]
  },
  {
   "cell_type": "markdown",
   "metadata": {},
   "source": [
    "Metrics:"
   ]
  },
  {
   "cell_type": "code",
   "execution_count": 8,
   "metadata": {},
   "outputs": [
    {
     "name": "stdout",
     "output_type": "stream",
     "text": [
      "MAPE: 0.0638390655184737\n"
     ]
    }
   ],
   "source": [
    "from snowflake.ml.modeling.metrics import mean_absolute_percentage_error\n",
    "\n",
    "mape = mean_absolute_percentage_error(\n",
    "    df=pred, \n",
    "    y_true_col_names=\"PRICE\", \n",
    "    y_pred_col_names=\"PREDICTED_PRICE\")\n",
    "print(f\"MAPE: {mape}\")"
   ]
  }
 ],
 "metadata": {
  "kernelspec": {
   "display_name": "ml",
   "language": "python",
   "name": "python3"
  },
  "language_info": {
   "codemirror_mode": {
    "name": "ipython",
    "version": 3
   },
   "file_extension": ".py",
   "mimetype": "text/x-python",
   "name": "python",
   "nbconvert_exporter": "python",
   "pygments_lexer": "ipython3",
   "version": "3.12.5"
  }
 },
 "nbformat": 4,
 "nbformat_minor": 2
}
