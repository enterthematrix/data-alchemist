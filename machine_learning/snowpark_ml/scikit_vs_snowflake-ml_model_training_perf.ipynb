{
 "cells": [
  {
   "cell_type": "markdown",
   "metadata": {},
   "source": [
    "# SciKit vs Snowflake ML\n",
    "\n",
    "Pre-processing performance comparison"
   ]
  },
  {
   "cell_type": "markdown",
   "metadata": {},
   "source": [
    "## Setup"
   ]
  },
  {
   "cell_type": "code",
   "execution_count": null,
   "metadata": {},
   "outputs": [],
   "source": [
    "import random, string\n",
    "import pandas as pd\n",
    "import time, math\n",
    "from sklearn.datasets import make_classification\n",
    "\n",
    "from snowflake.snowpark import Session\n",
    "from snowflake.ml.utils.connection_params import SnowflakeLoginOptions\n",
    "\n",
    "session = Session.builder.configs(SnowflakeLoginOptions(\"sanju\")).create()\n",
    "session.use_warehouse(\"ADHOC_WH\")\n",
    "session.use_database(\"DATA_ALCHEMIST\")\n",
    "session.use_schema(\"CORTEX\")\n",
    "\n"
   ]
  },
  {
   "cell_type": "markdown",
   "metadata": {},
   "source": [
    "Data Generation"
   ]
  },
  {
   "cell_type": "code",
   "execution_count": 5,
   "metadata": {},
   "outputs": [
    {
     "name": "stdout",
     "output_type": "stream",
     "text": [
      "0.44703495875000954 GB\n"
     ]
    }
   ],
   "source": [
    "# Sixe: 0.04 GB\n",
    "ONE_MN=1000000\n",
    "# Sixe: 0.44 GB\n",
    "TEN_MN=10000000\n",
    "# Sixe: 4.47\n",
    "HUNDRED_MN=100000000\n",
    "\n",
    "X, y = make_classification(n_samples=TEN_MN, n_features=6,\n",
    "    n_informative=4, n_redundant=1, random_state=0, shuffle=True)\n",
    "\n",
    "X = pd.DataFrame(X, columns=[\"X1\", \"X2\", \"X3\", \"X4\", \"X5\", \"X6\"])\n",
    "y = pd.DataFrame(y, columns=[\"Y\"])\n",
    "pdf = pd.concat([X, y], axis=1)\n",
    "\n",
    "print(X.memory_usage(deep=True).sum() / (1024**3), \"GB\")"
   ]
  },
  {
   "cell_type": "markdown",
   "metadata": {},
   "source": [
    "Write data to Snowflake table"
   ]
  },
  {
   "cell_type": "code",
   "execution_count": 7,
   "metadata": {},
   "outputs": [
    {
     "name": "stdout",
     "output_type": "stream",
     "text": [
      "-------------------------------------------------------------------------------------------------------------------------------------------------\n",
      "|\"X1\"                  |\"X2\"                  |\"X3\"                 |\"X4\"                  |\"X5\"                   |\"X6\"                  |\"Y\"  |\n",
      "-------------------------------------------------------------------------------------------------------------------------------------------------\n",
      "|0.5899129227145623    |-0.20009392338453252  |-1.1199912533109633  |-0.543343483520465    |-0.007069701452958155  |1.1015018678084316    |1    |\n",
      "|-0.15020340877272498  |1.4493874853246336    |1.0226614372265614   |-0.34165974367123275  |0.7816172388344352     |0.17615008194516846   |1    |\n",
      "|0.40113266747430476   |0.11880749460345463   |-1.4879795421927695  |0.04405706515417407   |-1.4963080012633612    |2.2300562361511806    |1    |\n",
      "|0.08489148379494038   |-1.8155771969299426   |2.5927323817045487   |0.47690806433115174   |0.2954813260809698     |1.1131962915510076    |1    |\n",
      "|0.486852586521761     |0.09769540022065172   |1.9939317540824675   |1.9036227139594875    |-1.1200901228435534    |0.05716703025033176   |1    |\n",
      "|-0.5299964849873029   |-0.6016712720673665   |0.646663985369035    |-1.119332679596804    |1.4437725426905363     |-0.05670232964615651  |1    |\n",
      "|2.7333598771392262    |-2.0578250080855613   |0.7630370496361167   |3.3595055515366212    |-1.095766169336507     |-2.821531511620019    |0    |\n",
      "|-1.2062728937169744   |0.22703709028031285   |1.2780973841194805   |-1.352776993661975    |1.2945732959888683     |0.8525105183901556    |1    |\n",
      "|-1.138179031491519    |-1.3236804351426996   |0.950052686656263    |-1.3478798567054047   |2.1860438864266727     |-1.6269674211108325   |1    |\n",
      "|-2.0204818541980867   |-1.633883849703313    |2.293476417356591    |-0.9604863901723442   |1.5178160725083616     |-0.7503814237348508   |1    |\n",
      "-------------------------------------------------------------------------------------------------------------------------------------------------\n",
      "\n"
     ]
    }
   ],
   "source": [
    "df = session.create_dataframe(pdf)\n",
    "df.write.mode(\"overwrite\").save_as_table(\"CLASSIFICATION_DATASET\")\n",
    "df.show()"
   ]
  },
  {
   "cell_type": "markdown",
   "metadata": {},
   "source": [
    "## SciKit"
   ]
  },
  {
   "cell_type": "code",
   "execution_count": null,
   "metadata": {},
   "outputs": [
    {
     "name": "stdout",
     "output_type": "stream",
     "text": [
      "29 seconds\n"
     ]
    }
   ],
   "source": [
    "from xgboost import XGBClassifier\n",
    "from sklearn.model_selection import train_test_split\n",
    "\n",
    "df = session.table(\"CLASSIFICATION_DATASET\").to_pandas()\n",
    "X = pd.DataFrame(df, columns=[\"X1\", \"X2\", \"X3\", \"X4\", \"X5\", \"X6\"])\n",
    "y = pd.DataFrame(df, columns=[\"Y\"])\n",
    "X_train, _, y_train, _ = train_test_split(X, y, test_size=0.1)\n",
    "\n",
    "# ========================================================================\n",
    "# 29 secs for 10M (X-Small) \n",
    "start_time = time.time()\n",
    "\n",
    "clf = XGBClassifier()\n",
    "clf.fit(X_train, y_train)\n",
    "\n",
    "total_time = math.trunc(time.time() - start_time)\n",
    "print(f\"{total_time} seconds\")\n"
   ]
  },
  {
   "cell_type": "markdown",
   "metadata": {},
   "source": [
    "## Snowflake ML"
   ]
  },
  {
   "cell_type": "code",
   "execution_count": null,
   "metadata": {},
   "outputs": [],
   "source": [
    "from snowflake.ml.modeling.xgboost import XGBClassifier\n",
    "\n",
    "df = session.table(\"CLASSIFICATION_DATASET\")\n",
    "train_data, _ = df.random_split(weights=[0.9, 0.1], seed=0)\n",
    "\n",
    "# ========================================================================\n",
    "# 85 secs for 10M (X-Small) \n",
    "start_time = time.time()\n",
    "clf = XGBClassifier(\n",
    "    input_cols=[\"X1\", \"X2\", \"X3\", \"X4\", \"X5\", \"X6\"],\n",
    "    label_cols=[\"Y\"],\n",
    "    output_cols=[\"PREDICTIONS\"])\n",
    "clf.fit(train_data)\n",
    "\n",
    "total_time = math.trunc(time.time() - start_time)\n",
    "print(f\"{total_time} seconds\")"
   ]
  }
 ],
 "metadata": {
  "kernelspec": {
   "display_name": "ml",
   "language": "python",
   "name": "python3"
  },
  "language_info": {
   "codemirror_mode": {
    "name": "ipython",
    "version": 3
   },
   "file_extension": ".py",
   "mimetype": "text/x-python",
   "name": "python",
   "nbconvert_exporter": "python",
   "pygments_lexer": "ipython3",
   "version": "3.12.5"
  }
 },
 "nbformat": 4,
 "nbformat_minor": 2
}
