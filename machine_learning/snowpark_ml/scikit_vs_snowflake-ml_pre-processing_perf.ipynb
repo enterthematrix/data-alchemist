{
 "cells": [
  {
   "cell_type": "markdown",
   "metadata": {},
   "source": [
    "# SciKit vs Snowflake ML\n",
    "\n",
    "Pre-processing performance comparison"
   ]
  },
  {
   "cell_type": "markdown",
   "metadata": {},
   "source": [
    "## Setup"
   ]
  },
  {
   "cell_type": "code",
   "execution_count": 9,
   "metadata": {},
   "outputs": [],
   "source": [
    "import random, string\n",
    "import pandas as pd\n",
    "import time, math\n",
    "from IPython.display import display\n",
    "from sklearn.datasets import make_regression\n",
    "from sklearn.preprocessing import OrdinalEncoder, MinMaxScaler\n",
    "\n",
    "from snowflake.snowpark import Session\n",
    "from snowflake.ml.utils.connection_params import SnowflakeLoginOptions\n",
    "\n",
    "session = Session.builder.configs(SnowflakeLoginOptions(\"sanju\")).create()\n",
    "session.use_warehouse(\"ADHOC_WH\")\n",
    "session.use_database(\"DATA_ALCHEMIST\")\n",
    "session.use_schema(\"CORTEX\")\n",
    "\n"
   ]
  },
  {
   "cell_type": "markdown",
   "metadata": {},
   "source": [
    "Data Generation"
   ]
  },
  {
   "cell_type": "code",
   "execution_count": null,
   "metadata": {},
   "outputs": [
    {
     "name": "stdout",
     "output_type": "stream",
     "text": [
      "1.0989607609808445 GB\n"
     ]
    }
   ],
   "source": [
    "# Sixe: 0.10 GB\n",
    "ONE_MN=1000000\n",
    "# Sixe: 1.0 GB\n",
    "TEN_MN=10000000\n",
    "# Sixe: 10.98 GB\n",
    "HUNDRED_MN=100000000\n",
    "\n",
    "X, _ = make_regression(n_samples=TEN_MN, n_features=2, noise=0.1, random_state=0)\n",
    "X = pd.DataFrame(X, columns=[\"N1\", \"N2\"])\n",
    "\n",
    "cat_features = {}\n",
    "for c in [\"C1\", \"C2\"]:\n",
    "    cat_features[c] = [\"\".join(random.choices(string.ascii_uppercase, k=2))\n",
    "        for _ in range(X.shape[0])]\n",
    "X = X.assign(**cat_features)\n",
    "print(X.memory_usage(deep=True).sum() / (1024**3), \"GB\")"
   ]
  },
  {
   "cell_type": "markdown",
   "metadata": {},
   "source": [
    "Write data to Snowflake table"
   ]
  },
  {
   "cell_type": "code",
   "execution_count": 14,
   "metadata": {},
   "outputs": [
    {
     "name": "stdout",
     "output_type": "stream",
     "text": [
      "------------------------------------------------------------\n",
      "|\"N1\"                 |\"N2\"                  |\"C1\"  |\"C2\"  |\n",
      "------------------------------------------------------------\n",
      "|-0.1610354267346038  |-0.11352353535248658  |HL    |NZ    |\n",
      "|0.7008022206416491   |-1.0317932437794488   |OC    |MV    |\n",
      "|-0.3657678917190336  |-0.12838701413357242  |OT    |LY    |\n",
      "|1.05510945502436     |1.510300053501725     |DX    |KB    |\n",
      "|0.4859850819476572   |-1.561051070692365    |KQ    |FN    |\n",
      "|1.6046941346780645   |-0.5767635469431348   |GA    |LE    |\n",
      "|1.1944185899921502   |-0.9244430746602714   |XV    |BP    |\n",
      "|0.341584518980672    |0.27194306628987974   |HP    |YX    |\n",
      "|-0.0420072830840601  |-0.7003844447530871   |TH    |EG    |\n",
      "|1.305520348980537    |0.06788646665668029   |QG    |SO    |\n",
      "------------------------------------------------------------\n",
      "\n"
     ]
    }
   ],
   "source": [
    "df = session.create_dataframe(X)\n",
    "df.write.mode(\"overwrite\").save_as_table(\"REGRESSION_DATASET\")\n",
    "df.show()"
   ]
  },
  {
   "cell_type": "markdown",
   "metadata": {},
   "source": [
    "## SciKit"
   ]
  },
  {
   "cell_type": "code",
   "execution_count": null,
   "metadata": {},
   "outputs": [
    {
     "name": "stdout",
     "output_type": "stream",
     "text": [
      "5 seconds\n"
     ]
    },
    {
     "data": {
      "text/html": [
       "<div>\n",
       "<style scoped>\n",
       "    .dataframe tbody tr th:only-of-type {\n",
       "        vertical-align: middle;\n",
       "    }\n",
       "\n",
       "    .dataframe tbody tr th {\n",
       "        vertical-align: top;\n",
       "    }\n",
       "\n",
       "    .dataframe thead th {\n",
       "        text-align: right;\n",
       "    }\n",
       "</style>\n",
       "<table border=\"1\" class=\"dataframe\">\n",
       "  <thead>\n",
       "    <tr style=\"text-align: right;\">\n",
       "      <th></th>\n",
       "      <th>N1</th>\n",
       "      <th>N2</th>\n",
       "      <th>C1</th>\n",
       "      <th>C2</th>\n",
       "      <th>C1O</th>\n",
       "      <th>C2O</th>\n",
       "      <th>N1FO</th>\n",
       "      <th>N2FO</th>\n",
       "      <th>C1FO</th>\n",
       "      <th>C2FO</th>\n",
       "    </tr>\n",
       "  </thead>\n",
       "  <tbody>\n",
       "    <tr>\n",
       "      <th>0</th>\n",
       "      <td>0.745417</td>\n",
       "      <td>-1.070801</td>\n",
       "      <td>CZ</td>\n",
       "      <td>YC</td>\n",
       "      <td>77.0</td>\n",
       "      <td>626.0</td>\n",
       "      <td>0.585036</td>\n",
       "      <td>0.382994</td>\n",
       "      <td>0.114074</td>\n",
       "      <td>0.927407</td>\n",
       "    </tr>\n",
       "    <tr>\n",
       "      <th>1</th>\n",
       "      <td>-1.159729</td>\n",
       "      <td>0.707654</td>\n",
       "      <td>PB</td>\n",
       "      <td>KB</td>\n",
       "      <td>391.0</td>\n",
       "      <td>261.0</td>\n",
       "      <td>0.407116</td>\n",
       "      <td>0.548089</td>\n",
       "      <td>0.579259</td>\n",
       "      <td>0.386667</td>\n",
       "    </tr>\n",
       "    <tr>\n",
       "      <th>2</th>\n",
       "      <td>0.109150</td>\n",
       "      <td>1.101181</td>\n",
       "      <td>BN</td>\n",
       "      <td>SO</td>\n",
       "      <td>39.0</td>\n",
       "      <td>482.0</td>\n",
       "      <td>0.525616</td>\n",
       "      <td>0.584620</td>\n",
       "      <td>0.057778</td>\n",
       "      <td>0.714074</td>\n",
       "    </tr>\n",
       "    <tr>\n",
       "      <th>3</th>\n",
       "      <td>2.575776</td>\n",
       "      <td>-1.284722</td>\n",
       "      <td>VW</td>\n",
       "      <td>HJ</td>\n",
       "      <td>568.0</td>\n",
       "      <td>191.0</td>\n",
       "      <td>0.755973</td>\n",
       "      <td>0.363136</td>\n",
       "      <td>0.841481</td>\n",
       "      <td>0.282963</td>\n",
       "    </tr>\n",
       "    <tr>\n",
       "      <th>4</th>\n",
       "      <td>1.541702</td>\n",
       "      <td>-0.388306</td>\n",
       "      <td>GX</td>\n",
       "      <td>RK</td>\n",
       "      <td>179.0</td>\n",
       "      <td>452.0</td>\n",
       "      <td>0.659401</td>\n",
       "      <td>0.446351</td>\n",
       "      <td>0.265185</td>\n",
       "      <td>0.669630</td>\n",
       "    </tr>\n",
       "    <tr>\n",
       "      <th>...</th>\n",
       "      <td>...</td>\n",
       "      <td>...</td>\n",
       "      <td>...</td>\n",
       "      <td>...</td>\n",
       "      <td>...</td>\n",
       "      <td>...</td>\n",
       "      <td>...</td>\n",
       "      <td>...</td>\n",
       "      <td>...</td>\n",
       "      <td>...</td>\n",
       "    </tr>\n",
       "    <tr>\n",
       "      <th>9999995</th>\n",
       "      <td>-0.472871</td>\n",
       "      <td>-1.971240</td>\n",
       "      <td>HY</td>\n",
       "      <td>NY</td>\n",
       "      <td>206.0</td>\n",
       "      <td>362.0</td>\n",
       "      <td>0.471261</td>\n",
       "      <td>0.299406</td>\n",
       "      <td>0.305185</td>\n",
       "      <td>0.536296</td>\n",
       "    </tr>\n",
       "    <tr>\n",
       "      <th>9999996</th>\n",
       "      <td>0.655903</td>\n",
       "      <td>0.370141</td>\n",
       "      <td>GT</td>\n",
       "      <td>XD</td>\n",
       "      <td>175.0</td>\n",
       "      <td>601.0</td>\n",
       "      <td>0.576677</td>\n",
       "      <td>0.516758</td>\n",
       "      <td>0.259259</td>\n",
       "      <td>0.890370</td>\n",
       "    </tr>\n",
       "    <tr>\n",
       "      <th>9999997</th>\n",
       "      <td>0.409867</td>\n",
       "      <td>1.010092</td>\n",
       "      <td>UJ</td>\n",
       "      <td>AA</td>\n",
       "      <td>529.0</td>\n",
       "      <td>0.0</td>\n",
       "      <td>0.553700</td>\n",
       "      <td>0.576164</td>\n",
       "      <td>0.783704</td>\n",
       "      <td>0.000000</td>\n",
       "    </tr>\n",
       "    <tr>\n",
       "      <th>9999998</th>\n",
       "      <td>-0.976495</td>\n",
       "      <td>-1.732982</td>\n",
       "      <td>ZA</td>\n",
       "      <td>RC</td>\n",
       "      <td>650.0</td>\n",
       "      <td>444.0</td>\n",
       "      <td>0.424228</td>\n",
       "      <td>0.321524</td>\n",
       "      <td>0.962963</td>\n",
       "      <td>0.657778</td>\n",
       "    </tr>\n",
       "    <tr>\n",
       "      <th>9999999</th>\n",
       "      <td>-1.332306</td>\n",
       "      <td>0.042136</td>\n",
       "      <td>GB</td>\n",
       "      <td>FY</td>\n",
       "      <td>157.0</td>\n",
       "      <td>154.0</td>\n",
       "      <td>0.390999</td>\n",
       "      <td>0.486309</td>\n",
       "      <td>0.232593</td>\n",
       "      <td>0.228148</td>\n",
       "    </tr>\n",
       "  </tbody>\n",
       "</table>\n",
       "<p>10000000 rows × 10 columns</p>\n",
       "</div>"
      ],
      "text/plain": [
       "               N1        N2  C1  C2    C1O    C2O      N1FO      N2FO  \\\n",
       "0        0.745417 -1.070801  CZ  YC   77.0  626.0  0.585036  0.382994   \n",
       "1       -1.159729  0.707654  PB  KB  391.0  261.0  0.407116  0.548089   \n",
       "2        0.109150  1.101181  BN  SO   39.0  482.0  0.525616  0.584620   \n",
       "3        2.575776 -1.284722  VW  HJ  568.0  191.0  0.755973  0.363136   \n",
       "4        1.541702 -0.388306  GX  RK  179.0  452.0  0.659401  0.446351   \n",
       "...           ...       ...  ..  ..    ...    ...       ...       ...   \n",
       "9999995 -0.472871 -1.971240  HY  NY  206.0  362.0  0.471261  0.299406   \n",
       "9999996  0.655903  0.370141  GT  XD  175.0  601.0  0.576677  0.516758   \n",
       "9999997  0.409867  1.010092  UJ  AA  529.0    0.0  0.553700  0.576164   \n",
       "9999998 -0.976495 -1.732982  ZA  RC  650.0  444.0  0.424228  0.321524   \n",
       "9999999 -1.332306  0.042136  GB  FY  157.0  154.0  0.390999  0.486309   \n",
       "\n",
       "             C1FO      C2FO  \n",
       "0        0.114074  0.927407  \n",
       "1        0.579259  0.386667  \n",
       "2        0.057778  0.714074  \n",
       "3        0.841481  0.282963  \n",
       "4        0.265185  0.669630  \n",
       "...           ...       ...  \n",
       "9999995  0.305185  0.536296  \n",
       "9999996  0.259259  0.890370  \n",
       "9999997  0.783704  0.000000  \n",
       "9999998  0.962963  0.657778  \n",
       "9999999  0.232593  0.228148  \n",
       "\n",
       "[10000000 rows x 10 columns]"
      ]
     },
     "metadata": {},
     "output_type": "display_data"
    }
   ],
   "source": [
    "X = session.table(\"REGRESSION_DATASET\").to_pandas()\n",
    "\n",
    "# ========================================================================\n",
    "# # Runs in 5 secs, 10 MM rows w/ XSmall WH \n",
    "start_time = time.time()\n",
    "\n",
    "X[[\"C1O\", \"C2O\"]] = OrdinalEncoder(\n",
    "    ).fit_transform(X[[\"C1\", \"C2\"]])\n",
    "X[[\"N1FO\", \"N2FO\", \"C1FO\", \"C2FO\"]] = MinMaxScaler(\n",
    "    ).fit_transform(X[[\"N1\", \"N2\", \"C1O\", \"C2O\"]])\n",
    "\n",
    "total_time = math.trunc(time.time() - start_time)\n",
    "print(f\"{total_time} seconds\")\n",
    "display(X)\n"
   ]
  },
  {
   "cell_type": "markdown",
   "metadata": {},
   "source": [
    "## Snowflake ML"
   ]
  },
  {
   "cell_type": "code",
   "execution_count": null,
   "metadata": {},
   "outputs": [
    {
     "name": "stderr",
     "output_type": "stream",
     "text": [
      "/Users/sanju/.pyenv/versions/ml/lib/python3.12/site-packages/snowflake/ml/model/model_signature.py:82: UserWarning: The sample input has 10000000 rows, thus a truncation happened before inferring signature. This might cause inaccurate signature inference. If that happens, consider specifying signature manually.\n",
      "  warnings.warn(\n"
     ]
    },
    {
     "name": "stdout",
     "output_type": "stream",
     "text": [
      "20 seconds\n",
      "---------------------------------------------------------------------------------------------------------------------------------------------------------------------\n",
      "|\"N1FO\"               |\"N2FO\"               |\"C1FO\"                |\"C2FO\"               |\"C1O\"  |\"C2O\"  |\"N1\"                 |\"N2\"                  |\"C1\"  |\"C2\"  |\n",
      "---------------------------------------------------------------------------------------------------------------------------------------------------------------------\n",
      "|0.49784626928976883  |0.4075627655244988   |0.9703703703703703    |0.46074074074074073  |655.0  |311.0  |-0.1882010395200003  |-0.8061422304663725   |ZF    |LZ    |\n",
      "|0.40552547557475926  |0.4420339251847886   |0.9555555555555555    |0.1925925925925926   |645.0  |130.0  |-1.1767572358692975  |-0.43480722189945925  |YV    |FA    |\n",
      "|0.41718187087774633  |0.5962268761940934   |0.8592592592592592    |0.23555555555555555  |580.0  |159.0  |-1.0519424315313308  |1.2262114774498765    |WI    |GD    |\n",
      "|0.39709033438705843  |0.6053002646142478   |0.28444444444444444   |0.4622222222222222   |192.0  |312.0  |-1.267079369731402   |1.323953091017067     |HK    |MA    |\n",
      "|0.5321877533200171   |0.4419435624250986   |0.06074074074074074   |0.914074074074074    |41.0   |617.0  |0.17952204283054707  |-0.43578064015617907  |BP    |XT    |\n",
      "|0.5487432241794903   |0.49342485050013535  |0.016296296296296295  |0.05185185185185185  |11.0   |35.0   |0.35679535952378966  |0.11879323367846789   |AL    |BJ    |\n",
      "|0.4436355925718074   |0.5673389709325825   |0.18074074074074073   |0.9037037037037037   |122.0  |610.0  |-0.768680238423558   |0.9150211765294004    |ES    |XM    |\n",
      "|0.45717005365297353  |0.4105927591103843   |0.16148148148148148   |0.6488888888888888   |109.0  |438.0  |-0.6237554080831974  |-0.7735021131839644   |EF    |QW    |\n",
      "|0.5849342529375695   |0.46540656531763136  |0.3985185185185185    |0.6162962962962962   |269.0  |416.0  |0.7443230690612157   |-0.1830292251772106   |KJ    |QA    |\n",
      "|0.5483180114672357   |0.5820492978587587   |0.7999999999999999    |0.3688888888888889   |540.0  |249.0  |0.35224225025608386  |1.0734858011311195    |UU    |JP    |\n",
      "---------------------------------------------------------------------------------------------------------------------------------------------------------------------\n",
      "\n"
     ]
    }
   ],
   "source": [
    "from snowflake.ml.modeling.preprocessing import MinMaxScaler, OrdinalEncoder\n",
    "from snowflake.ml.modeling.pipeline import Pipeline\n",
    "\n",
    "session.query_tag = \"transformers-new\"\n",
    "df = session.table(\"REGRESSION_DATASET\")\n",
    "\n",
    "# ========================================================================\n",
    "# Runs in 20 secs, 10 MM rows w/ XSmall WH. The dataset is not large enough to benifit from Snowflake's distributed compute\n",
    "start_time = time.time()\n",
    "\n",
    "pipe = Pipeline(steps=[\n",
    "    (\"encoder\", OrdinalEncoder(\n",
    "        input_cols=[\"C1\", \"C2\"],\n",
    "        output_cols=[\"C1O\", \"C2O\"])),\n",
    "    (\"scaler\", MinMaxScaler(\n",
    "        input_cols=[\"N1\", \"N2\", \"C1O\", \"C2O\"],\n",
    "        output_cols=[\"N1FO\", \"N2FO\", \"C1FO\", \"C2FO\"]))])\n",
    "pipe.fit(df)\n",
    "df = pipe.transform(df)\n",
    "\n",
    "total_time = math.trunc(time.time() - start_time)\n",
    "print(f\"{total_time} seconds\")\n",
    "df.show()"
   ]
  }
 ],
 "metadata": {
  "kernelspec": {
   "display_name": "ml",
   "language": "python",
   "name": "python3"
  },
  "language_info": {
   "codemirror_mode": {
    "name": "ipython",
    "version": 3
   },
   "file_extension": ".py",
   "mimetype": "text/x-python",
   "name": "python",
   "nbconvert_exporter": "python",
   "pygments_lexer": "ipython3",
   "version": "3.12.5"
  }
 },
 "nbformat": 4,
 "nbformat_minor": 2
}
