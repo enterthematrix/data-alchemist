{
 "cells": [
  {
   "cell_type": "markdown",
   "metadata": {},
   "source": [
    "# MLOps with Snowflake ML\n",
    "\n",
    "### Full Life-Cycle using Diamod dataset (loaded via data_science/test_data_generation/load_datasets_snowflake.sql)"
   ]
  },
  {
   "cell_type": "markdown",
   "metadata": {},
   "source": [
    "Connect with Snowflake and get diamond dataset"
   ]
  },
  {
   "cell_type": "code",
   "execution_count": null,
   "metadata": {},
   "outputs": [],
   "source": [
    "from snowflake.snowpark import Session\n",
    "from snowflake.ml.utils.connection_params import SnowflakeLoginOptions\n",
    "\n",
    "conn = SnowflakeLoginOptions(\"sanju\")\n",
    "session = Session.builder.configs(conn).create()\n",
    "session.use_warehouse(\"ADHOC_WH\")\n",
    "session.use_database(\"DATA_ALCHEMIST\")\n",
    "session.use_schema(\"DIAMONDS\")\n"
   ]
  },
  {
   "cell_type": "code",
   "execution_count": 8,
   "metadata": {},
   "outputs": [
    {
     "name": "stdout",
     "output_type": "stream",
     "text": [
      "-----------------------------------------------------------------------------------------------------------------------------------\n",
      "|\"name\"                                              |\"size\"   |\"md5\"                             |\"last_modified\"                |\n",
      "-----------------------------------------------------------------------------------------------------------------------------------\n",
      "|s3://sfquickstarts/intro-to-machine-learning-wi...  |2772143  |4d3d1d4bbad5e0806dbaec425cf90196  |Mon, 10 Jul 2023 22:04:47 GMT  |\n",
      "-----------------------------------------------------------------------------------------------------------------------------------\n",
      "\n",
      "------------------------------------------------------------------------------------------------\n",
      "|\"carat\"  |\"cut\"      |\"color\"  |\"clarity\"  |\"depth\"  |\"table\"  |\"price\"  |\"x\"   |\"y\"   |\"z\"   |\n",
      "------------------------------------------------------------------------------------------------\n",
      "|0.23     |Ideal      |E        |SI2        |61.5     |55.0     |326      |3.95  |3.98  |2.43  |\n",
      "|0.21     |Premium    |E        |SI1        |59.8     |61.0     |326      |3.89  |3.84  |2.31  |\n",
      "|0.23     |Good       |E        |VS1        |56.9     |65.0     |327      |4.05  |4.07  |2.31  |\n",
      "|0.29     |Premium    |I        |VS2        |62.4     |58.0     |334      |4.20  |4.23  |2.63  |\n",
      "|0.31     |Good       |J        |SI2        |63.3     |58.0     |335      |4.34  |4.35  |2.75  |\n",
      "|0.24     |Very Good  |J        |VVS2       |62.8     |57.0     |336      |3.94  |3.96  |2.48  |\n",
      "|0.24     |Very Good  |I        |VVS1       |62.3     |57.0     |336      |3.95  |3.98  |2.47  |\n",
      "|0.26     |Very Good  |H        |SI1        |61.9     |55.0     |337      |4.07  |4.11  |2.53  |\n",
      "|0.22     |Fair       |E        |VS2        |65.1     |61.0     |337      |3.87  |3.78  |2.49  |\n",
      "|0.23     |Very Good  |H        |VS1        |59.4     |61.0     |338      |4.00  |4.05  |2.39  |\n",
      "------------------------------------------------------------------------------------------------\n",
      "\n",
      "-------------------------------------------------------------------------------------------------------------------------------------------------------------------------------------------------\n",
      "|\"SUMMARY\"  |\"carat\"             |\"cut\"      |\"color\"  |\"clarity\"  |\"depth\"             |\"table\"             |\"price\"             |\"x\"                 |\"y\"                |\"z\"                 |\n",
      "-------------------------------------------------------------------------------------------------------------------------------------------------------------------------------------------------\n",
      "|min        |0.2                 |Fair       |D        |I1         |43.0                |43.0                |326.0               |0.0                 |0.0                |0.0                 |\n",
      "|count      |53940.0             |53940      |53940    |53940      |53940.0             |53940.0             |53940.0             |53940.0             |53940.0            |53940.0             |\n",
      "|stddev     |0.4740112443813965  |NULL       |NULL     |NULL       |1.4326213177249598  |2.2344905638646138  |3989.4397381463227  |1.1217607467726798  |1.142134674108093  |0.7056988469595228  |\n",
      "|max        |5.01                |Very Good  |J        |VVS2       |79.0                |95.0                |18823.0             |10.74               |58.9               |31.8                |\n",
      "|mean       |0.79793975          |NULL       |NULL     |NULL       |61.7494049          |57.4571839          |3932.799722         |5.73115721          |5.73452595         |3.53873378          |\n",
      "-------------------------------------------------------------------------------------------------------------------------------------------------------------------------------------------------\n",
      "\n"
     ]
    }
   ],
   "source": [
    "session.sql(\"LS @EXT_STAGE_LIST;\").show()\n",
    "pars = {\n",
    "    \"field_delimiter\": \",\",\n",
    "    \"field_optionally_enclosed_by\": '\"',\n",
    "    \"infer_schema\": True,\n",
    "    \"parse_header\": True }\n",
    "df = session.read.options(pars).csv(\"@EXT_STAGE_LIST\")\n",
    "df.show()\n",
    "df.describe().show()"
   ]
  },
  {
   "cell_type": "markdown",
   "metadata": {},
   "source": [
    "Pre-Processing"
   ]
  },
  {
   "cell_type": "code",
   "execution_count": 15,
   "metadata": {},
   "outputs": [
    {
     "name": "stdout",
     "output_type": "stream",
     "text": [
      "----------------------------------------------------------------------------------------------------\n",
      "|\"COLOR\"  |\"CLARITY\"  |\"PRICE\"  |\"CUT\"      |\"CARAT\"  |\"X\"   |\"Y\"   |\"Z\"   |\"DEPTH\"  |\"TABLE_PCT\"  |\n",
      "----------------------------------------------------------------------------------------------------\n",
      "|E        |SI2        |326      |IDEAL      |0.23     |3.95  |3.98  |2.43  |61.5     |55.0         |\n",
      "|E        |SI1        |326      |PREMIUM    |0.21     |3.89  |3.84  |2.31  |59.8     |61.0         |\n",
      "|E        |VS1        |327      |GOOD       |0.23     |4.05  |4.07  |2.31  |56.9     |65.0         |\n",
      "|I        |VS2        |334      |PREMIUM    |0.29     |4.2   |4.23  |2.63  |62.4     |58.0         |\n",
      "|J        |SI2        |335      |GOOD       |0.31     |4.34  |4.35  |2.75  |63.3     |58.0         |\n",
      "|J        |VVS2       |336      |VERY_GOOD  |0.24     |3.94  |3.96  |2.48  |62.8     |57.0         |\n",
      "|I        |VVS1       |336      |VERY_GOOD  |0.24     |3.95  |3.98  |2.47  |62.3     |57.0         |\n",
      "|H        |SI1        |337      |VERY_GOOD  |0.26     |4.07  |4.11  |2.53  |61.9     |55.0         |\n",
      "|E        |VS2        |337      |FAIR       |0.22     |3.87  |3.78  |2.49  |65.1     |61.0         |\n",
      "|H        |VS1        |338      |VERY_GOOD  |0.23     |4.0   |4.05  |2.39  |59.4     |61.0         |\n",
      "----------------------------------------------------------------------------------------------------\n",
      "\n"
     ]
    }
   ],
   "source": [
    "import numpy as np\n",
    "import snowflake.snowpark.functions as F\n",
    "from snowflake.snowpark.types import DoubleType\n",
    "from snowflake.snowpark.types import DecimalType\n",
    "\n",
    "for colname in df.columns:\n",
    "    if colname == '\"table\"': new_colname = \"TABLE_PCT\"\n",
    "    else: new_colname = str.upper(colname)\n",
    "    df = df.with_column_renamed(colname, new_colname)\n",
    "\n",
    "\n",
    "for col in [\"CUT\"]:\n",
    "    df = df.with_column(col, F.upper(F.regexp_replace(F.col(col), '[^a-zA-Z0-9]+', '_')))\n",
    "\n",
    "\n",
    "for colname in [\"CARAT\", \"X\", \"Y\", \"Z\", \"DEPTH\", \"TABLE_PCT\"]:\n",
    "    df = df.with_column(colname, df[colname].cast(DoubleType()))\n",
    "df.show()"
   ]
  },
  {
   "cell_type": "markdown",
   "metadata": {},
   "source": [
    "Tranformation"
   ]
  },
  {
   "cell_type": "code",
   "execution_count": 16,
   "metadata": {},
   "outputs": [
    {
     "name": "stdout",
     "output_type": "stream",
     "text": [
      "-------------------------------------------------------------------------------------------------------------------\n",
      "|\"COLOR\"  |\"CLARITY\"  |\"PRICE\"  |\"CUT\"      |\"CARAT\"  |\"X\"   |\"Y\"   |\"Z\"   |\"DEPTH\"  |\"TABLE_PCT\"  |\"CARAT_NORM\"  |\n",
      "-------------------------------------------------------------------------------------------------------------------\n",
      "|E        |SI2        |326      |IDEAL      |0.23     |3.95  |3.98  |2.43  |61.5     |55.0         |0.006237      |\n",
      "|E        |SI1        |326      |PREMIUM    |0.21     |3.89  |3.84  |2.31  |59.8     |61.0         |0.002079      |\n",
      "|E        |VS1        |327      |GOOD       |0.23     |4.05  |4.07  |2.31  |56.9     |65.0         |0.006237      |\n",
      "|I        |VS2        |334      |PREMIUM    |0.29     |4.2   |4.23  |2.63  |62.4     |58.0         |0.018711      |\n",
      "|J        |SI2        |335      |GOOD       |0.31     |4.34  |4.35  |2.75  |63.3     |58.0         |0.022869      |\n",
      "|J        |VVS2       |336      |VERY_GOOD  |0.24     |3.94  |3.96  |2.48  |62.8     |57.0         |0.008316      |\n",
      "|I        |VVS1       |336      |VERY_GOOD  |0.24     |3.95  |3.98  |2.47  |62.3     |57.0         |0.008316      |\n",
      "|H        |SI1        |337      |VERY_GOOD  |0.26     |4.07  |4.11  |2.53  |61.9     |55.0         |0.012474      |\n",
      "|E        |VS2        |337      |FAIR       |0.22     |3.87  |3.78  |2.49  |65.1     |61.0         |0.004158      |\n",
      "|H        |VS1        |338      |VERY_GOOD  |0.23     |4.0   |4.05  |2.39  |59.4     |61.0         |0.006237      |\n",
      "-------------------------------------------------------------------------------------------------------------------\n",
      "\n"
     ]
    }
   ],
   "source": [
    "from snowflake.ml.modeling.preprocessing import MinMaxScaler, OrdinalEncoder, OneHotEncoder\n",
    "pipe = MinMaxScaler(input_cols=[\"CARAT\"], output_cols=[\"CARAT_NORM\"])\n",
    "df = pipe.fit(df).transform(df)\n",
    "df = df.with_column(\"CARAT_NORM\", df.col(\"CARAT_NORM\").cast(DecimalType(7, 6)))\n",
    "df.show()"
   ]
  },
  {
   "cell_type": "code",
   "execution_count": 17,
   "metadata": {},
   "outputs": [
    {
     "name": "stdout",
     "output_type": "stream",
     "text": [
      "   _COLUMN_NAME  _CATEGORY  _INDEX\n",
      "0           CUT      IDEAL       0\n",
      "1           CUT    PREMIUM       1\n",
      "2           CUT  VERY_GOOD       2\n",
      "3           CUT       GOOD       3\n",
      "4           CUT       FAIR       4\n",
      "5       CLARITY         IF       0\n",
      "6       CLARITY       VVS1       1\n",
      "7       CLARITY       VVS2       2\n",
      "8       CLARITY        VS1       3\n",
      "9       CLARITY        VS2       4\n",
      "10      CLARITY        SI1       5\n",
      "11      CLARITY        SI2       6\n",
      "12      CLARITY         I1       7\n",
      "13      CLARITY         I2       8\n",
      "14      CLARITY         I3       9\n",
      "15        COLOR          D       0\n",
      "16        COLOR          E       1\n",
      "17        COLOR          F       2\n",
      "18        COLOR          G       3\n",
      "19        COLOR          H       4\n",
      "20        COLOR          I       5\n",
      "21        COLOR          J       6\n",
      "------------------------------------------------------------------------------------------------------------------------------------------------------\n",
      "|\"CUT_OE\"  |\"CLARITY_OE\"  |\"COLOR_OE\"  |\"COLOR\"  |\"CLARITY\"  |\"PRICE\"  |\"CUT\"  |\"CARAT\"  |\"X\"   |\"Y\"   |\"Z\"   |\"DEPTH\"  |\"TABLE_PCT\"  |\"CARAT_NORM\"  |\n",
      "------------------------------------------------------------------------------------------------------------------------------------------------------\n",
      "|3.0       |6.0           |3.0         |G        |SI2        |3340     |GOOD   |0.91     |6.08  |6.12  |3.86  |63.3     |57.0         |0.147609      |\n",
      "|3.0       |6.0           |3.0         |G        |SI2        |3350     |GOOD   |0.9      |6.28  |6.33  |3.69  |58.5     |61.0         |0.145530      |\n",
      "|3.0       |6.0           |3.0         |G        |SI2        |3353     |GOOD   |0.9      |6.13  |6.2   |3.78  |61.3     |60.0         |0.145530      |\n",
      "|3.0       |6.0           |3.0         |G        |SI2        |408      |GOOD   |0.31     |4.31  |4.33  |2.73  |63.2     |55.0         |0.022869      |\n",
      "|3.0       |6.0           |3.0         |G        |SI2        |2333     |GOOD   |0.72     |5.74  |5.65  |3.63  |63.7     |59.0         |0.108108      |\n",
      "|3.0       |6.0           |3.0         |G        |SI2        |2363     |GOOD   |0.8      |5.86  |5.9   |3.69  |62.8     |58.0         |0.124740      |\n",
      "|3.0       |6.0           |3.0         |G        |SI2        |2474     |GOOD   |0.81     |6.11  |6.15  |3.63  |59.2     |64.0         |0.126819      |\n",
      "|3.0       |6.0           |3.0         |G        |SI2        |2484     |GOOD   |0.8      |5.88  |5.83  |3.73  |63.7     |58.0         |0.124740      |\n",
      "|3.0       |6.0           |3.0         |G        |SI2        |2512     |GOOD   |0.82     |5.89  |5.84  |3.74  |63.8     |60.0         |0.128898      |\n",
      "|3.0       |6.0           |3.0         |G        |SI2        |2550     |GOOD   |0.77     |5.84  |5.78  |3.71  |63.9     |59.0         |0.118503      |\n",
      "------------------------------------------------------------------------------------------------------------------------------------------------------\n",
      "\n"
     ]
    }
   ],
   "source": [
    "categories = {\n",
    "    \"CUT\": np.array([\"IDEAL\", \"PREMIUM\", \"VERY_GOOD\", \"GOOD\", \"FAIR\"]),\n",
    "    \"CLARITY\": np.array([\"IF\", \"VVS1\", \"VVS2\", \"VS1\", \"VS2\", \"SI1\", \"SI2\", \"I1\", \"I2\", \"I3\"]),\n",
    "    \"COLOR\": np.array([\"D\", \"E\", \"F\", \"G\", \"H\", \"I\", \"J\"])}\n",
    "enc = OrdinalEncoder(\n",
    "    input_cols=[\"CUT\", \"CLARITY\", \"COLOR\"],\n",
    "    output_cols=[\"CUT_OE\", \"CLARITY_OE\", \"COLOR_OE\"],\n",
    "    categories=categories)\n",
    "df = enc.fit(df).transform(df)\n",
    "print(enc._state_pandas)\n",
    "df.show()"
   ]
  },
  {
   "cell_type": "code",
   "execution_count": 18,
   "metadata": {},
   "outputs": [
    {
     "name": "stdout",
     "output_type": "stream",
     "text": [
      "------------------------------------------------------------------------------------------------------------------------------------------------------------------------------------------------------------------------------------------------------------------------------------------------------------------------------------------------------------------------------------------------------------------------------------------------------------------------------------------------------------------------------------\n",
      "|\"CUT_OHE_FAIR\"  |\"CUT_OHE_GOOD\"  |\"CUT_OHE_IDEAL\"  |\"CUT_OHE_PREMIUM\"  |\"CUT_OHE_VERY_GOOD\"  |\"COLOR_OHE_D\"  |\"COLOR_OHE_E\"  |\"COLOR_OHE_F\"  |\"COLOR_OHE_G\"  |\"COLOR_OHE_H\"  |\"COLOR_OHE_I\"  |\"COLOR_OHE_J\"  |\"CLARITY_OHE_I1\"  |\"CLARITY_OHE_IF\"  |\"CLARITY_OHE_SI1\"  |\"CLARITY_OHE_SI2\"  |\"CLARITY_OHE_VS1\"  |\"CLARITY_OHE_VS2\"  |\"CLARITY_OHE_VVS1\"  |\"CLARITY_OHE_VVS2\"  |\"CUT_OE\"  |\"CLARITY_OE\"  |\"COLOR_OE\"  |\"COLOR\"  |\"CLARITY\"  |\"PRICE\"  |\"CUT\"  |\"CARAT\"  |\"X\"   |\"Y\"   |\"Z\"   |\"DEPTH\"  |\"TABLE_PCT\"  |\"CARAT_NORM\"  |\n",
      "------------------------------------------------------------------------------------------------------------------------------------------------------------------------------------------------------------------------------------------------------------------------------------------------------------------------------------------------------------------------------------------------------------------------------------------------------------------------------------------------------------------------------------\n",
      "|0.0             |1.0             |0.0              |0.0                |0.0                  |0.0            |0.0            |0.0            |1.0            |0.0            |0.0            |0.0            |0.0               |0.0               |0.0                |1.0                |0.0                |0.0                |0.0                 |0.0                 |3.0       |6.0           |3.0         |G        |SI2        |3340     |GOOD   |0.91     |6.08  |6.12  |3.86  |63.3     |57.0         |0.147609      |\n",
      "|0.0             |1.0             |0.0              |0.0                |0.0                  |0.0            |0.0            |0.0            |1.0            |0.0            |0.0            |0.0            |0.0               |0.0               |0.0                |1.0                |0.0                |0.0                |0.0                 |0.0                 |3.0       |6.0           |3.0         |G        |SI2        |3350     |GOOD   |0.9      |6.28  |6.33  |3.69  |58.5     |61.0         |0.145530      |\n",
      "|0.0             |1.0             |0.0              |0.0                |0.0                  |0.0            |0.0            |0.0            |1.0            |0.0            |0.0            |0.0            |0.0               |0.0               |0.0                |1.0                |0.0                |0.0                |0.0                 |0.0                 |3.0       |6.0           |3.0         |G        |SI2        |3353     |GOOD   |0.9      |6.13  |6.2   |3.78  |61.3     |60.0         |0.145530      |\n",
      "|0.0             |1.0             |0.0              |0.0                |0.0                  |0.0            |0.0            |0.0            |1.0            |0.0            |0.0            |0.0            |0.0               |0.0               |0.0                |1.0                |0.0                |0.0                |0.0                 |0.0                 |3.0       |6.0           |3.0         |G        |SI2        |408      |GOOD   |0.31     |4.31  |4.33  |2.73  |63.2     |55.0         |0.022869      |\n",
      "|0.0             |1.0             |0.0              |0.0                |0.0                  |0.0            |0.0            |0.0            |1.0            |0.0            |0.0            |0.0            |0.0               |0.0               |0.0                |1.0                |0.0                |0.0                |0.0                 |0.0                 |3.0       |6.0           |3.0         |G        |SI2        |2333     |GOOD   |0.72     |5.74  |5.65  |3.63  |63.7     |59.0         |0.108108      |\n",
      "|0.0             |1.0             |0.0              |0.0                |0.0                  |0.0            |0.0            |0.0            |1.0            |0.0            |0.0            |0.0            |0.0               |0.0               |0.0                |1.0                |0.0                |0.0                |0.0                 |0.0                 |3.0       |6.0           |3.0         |G        |SI2        |2363     |GOOD   |0.8      |5.86  |5.9   |3.69  |62.8     |58.0         |0.124740      |\n",
      "|0.0             |1.0             |0.0              |0.0                |0.0                  |0.0            |0.0            |0.0            |1.0            |0.0            |0.0            |0.0            |0.0               |0.0               |0.0                |1.0                |0.0                |0.0                |0.0                 |0.0                 |3.0       |6.0           |3.0         |G        |SI2        |2474     |GOOD   |0.81     |6.11  |6.15  |3.63  |59.2     |64.0         |0.126819      |\n",
      "|0.0             |1.0             |0.0              |0.0                |0.0                  |0.0            |0.0            |0.0            |1.0            |0.0            |0.0            |0.0            |0.0               |0.0               |0.0                |1.0                |0.0                |0.0                |0.0                 |0.0                 |3.0       |6.0           |3.0         |G        |SI2        |2484     |GOOD   |0.8      |5.88  |5.83  |3.73  |63.7     |58.0         |0.124740      |\n",
      "|0.0             |1.0             |0.0              |0.0                |0.0                  |0.0            |0.0            |0.0            |1.0            |0.0            |0.0            |0.0            |0.0               |0.0               |0.0                |1.0                |0.0                |0.0                |0.0                 |0.0                 |3.0       |6.0           |3.0         |G        |SI2        |2512     |GOOD   |0.82     |5.89  |5.84  |3.74  |63.8     |60.0         |0.128898      |\n",
      "|0.0             |1.0             |0.0              |0.0                |0.0                  |0.0            |0.0            |0.0            |1.0            |0.0            |0.0            |0.0            |0.0               |0.0               |0.0                |1.0                |0.0                |0.0                |0.0                 |0.0                 |3.0       |6.0           |3.0         |G        |SI2        |2550     |GOOD   |0.77     |5.84  |5.78  |3.71  |63.9     |59.0         |0.118503      |\n",
      "------------------------------------------------------------------------------------------------------------------------------------------------------------------------------------------------------------------------------------------------------------------------------------------------------------------------------------------------------------------------------------------------------------------------------------------------------------------------------------------------------------------------------------\n",
      "\n"
     ]
    }
   ],
   "source": [
    "enc = OneHotEncoder(\n",
    "    input_cols=[\"CUT\", \"COLOR\", \"CLARITY\"],\n",
    "    output_cols=[\"CUT_OHE\", \"COLOR_OHE\", \"CLARITY_OHE\"])\n",
    "df = enc.fit(df).transform(df)\n",
    "np.array(df.columns)\n",
    "df.show()\n",
    "df.write.mode('overwrite').save_as_table('diamonds_transform')"
   ]
  },
  {
   "cell_type": "markdown",
   "metadata": {},
   "source": [
    "Model Training"
   ]
  },
  {
   "cell_type": "code",
   "execution_count": 19,
   "metadata": {},
   "outputs": [
    {
     "name": "stderr",
     "output_type": "stream",
     "text": [
      "WARNING:snowflake.snowpark.session:Package 'snowflake-telemetry-python' is not installed in the local environment. Your UDF might not work when the package is installed on the server but not on your local environment.\n",
      "WARNING:snowflake.snowpark.session:The version of package 'xgboost' in the local environment is 2.1.4, which does not fit the criteria for the requirement 'xgboost==2.1.1'. Your UDF might not work when the package version is different between the server and your local environment.\n",
      "2025-05-05 12:44:58.090849: I tensorflow/core/platform/cpu_feature_guard.cc:210] This TensorFlow binary is optimized to use available CPU instructions in performance-critical operations.\n",
      "To enable the following instructions: AVX2 FMA, in other operations, rebuild TensorFlow with the appropriate compiler flags.\n",
      "/Users/sanju/.pyenv/versions/ml/lib/python3.12/site-packages/snowflake/ml/model/model_signature.py:82: UserWarning: The sample input has 48528 rows, thus a truncation happened before inferring signature. This might cause inaccurate signature inference. If that happens, consider specifying signature manually.\n",
      "  warnings.warn(\n",
      "/Users/sanju/.pyenv/versions/ml/lib/python3.12/site-packages/snowflake/ml/modeling/_internal/snowpark_implementations/snowpark_handlers.py:126: UserWarning: Warning: The Decimal(7, 6) data type is being automatically converted to DoubleType in the Snowpark DataFrame. This automatic conversion may lead to potential precision loss and rounding errors. If you wish to prevent this conversion, you should manually perform the necessary data type conversion.\n",
      "  dataset = snowpark_dataframe_utils.cast_snowpark_dataframe_column_types(dataset)\n"
     ]
    },
    {
     "name": "stdout",
     "output_type": "stream",
     "text": [
      "-------------------------------\n",
      "|\"PRICE\"  |\"PREDICTED_PRICE\"  |\n",
      "-------------------------------\n",
      "|1960     |2049.34            |\n",
      "|1107     |1035.33            |\n",
      "|506      |477.57             |\n",
      "|394      |400.1              |\n",
      "|17841    |16864.77           |\n",
      "|3478     |3565.01            |\n",
      "|3539     |3424.09            |\n",
      "|2759     |2414.76            |\n",
      "|2893     |2750.83            |\n",
      "|2056     |2080.0             |\n",
      "-------------------------------\n",
      "\n"
     ]
    }
   ],
   "source": [
    "from snowflake.ml.modeling.ensemble import RandomForestRegressor\n",
    "\n",
    "session.query_tag = \"model-registry-demo\"\n",
    "train_df, test_df = df.random_split(weights=[0.9, 0.1], seed=0)\n",
    "\n",
    "model = RandomForestRegressor(\n",
    "    input_cols=[\"CUT_OE\", \"COLOR_OE\", \"CLARITY_OE\", \"CARAT\", \"DEPTH\", \"TABLE_PCT\", \"X\", \"Y\", \"Z\"],\n",
    "    label_cols=['PRICE'],\n",
    "    output_cols=['PREDICTED_PRICE'])\n",
    "model.fit(train_df)\n",
    "\n",
    "pred = model.predict(test_df)\n",
    "pred.select(\"PRICE\", \"PREDICTED_PRICE\").show()\n"
   ]
  },
  {
   "cell_type": "markdown",
   "metadata": {},
   "source": [
    "Model Registry"
   ]
  },
  {
   "cell_type": "code",
   "execution_count": 23,
   "metadata": {},
   "outputs": [
    {
     "name": "stderr",
     "output_type": "stream",
     "text": [
      "/Users/sanju/.pyenv/versions/ml/lib/python3.12/site-packages/snowflake/ml/model/_model_composer/model_composer.py:199: UserWarning: `relax_version` is not set and therefore defaulted to True. Dependency version constraints relaxed from ==x.y.z to >=x.y, <(x+1). To use specific dependency versions for compatibility, reproducibility, etc., set `options={'relax_version': False}` when logging the model.\n",
      "  self.manifest.save(\n"
     ]
    },
    {
     "data": {
      "text/html": [
       "<div>\n",
       "<style scoped>\n",
       "    .dataframe tbody tr th:only-of-type {\n",
       "        vertical-align: middle;\n",
       "    }\n",
       "\n",
       "    .dataframe tbody tr th {\n",
       "        vertical-align: top;\n",
       "    }\n",
       "\n",
       "    .dataframe thead th {\n",
       "        text-align: right;\n",
       "    }\n",
       "</style>\n",
       "<table border=\"1\" class=\"dataframe\">\n",
       "  <thead>\n",
       "    <tr style=\"text-align: right;\">\n",
       "      <th></th>\n",
       "      <th>created_on</th>\n",
       "      <th>name</th>\n",
       "      <th>model_type</th>\n",
       "      <th>database_name</th>\n",
       "      <th>schema_name</th>\n",
       "      <th>comment</th>\n",
       "      <th>owner</th>\n",
       "      <th>default_version_name</th>\n",
       "      <th>versions</th>\n",
       "      <th>aliases</th>\n",
       "    </tr>\n",
       "  </thead>\n",
       "  <tbody>\n",
       "    <tr>\n",
       "      <th>0</th>\n",
       "      <td>2025-05-04 19:55:44.027000-07:00</td>\n",
       "      <td>DIAMOND_PRICE_PREDICTOR</td>\n",
       "      <td>USER_MODEL</td>\n",
       "      <td>DATA_ALCHEMIST</td>\n",
       "      <td>DIAMONDS</td>\n",
       "      <td>None</td>\n",
       "      <td>ACCOUNTADMIN</td>\n",
       "      <td>V1</td>\n",
       "      <td>[\"V1\"]</td>\n",
       "      <td>{\"DEFAULT\":\"V1\",\"FIRST\":\"V1\",\"LAST\":\"V1\"}</td>\n",
       "    </tr>\n",
       "  </tbody>\n",
       "</table>\n",
       "</div>"
      ],
      "text/plain": [
       "                        created_on                     name  model_type  \\\n",
       "0 2025-05-04 19:55:44.027000-07:00  DIAMOND_PRICE_PREDICTOR  USER_MODEL   \n",
       "\n",
       "    database_name schema_name comment         owner default_version_name  \\\n",
       "0  DATA_ALCHEMIST    DIAMONDS    None  ACCOUNTADMIN                   V1   \n",
       "\n",
       "  versions                                    aliases  \n",
       "0   [\"V1\"]  {\"DEFAULT\":\"V1\",\"FIRST\":\"V1\",\"LAST\":\"V1\"}  "
      ]
     },
     "execution_count": 23,
     "metadata": {},
     "output_type": "execute_result"
    }
   ],
   "source": [
    "from snowflake.ml.registry import Registry\n",
    "\n",
    "registry = Registry(session=session)    \n",
    "model_ref = registry.log_model(\n",
    "    model,\n",
    "    model_name=\"Diamond_Price_Predictor\",\n",
    "    version_name=\"v1\",\n",
    "    comment=\"Random Forest Regressor for Diamonds\",\n",
    "    conda_dependencies=[\"scikit-learn\"])\n",
    "\n",
    "registry.show_models()"
   ]
  }
 ],
 "metadata": {
  "kernelspec": {
   "display_name": "ml",
   "language": "python",
   "name": "python3"
  },
  "language_info": {
   "codemirror_mode": {
    "name": "ipython",
    "version": 3
   },
   "file_extension": ".py",
   "mimetype": "text/x-python",
   "name": "python",
   "nbconvert_exporter": "python",
   "pygments_lexer": "ipython3",
   "version": "3.12.5"
  }
 },
 "nbformat": 4,
 "nbformat_minor": 2
}
