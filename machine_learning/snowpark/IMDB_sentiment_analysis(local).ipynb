{
 "cells": [
  {
   "cell_type": "markdown",
   "metadata": {},
   "source": [
    "# IMDB Reviews Sentiment Analysis"
   ]
  },
  {
   "cell_type": "code",
   "execution_count": null,
   "metadata": {},
   "outputs": [],
   "source": [
    "import sklearn.feature_extraction.text as txt\n",
    "from sklearn import svm\n",
    "from sklearn.metrics import accuracy_score\n",
    "from sklearn.metrics import r2_score\n",
    "from joblib import dump, load\n",
    "from snowflake.snowpark import functions as fn\n",
    "from snowflake.snowpark.session import Session\n",
    "from snowflake.ml.utils.connection_params import SnowflakeLoginOptions"
   ]
  },
  {
   "cell_type": "markdown",
   "metadata": {},
   "source": [
    "Connect to Snowflake IMDB database"
   ]
  },
  {
   "cell_type": "code",
   "execution_count": 3,
   "metadata": {},
   "outputs": [
    {
     "name": "stderr",
     "output_type": "stream",
     "text": [
      "SnowflakeLoginOptions() is in private preview since 0.2.0. Do not use it in production. \n"
     ]
    }
   ],
   "source": [
    "conn = SnowflakeLoginOptions(\"sanju\")\n",
    "conn[\"database\"] = \"IMDB\"\n",
    "session = Session.builder.configs(conn).create()\n",
    "session.query_tag = \"imdb_sentiment_1\""
   ]
  },
  {
   "cell_type": "markdown",
   "metadata": {},
   "source": [
    "Get training dataset"
   ]
  },
  {
   "cell_type": "code",
   "execution_count": 4,
   "metadata": {},
   "outputs": [
    {
     "name": "stdout",
     "output_type": "stream",
     "text": [
      "---------------------------------------------------------------------------------------\n",
      "|\"REVIEW\"                                            |\"SENTIMENT\"  |\"SENTIMENT_FLAG\"  |\n",
      "---------------------------------------------------------------------------------------\n",
      "|\"In Victorian times a father is separated from ...  |positive     |1                 |\n",
      "|\"When this film gets it right it really gets it...  |positive     |1                 |\n",
      "|\"What this film has is its realism , you really...  |negative     |2                 |\n",
      "|\"\"\"Like the first touch of pleasure and guilt, ...  |positive     |1                 |\n",
      "|\"This is a weird and compelling film. The topic...  |positive     |1                 |\n",
      "|\"Although I am not a Michael Jackson fan, I lik...  |positive     |1                 |\n",
      "|\"Tigerland follows the lives of a group of rece...  |positive     |1                 |\n",
      "|\"To all the reviewers on this page, I would hav...  |positive     |1                 |\n",
      "|\"I really should give this stinker more credit ...  |negative     |2                 |\n",
      "|\"Another one for the Babes & Bullets crowd. The...  |positive     |1                 |\n",
      "---------------------------------------------------------------------------------------\n",
      "\n"
     ]
    }
   ],
   "source": [
    "session.use_warehouse(\"ADHOC_WH\")\n",
    "df = session.table(\"TRAIN_DATASET\")\n",
    "df_flag = df.withColumn(\"SENTIMENT_FLAG\",\n",
    "    fn.when(df.SENTIMENT == \"positive\", 1).otherwise(2))\n",
    "train_x = df_flag.toPandas().REVIEW.values\n",
    "train_y = df_flag.toPandas().SENTIMENT_FLAG.values\n",
    "df_flag.show()\n"
   ]
  },
  {
   "cell_type": "markdown",
   "metadata": {},
   "source": [
    "Create word-count matrix"
   ]
  },
  {
   "cell_type": "code",
   "execution_count": 5,
   "metadata": {},
   "outputs": [
    {
     "data": {
      "text/plain": [
       "['../../scratchpad/imdb_review_vector.joblib']"
      ]
     },
     "execution_count": 5,
     "metadata": {},
     "output_type": "execute_result"
    }
   ],
   "source": [
    "# Parameter         | Meaning\n",
    "# -------------------|-------------------------------------------------------------------------------------------------------------\n",
    "# token_pattern     | \"[\\\\w']+\\\\w\\\\b\" - Regular expression that defines what counts as a \"token\" (word). Matches words, including contractions like \"don't\", \"it's\".\n",
    "# ngram_range       | (1, 2) - Extract unigrams (single words) and bigrams (two-word phrases). Ex: \"good\" and \"good movie\".\n",
    "# analyzer          | 'word' - Tells it to split text into words, not characters or custom logic.\n",
    "# max_df            | 0.02 - Ignore words that appear in more than 2% of the documents (likely too common to be meaningful, like \"the\", \"and\").\n",
    "# min_df            | 1 * 1./len(train_x) - Only keep words that appear in at least one document. (1 / number of documents). Basically, no rarest terms are filtered out.\n",
    "# vocabulary        | None - Build the vocabulary automatically from the training data (instead of fixing it beforehand).\n",
    "# binary            | True - Instead of counting how often a word appears, just mark 1 if it appears, 0 if not. (turns into binary presence/absence matrix).\n",
    "vector = txt.CountVectorizer(\n",
    "    token_pattern=\"[\\\\w']+\\\\w\\\\b\", ngram_range=(1, 2), analyzer='word', \n",
    "    max_df=0.02, min_df=1 * 1./len(train_x), vocabulary=None, binary=True)\n",
    "bow = vector.fit_transform(train_x)\n",
    "dump(vector, '../../scratchpad/imdb_review_vector.joblib', compress=True)"
   ]
  },
  {
   "cell_type": "markdown",
   "metadata": {},
   "source": [
    "Train model with SVM (Support Vector Machine) linear classifier"
   ]
  },
  {
   "cell_type": "code",
   "execution_count": 6,
   "metadata": {},
   "outputs": [
    {
     "name": "stderr",
     "output_type": "stream",
     "text": [
      "/Users/sanju/.pyenv/versions/ml/lib/python3.12/site-packages/sklearn/svm/_base.py:1235: ConvergenceWarning: Liblinear failed to converge, increase the number of iterations.\n",
      "  warnings.warn(\n"
     ]
    },
    {
     "name": "stdout",
     "output_type": "stream",
     "text": [
      "{'STATUS': 'SUCCESS', 'R2 Score Train': '1.0'}\n"
     ]
    }
   ],
   "source": [
    "svm_model = svm.LinearSVC(C=1.8, max_iter=100)\n",
    "svm_model.fit(bow, train_y)\n",
    "dump(svm_model, '../../scratchpad/imdb_review_svm_model.joblib', compress=True)\n",
    "\n",
    "print({ \"STATUS\": \"SUCCESS\", \"R2 Score Train\": str(svm_model.score(bow, train_y)) })"
   ]
  },
  {
   "cell_type": "markdown",
   "metadata": {},
   "source": [
    "Evaluate the Model:"
   ]
  },
  {
   "cell_type": "code",
   "execution_count": null,
   "metadata": {},
   "outputs": [
    {
     "name": "stdout",
     "output_type": "stream",
     "text": [
      "Accuracy on test data: 1.0\n",
      "R2 Score on test data: 1.0\n"
     ]
    }
   ],
   "source": [
    "# Load the previously saved vectorizer and model\n",
    "vector = load('../../scratchpad/imdb_review_vector.joblib')\n",
    "model = load('../../scratchpad/imdb_review_svm_model.joblib')\n",
    "\n",
    "# Load the test data from Snowflake (TEST_DATASET table)\n",
    "df_test = session.table(\"TEST_DATASET\")\n",
    "\n",
    "# Add the sentiment flag for test data\n",
    "df_test_flag = df_test.withColumn(\"SENTIMENT_FLAG\", \n",
    "    fn.when(df_test.SENTIMENT == \"positive\", 1).otherwise(2))\n",
    "\n",
    "# Extract the review text and sentiment labels for test data\n",
    "test_x = df_test_flag.toPandas().REVIEW.values\n",
    "test_y = df_test_flag.toPandas().SENTIMENT_FLAG.values\n",
    "\n",
    "# Transform the test data using the same vectorizer\n",
    "test_bow = vector.transform(test_x)\n",
    "\n",
    "# Make predictions on the test data\n",
    "predictions = model.predict(test_bow)\n",
    "\n",
    "# Calculate accuracy on the test data\n",
    "accuracy = accuracy_score(test_y, predictions)\n",
    "print(f\"Accuracy on test data: {accuracy}\")\n",
    "\n",
    "# Calculate R2 score\n",
    "r2 = r2_score(test_y, predictions)\n",
    "print(f\"R2 Score on test data: {r2}\")\n"
   ]
  }
 ],
 "metadata": {
  "kernelspec": {
   "display_name": "ml",
   "language": "python",
   "name": "python3"
  },
  "language_info": {
   "codemirror_mode": {
    "name": "ipython",
    "version": 3
   },
   "file_extension": ".py",
   "mimetype": "text/x-python",
   "name": "python",
   "nbconvert_exporter": "python",
   "pygments_lexer": "ipython3",
   "version": "3.12.5"
  }
 },
 "nbformat": 4,
 "nbformat_minor": 2
}
