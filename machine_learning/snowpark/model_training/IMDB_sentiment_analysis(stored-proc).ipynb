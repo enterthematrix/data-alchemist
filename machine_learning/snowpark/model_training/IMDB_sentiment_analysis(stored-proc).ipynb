{
 "cells": [
  {
   "cell_type": "markdown",
   "metadata": {},
   "source": [
    "# IMDB Reviews Sentiment Analysis"
   ]
  },
  {
   "cell_type": "markdown",
   "metadata": {},
   "source": [
    "Connect to Snowflake IMDB database"
   ]
  },
  {
   "cell_type": "code",
   "execution_count": 1,
   "metadata": {},
   "outputs": [
    {
     "name": "stderr",
     "output_type": "stream",
     "text": [
      "SnowflakeLoginOptions() is in private preview since 0.2.0. Do not use it in production. \n"
     ]
    }
   ],
   "source": [
    "import os\n",
    "import gzip\n",
    "import shutil\n",
    "import sklearn.feature_extraction.text as txt\n",
    "from sklearn import svm\n",
    "from sklearn.metrics import accuracy_score\n",
    "from sklearn.metrics import r2_score\n",
    "from joblib import dump, load\n",
    "from snowflake.snowpark import functions as fn\n",
    "from snowflake.snowpark.functions import sproc\n",
    "from snowflake.snowpark.types import Variant\n",
    "\n",
    "from snowflake.snowpark.session import Session\n",
    "from snowflake.ml.utils.connection_params import SnowflakeLoginOptions\n",
    "\n",
    "conn = SnowflakeLoginOptions(\"sanju\")\n",
    "conn[\"database\"] = \"IMDB\"\n",
    "session = Session.builder.configs(conn).create()\n",
    "session.query_tag = \"imdb_sentiment_1\""
   ]
  },
  {
   "cell_type": "markdown",
   "metadata": {},
   "source": [
    "Model training:"
   ]
  },
  {
   "cell_type": "code",
   "execution_count": 2,
   "metadata": {},
   "outputs": [],
   "source": [
    "# Function to train the IMDB sentiment analysis model\n",
    "def train_imdb_model(session: Session, train_dataset: str, tmp_dir: str):\n",
    "    df = session.table(\"TRAIN_DATASET\")\n",
    "    df_flag = df.withColumn(\"SENTIMENT_FLAG\",\n",
    "        fn.when(df.SENTIMENT == \"positive\", 1).otherwise(2))\n",
    "    train_x = df_flag.toPandas().REVIEW.values\n",
    "    train_y = df_flag.toPandas().SENTIMENT_FLAG.values\n",
    "    df_flag.show()\n",
    "\n",
    "    # Parameter         | Meaning\n",
    "    # -------------------|-------------------------------------------------------------------------------------------------------------\n",
    "    # token_pattern     | \"[\\\\w']+\\\\w\\\\b\" - Regular expression that defines what counts as a \"token\" (word). Matches words, including contractions like \"don't\", \"it's\".\n",
    "    # ngram_range       | (1, 2) - Extract unigrams (single words) and bigrams (two-word phrases). Ex: \"good\" and \"good movie\".\n",
    "    # analyzer          | 'word' - Tells it to split text into words, not characters or custom logic.\n",
    "    # max_df            | 0.02 - Ignore words that appear in more than 2% of the documents (likely too common to be meaningful, like \"the\", \"and\").\n",
    "    # min_df            | 1 * 1./len(train_x) - Only keep words that appear in at least one document. (1 / number of documents). Basically, no rarest terms are filtered out.\n",
    "    # vocabulary        | None - Build the vocabulary automatically from the training data (instead of fixing it beforehand).\n",
    "    # binary            | True - Instead of counting how often a word appears, just mark 1 if it appears, 0 if not. (turns into binary presence/absence matrix).\n",
    "    vector = txt.CountVectorizer(\n",
    "        token_pattern=\"[\\\\w']+\\\\w\\\\b\", ngram_range=(1, 2), analyzer='word', \n",
    "        max_df=0.02, min_df=1 * 1./len(train_x), vocabulary=None, binary=True)\n",
    "    bow = vector.fit_transform(train_x)\n",
    "    filename = f'{tmp_dir}imdb_review_vector.joblib'\n",
    "    dump(vector, filename, compress=True)\n",
    "    session.file.put(filename, \"@models\", auto_compress=True, overwrite=True)\n",
    "\n",
    "    svm_model = svm.LinearSVC(C=1.8, max_iter=100)\n",
    "    svm_model.fit(bow, train_y)\n",
    "    filename = f'{tmp_dir}imdb_review_svm_model.joblib'\n",
    "    dump(svm_model, filename, compress=True)\n",
    "    session.file.put(filename, \"@models\", auto_compress=True, overwrite=True)\n",
    "\n",
    "    # print({ \"STATUS\": \"SUCCESS\", \"R2 Score Train\": str(svm_model.score(bow, train_y)) })\n",
    "    return {\n",
    "    \"STATUS\": \"SUCCESS\",\n",
    "    \"R2_Score_Train\": str(svm_model.score(bow, train_y))\n",
    "}\n"
   ]
  },
  {
   "cell_type": "markdown",
   "metadata": {},
   "source": [
    "Evaluate the Model:"
   ]
  },
  {
   "cell_type": "code",
   "execution_count": 3,
   "metadata": {},
   "outputs": [],
   "source": [
    "# Function to test the IMDB sentiment analysis model\n",
    "def test_imdb_model(session: Session, test_dataset: str, tmp_dir: str):\n",
    "    # Download the vectorizer and model files from @models stage to tmp_dir\n",
    "    session.file.get(\"@models/imdb_review_vector.joblib\", tmp_dir)\n",
    "    session.file.get(\"@models/imdb_review_svm_model.joblib\", tmp_dir)\n",
    "\n",
    "    # Load the vectorizer and model from temp directory\n",
    "    # Decompress the .gz files\n",
    "    vector_gz_path = os.path.join(tmp_dir, \"imdb_review_vector.joblib.gz\")\n",
    "    model_gz_path = os.path.join(tmp_dir, \"imdb_review_svm_model.joblib.gz\")\n",
    "\n",
    "    vector_path = os.path.join(tmp_dir, \"imdb_review_vector.joblib\")\n",
    "    model_path = os.path.join(tmp_dir, \"imdb_review_svm_model.joblib\")\n",
    "\n",
    "    with gzip.open(vector_gz_path, 'rb') as f_in, open(vector_path, 'wb') as f_out:\n",
    "        shutil.copyfileobj(f_in, f_out)\n",
    "    with gzip.open(model_gz_path, 'rb') as f_in, open(model_path, 'wb') as f_out:\n",
    "        shutil.copyfileobj(f_in, f_out)\n",
    "\n",
    "    # Now load the vectorizer and model\n",
    "    vector = load(vector_path)\n",
    "    model = load(model_path)\n",
    "\n",
    "    # Load the test data from Snowflake (TEST_DATASET table)\n",
    "    df_test = session.table(\"TEST_DATASET\")\n",
    "\n",
    "    # Add the sentiment flag for test data\n",
    "    df_test_flag = df_test.withColumn(\"SENTIMENT_FLAG\", \n",
    "        fn.when(df_test.SENTIMENT == \"positive\", 1).otherwise(2))\n",
    "\n",
    "    # Extract the review text and sentiment labels for test data\n",
    "    test_x = df_test_flag.toPandas().REVIEW.values\n",
    "    test_y = df_test_flag.toPandas().SENTIMENT_FLAG.values\n",
    "\n",
    "    # Transform the test data using the same vectorizer\n",
    "    test_bow = vector.transform(test_x)\n",
    "\n",
    "    # Make predictions on the test data\n",
    "    predictions = model.predict(test_bow)\n",
    "\n",
    "    # Calculate accuracy on the test data\n",
    "    accuracy = accuracy_score(test_y, predictions)\n",
    "    # Calculate R2 score\n",
    "    r2 = r2_score(test_y, predictions)\n",
    "    \n",
    "    return { \"accuracy\": str(accuracy), \"r2_score\": str(r2) }\n"
   ]
  },
  {
   "cell_type": "markdown",
   "metadata": {},
   "source": [
    "Deploy the functions as a Snowflake stored proc"
   ]
  },
  {
   "cell_type": "code",
   "execution_count": null,
   "metadata": {},
   "outputs": [],
   "source": [
    "session.use_warehouse(\"ADHOC_WH\")\n",
    "session.use_database(\"IMDB\")\n",
    "session.use_schema(\"PUBLIC\")\n",
    "@sproc(name='train_imdb_sp', is_permanent=True, stage_location='@files', replace=True,\n",
    "    imports=[], packages=['snowflake-snowpark-python',\n",
    "    'scikit-learn', 'pandas', 'numpy', 'nltk', 'joblib', 'cachetools'])\n",
    "def train_imdb_sp(session: Session, train_dataset_name: str, tmp_dir: str) -> Variant:\n",
    "    return train_imdb_model(session, train_dataset_name, tmp_dir)\n",
    "\n",
    "@sproc(name='test_imdb_sp', is_permanent=True, stage_location='@files', replace=True,\n",
    "    imports=[], packages=['snowflake-snowpark-python',\n",
    "    'scikit-learn', 'pandas', 'numpy', 'nltk', 'joblib', 'cachetools'])\n",
    "def test_imdb_sp(session: Session, test_dataset_name: str, tmp_dir: str) -> Variant:\n",
    "    return test_imdb_model(session, test_dataset_name, tmp_dir)\n",
    "\n"
   ]
  },
  {
   "cell_type": "markdown",
   "metadata": {},
   "source": [
    "Model Training / Test results:"
   ]
  },
  {
   "cell_type": "code",
   "execution_count": 6,
   "metadata": {},
   "outputs": [
    {
     "name": "stdout",
     "output_type": "stream",
     "text": [
      "Model Training Results:\n",
      "{\n",
      "  \"R2_Score_Train\": \"1.0\",\n",
      "  \"STATUS\": \"SUCCESS\"\n",
      "}\n",
      "------------------------------------------------------------------------------------------------------------------------\n",
      "|\"name\"                                  |\"size\"    |\"md5\"                             |\"last_modified\"                |\n",
      "------------------------------------------------------------------------------------------------------------------------\n",
      "|models/imdb_review_svm_model.joblib.gz  |10823392  |3c282adf2033c7db15f79e511b37f158  |Mon, 28 Apr 2025 23:48:59 GMT  |\n",
      "|models/imdb_review_vector.joblib.gz     |27844896  |6e2f6c26089457c3539342cc1bf63430  |Mon, 28 Apr 2025 23:48:52 GMT  |\n",
      "------------------------------------------------------------------------------------------------------------------------\n",
      "\n",
      "Model Test Results:\n",
      "{\n",
      "  \"accuracy\": \"1.0\",\n",
      "  \"r2_score\": \"1.0\"\n",
      "}\n"
     ]
    }
   ],
   "source": [
    "\n",
    "print(\"Model Training Results:\")\n",
    "print(session.call(\"train_imdb_sp\", \"TRAIN_DATASET\",\"/tmp/\"))\n",
    "\n",
    "session.sql(\"LS @MODELS\").show()\n",
    "\n",
    "print(\"Model Test Results:\")\n",
    "print(session.call(\"test_imdb_sp\", \"TEST_DATASET\",\"/tmp/\"))\n",
    "\n"
   ]
  }
 ],
 "metadata": {
  "kernelspec": {
   "display_name": "ml",
   "language": "python",
   "name": "python3"
  },
  "language_info": {
   "codemirror_mode": {
    "name": "ipython",
    "version": 3
   },
   "file_extension": ".py",
   "mimetype": "text/x-python",
   "name": "python",
   "nbconvert_exporter": "python",
   "pygments_lexer": "ipython3",
   "version": "3.12.5"
  }
 },
 "nbformat": 4,
 "nbformat_minor": 2
}
