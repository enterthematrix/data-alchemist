{
 "cells": [
  {
   "cell_type": "markdown",
   "metadata": {},
   "source": [
    "Connect to Snowflake and get the IMDB test dataset"
   ]
  },
  {
   "cell_type": "code",
   "execution_count": 1,
   "metadata": {},
   "outputs": [
    {
     "name": "stderr",
     "output_type": "stream",
     "text": [
      "SnowflakeLoginOptions() is in private preview since 0.2.0. Do not use it in production. \n"
     ]
    },
    {
     "name": "stdout",
     "output_type": "stream",
     "text": [
      "---------------------------------------------------------------------------------------\n",
      "|\"REVIEW\"                                            |\"SENTIMENT\"  |\"SENTIMENT_FLAG\"  |\n",
      "---------------------------------------------------------------------------------------\n",
      "|aking this film into a monumental success simpl...  |negative     |2                 |\n",
      "|\"I remember seeing this film years ago on, I th...  |positive     |1                 |\n",
      "|\"A truly masterful piece of filmmaking. It mana...  |negative     |2                 |\n",
      "|\"Terrible. There's no way to get around it. A s...  |negative     |2                 |\n",
      "|\"Take a few dark and stormy nights, fog coming ...  |negative     |2                 |\n",
      "|\"I enjoyed the beautiful scenery in this movie ...  |negative     |2                 |\n",
      "|\"*********Ten out of Ten Stars********* <br /><...  |positive     |1                 |\n",
      "|\"This film was total rubbish. I was sitting wat...  |negative     |2                 |\n",
      "|\"Lady and the Tramp II: Scamp's Adventure is a ...  |positive     |1                 |\n",
      "|\"I saw this film before two weeks. It's kitsch,...  |negative     |2                 |\n",
      "---------------------------------------------------------------------------------------\n",
      "\n"
     ]
    }
   ],
   "source": [
    "import cachetools\n",
    "from snowflake.snowpark import functions as fn\n",
    "from snowflake.snowpark.functions import col, udf\n",
    "from snowflake.snowpark.types import PandasDataFrame, PandasSeries\n",
    "from snowflake.snowpark.session import Session\n",
    "from snowflake.ml.utils.connection_params import SnowflakeLoginOptions\n",
    "\n",
    "conn = SnowflakeLoginOptions(\"sanju\")\n",
    "conn[\"database\"] = \"IMDB\"\n",
    "session = Session.builder.configs(conn).create()\n",
    "session.use_warehouse(\"ADHOC_WH\")\n",
    "session.use_database(\"IMDB\")\n",
    "session.use_schema(\"PUBLIC\")\n",
    "session.query_tag = \"imdb-sentiment-serving\"\n",
    "\n",
    "test_dataset = session.table(\"TEST_DATASET\")\n",
    "df = test_dataset.withColumn(\"SENTIMENT_FLAG\",\n",
    "    fn.when(test_dataset.SENTIMENT == \"positive\", 1).otherwise(2))\n",
    "df.show()"
   ]
  },
  {
   "cell_type": "markdown",
   "metadata": {},
   "source": [
    "Prepare imports and packages for the UDFs"
   ]
  },
  {
   "cell_type": "code",
   "execution_count": 2,
   "metadata": {},
   "outputs": [
    {
     "name": "stderr",
     "output_type": "stream",
     "text": [
      "WARNING:snowflake.snowpark.session:The version of package 'cachetools' in the local environment is 5.5.2, which does not fit the criteria for the requirement 'cachetools'. Your UDF might not work when the package version is different between the server and your local environment.\n"
     ]
    }
   ],
   "source": [
    "# Load the previously saved vector & model\n",
    "session.clear_imports()\n",
    "session.add_import(\"@models/imdb_review_vector.joblib\")\n",
    "session.add_import(\"@models/imdb_review_svm_model.joblib\")\n",
    "\n",
    "\n",
    "session.clear_packages()\n",
    "session.add_packages(\"snowflake-snowpark-python\",\n",
    "    \"scikit-learn\", \"pandas\", \"numpy\", \"nltk\", \"joblib\", \"cachetools\")"
   ]
  },
  {
   "cell_type": "markdown",
   "metadata": {},
   "source": [
    "Caching utility function for optimizing our UDF"
   ]
  },
  {
   "cell_type": "code",
   "execution_count": 3,
   "metadata": {},
   "outputs": [],
   "source": [
    "@cachetools.cached(cache={})\n",
    "def load_file(filename):\n",
    "    \n",
    "    import os, sys, joblib\n",
    "    import_dir = sys._xoptions.get(\"snowflake_import_directory\") # snowflake_import_directory is internal snowflake location where previously imported files(model & vector) are stored\n",
    "    if import_dir:\n",
    "        with open(os.path.join(import_dir, filename), 'rb') as file:\n",
    "            return joblib.load(file)"
   ]
  },
  {
   "cell_type": "markdown",
   "metadata": {},
   "source": [
    "Non-vectorized UDF for model inference"
   ]
  },
  {
   "cell_type": "code",
   "execution_count": null,
   "metadata": {},
   "outputs": [
    {
     "name": "stdout",
     "output_type": "stream",
     "text": [
      "{'queries': ['SELECT \"REVIEW\", \"SENTIMENT\",  CASE  WHEN (\"SENTIMENT\" = \\'positive\\') THEN 1 :: INT ELSE 2 :: INT END  AS \"SENTIMENT_FLAG\", imdb_predict_review(\"REVIEW\") AS \"PREDICTED_REVIEW\" FROM TEST_DATASET'], 'post_actions': []}\n",
      "------------------------------------------------------------------------------------------------------------\n",
      "|\"REVIEW\"                                            |\"SENTIMENT\"  |\"SENTIMENT_FLAG\"  |\"PREDICTED_REVIEW\"  |\n",
      "------------------------------------------------------------------------------------------------------------\n",
      "|aking this film into a monumental success simpl...  |negative     |2                 |2.0                 |\n",
      "|\"I remember seeing this film years ago on, I th...  |positive     |1                 |1.0                 |\n",
      "|\"A truly masterful piece of filmmaking. It mana...  |negative     |2                 |2.0                 |\n",
      "|\"Terrible. There's no way to get around it. A s...  |negative     |2                 |2.0                 |\n",
      "|\"Take a few dark and stormy nights, fog coming ...  |negative     |2                 |2.0                 |\n",
      "|\"I enjoyed the beautiful scenery in this movie ...  |negative     |2                 |2.0                 |\n",
      "|\"*********Ten out of Ten Stars********* <br /><...  |positive     |1                 |1.0                 |\n",
      "|\"This film was total rubbish. I was sitting wat...  |negative     |2                 |2.0                 |\n",
      "|\"Lady and the Tramp II: Scamp's Adventure is a ...  |positive     |1                 |1.0                 |\n",
      "|\"I saw this film before two weeks. It's kitsch,...  |negative     |2                 |2.0                 |\n",
      "------------------------------------------------------------------------------------------------------------\n",
      "\n"
     ]
    }
   ],
   "source": [
    "@udf(name='imdb_predict_review', is_permanent=True, stage_location='@files', replace=True)\n",
    "def imdb_predict_review(review: str) -> float:\n",
    "    \n",
    "    import pandas as pd\n",
    "    row = pd.DataFrame([review], columns=[\"REVIEW\"])\n",
    "    bowTest = load_file(\"imdb_review_vector.joblib\").transform(row.REVIEW.values)\n",
    "    return load_file(\"imdb_review_svm_model.joblib\").predict(bowTest)\n",
    "\n",
    "\n",
    "# alternative to register UDF\n",
    "# session.udf.register(func=predict_review, name=\"predict_review\",\n",
    "#    is_permanent=True, stage_location='@files', replace=True)\n",
    "\n",
    "query = df.select(df.REVIEW, df.SENTIMENT, df.SENTIMENT_FLAG,\n",
    "    fn.call_udf(\"imdb_predict_review\", col(\"REVIEW\")).alias('PREDICTED_REVIEW'))\n",
    "print(query.queries)\n",
    "query.show()"
   ]
  },
  {
   "cell_type": "markdown",
   "metadata": {},
   "source": [
    "Vectorized UDF for model inference"
   ]
  },
  {
   "cell_type": "code",
   "execution_count": 6,
   "metadata": {},
   "outputs": [
    {
     "name": "stdout",
     "output_type": "stream",
     "text": [
      "{'queries': ['SELECT \"REVIEW\", \"SENTIMENT\",  CASE  WHEN (\"SENTIMENT\" = \\'positive\\') THEN 1 :: INT ELSE 2 :: INT END  AS \"SENTIMENT_FLAG\", imdb_predict_review_v(\"REVIEW\") AS \"PREDICTED_REVIEW\" FROM TEST_DATASET'], 'post_actions': []}\n",
      "------------------------------------------------------------------------------------------------------------\n",
      "|\"REVIEW\"                                            |\"SENTIMENT\"  |\"SENTIMENT_FLAG\"  |\"PREDICTED_REVIEW\"  |\n",
      "------------------------------------------------------------------------------------------------------------\n",
      "|aking this film into a monumental success simpl...  |negative     |2                 |2.0                 |\n",
      "|\"I remember seeing this film years ago on, I th...  |positive     |1                 |1.0                 |\n",
      "|\"A truly masterful piece of filmmaking. It mana...  |negative     |2                 |2.0                 |\n",
      "|\"Terrible. There's no way to get around it. A s...  |negative     |2                 |2.0                 |\n",
      "|\"Take a few dark and stormy nights, fog coming ...  |negative     |2                 |2.0                 |\n",
      "|\"I enjoyed the beautiful scenery in this movie ...  |negative     |2                 |2.0                 |\n",
      "|\"*********Ten out of Ten Stars********* <br /><...  |positive     |1                 |1.0                 |\n",
      "|\"This film was total rubbish. I was sitting wat...  |negative     |2                 |2.0                 |\n",
      "|\"Lady and the Tramp II: Scamp's Adventure is a ...  |positive     |1                 |1.0                 |\n",
      "|\"I saw this film before two weeks. It's kitsch,...  |negative     |2                 |2.0                 |\n",
      "------------------------------------------------------------------------------------------------------------\n",
      "\n"
     ]
    }
   ],
   "source": [
    "@udf(name=\"imdb_predict_review_v\", is_permanent=True, stage_location='@files', replace=True)\n",
    "def imdb_predict_review_v(df: PandasDataFrame[str]) -> PandasSeries[float]:\n",
    "\n",
    "    vec = load_file(\"imdb_review_vector.joblib\")\n",
    "    bowTest = vec.transform(df[0].values)\n",
    "\n",
    "    model = load_file(\"imdb_review_svm_model.joblib\")\n",
    "    return model.predict(bowTest)\n",
    "\n",
    "\n",
    "query = df.select(df.REVIEW, df.SENTIMENT, df.SENTIMENT_FLAG,\n",
    "        fn.call_udf(\"imdb_predict_review_v\", col(\"REVIEW\")\n",
    "    ).alias('PREDICTED_REVIEW'))\n",
    "print(query.queries)\n",
    "query.show()"
   ]
  }
 ],
 "metadata": {
  "kernelspec": {
   "display_name": "ml",
   "language": "python",
   "name": "python3"
  },
  "language_info": {
   "codemirror_mode": {
    "name": "ipython",
    "version": 3
   },
   "file_extension": ".py",
   "mimetype": "text/x-python",
   "name": "python",
   "nbconvert_exporter": "python",
   "pygments_lexer": "ipython3",
   "version": "3.12.5"
  }
 },
 "nbformat": 4,
 "nbformat_minor": 2
}
